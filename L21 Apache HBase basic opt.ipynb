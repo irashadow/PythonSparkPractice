{
 "cells": [
  {
   "cell_type": "code",
   "execution_count": 2,
   "metadata": {
    "collapsed": true
   },
   "outputs": [],
   "source": [
    "import happybase"
   ]
  },
  {
   "cell_type": "code",
   "execution_count": 84,
   "metadata": {
    "collapsed": true
   },
   "outputs": [],
   "source": [
    "connection = happybase.Connection('localhost', autoconnect=False)\n",
    "\n",
    "# before first use:\n",
    "connection.open()"
   ]
  },
  {
   "cell_type": "code",
   "execution_count": 79,
   "metadata": {
    "collapsed": false
   },
   "outputs": [
    {
     "name": "stdout",
     "output_type": "stream",
     "text": [
      "['mytable', 'test']\n"
     ]
    }
   ],
   "source": [
    "print(connection.tables())"
   ]
  },
  {
   "cell_type": "markdown",
   "metadata": {
    "collapsed": true
   },
   "source": [
    "# Working with tables"
   ]
  },
  {
   "cell_type": "code",
   "execution_count": 106,
   "metadata": {
    "collapsed": false
   },
   "outputs": [],
   "source": [
    "table = happybase.Connection('localhost').table('test')"
   ]
  },
  {
   "cell_type": "code",
   "execution_count": 85,
   "metadata": {
    "collapsed": false
   },
   "outputs": [],
   "source": [
    "table = connection.table('test')"
   ]
  },
  {
   "cell_type": "code",
   "execution_count": 70,
   "metadata": {
    "collapsed": false
   },
   "outputs": [],
   "source": [
    "table.put('row4', {'cf:d': 'value4'})"
   ]
  },
  {
   "cell_type": "code",
   "execution_count": 72,
   "metadata": {
    "collapsed": false
   },
   "outputs": [
    {
     "name": "stdout",
     "output_type": "stream",
     "text": [
      "value4\n"
     ]
    }
   ],
   "source": [
    "row = table.row('row4')\n",
    "print(row['cf:d'])"
   ]
  },
  {
   "cell_type": "code",
   "execution_count": 73,
   "metadata": {
    "collapsed": false
   },
   "outputs": [
    {
     "name": "stdout",
     "output_type": "stream",
     "text": [
      "('row1', {'cf:a': 'value1'})\n",
      "('row2', {'cf:b': 'value2'})\n"
     ]
    }
   ],
   "source": [
    "for key, data in table.rows(['row1', 'row2']):\n",
    "    print(key, data)"
   ]
  },
  {
   "cell_type": "code",
   "execution_count": 74,
   "metadata": {
    "collapsed": false
   },
   "outputs": [
    {
     "name": "stdout",
     "output_type": "stream",
     "text": [
      "('row1', {'cf:a': 'value1'})\n",
      "('row2', {'cf:b': 'value2'})\n",
      "('row3', {'cf:c': 'value3'})\n",
      "('row4', {'cf:d': 'value4'})\n"
     ]
    }
   ],
   "source": [
    "for key, data in table.scan(row_prefix=b'row'):\n",
    "    print(key, data)"
   ]
  },
  {
   "cell_type": "code",
   "execution_count": 82,
   "metadata": {
    "collapsed": false
   },
   "outputs": [
    {
     "name": "stdout",
     "output_type": "stream",
     "text": [
      "{'row1': {'cf:a': 'value1'}, 'row2': {'cf:b': 'value2'}}\n"
     ]
    }
   ],
   "source": [
    "rows_as_dict = dict(table.rows(['row1', 'row2']))\n",
    "print rows_as_dict"
   ]
  },
  {
   "cell_type": "code",
   "execution_count": 88,
   "metadata": {
    "collapsed": false
   },
   "outputs": [
    {
     "name": "stdout",
     "output_type": "stream",
     "text": [
      "OrderedDict([('row1', {'cf:a': 'value1'}), ('row2', {'cf:b': 'value2'})])\n"
     ]
    }
   ],
   "source": [
    "from collections import OrderedDict\n",
    "rows_as_ordered_dict = OrderedDict(table.rows([b'row1', b'row2']))\n",
    "print rows_as_ordered_dict"
   ]
  },
  {
   "cell_type": "markdown",
   "metadata": {},
   "source": [
    "# Making more fine-grained selections"
   ]
  },
  {
   "cell_type": "code",
   "execution_count": 89,
   "metadata": {
    "collapsed": true
   },
   "outputs": [],
   "source": [
    "table = happybase.Connection('localhost').table('test')"
   ]
  },
  {
   "cell_type": "code",
   "execution_count": 91,
   "metadata": {
    "collapsed": true
   },
   "outputs": [],
   "source": [
    "table.put('row1', {'cf:a0': 'value0'})"
   ]
  },
  {
   "cell_type": "code",
   "execution_count": 92,
   "metadata": {
    "collapsed": false
   },
   "outputs": [
    {
     "name": "stdout",
     "output_type": "stream",
     "text": [
      "value1\n",
      "value0\n"
     ]
    }
   ],
   "source": [
    "row = table.row('row1', columns=['cf:a','cf:a0'])\n",
    "print(row[b'cf:a'])\n",
    "print(row[b'cf:a0'])"
   ]
  },
  {
   "cell_type": "code",
   "execution_count": 95,
   "metadata": {
    "collapsed": false
   },
   "outputs": [
    {
     "name": "stdout",
     "output_type": "stream",
     "text": [
      "{'cf:a': 'value1'}\n"
     ]
    }
   ],
   "source": [
    "row = table.row('row1', columns=['cf:a'])\n",
    "print row"
   ]
  },
  {
   "cell_type": "code",
   "execution_count": 102,
   "metadata": {
    "collapsed": false
   },
   "outputs": [
    {
     "name": "stdout",
     "output_type": "stream",
     "text": [
      "value1\n",
      "1485924383141\n"
     ]
    }
   ],
   "source": [
    "row = table.row('row1', columns=['cf:a'], include_timestamp=True)\n",
    "value, timestamp = row[b'cf:a']\n",
    "print value\n",
    "print timestamp"
   ]
  },
  {
   "cell_type": "markdown",
   "metadata": {},
   "source": [
    "In HBase, each cell has a timestamp attached to it. In case you don’t want to work with the latest version of data stored in HBase, the methods that retrieve data from the database, e.g. Table.row(), all accept a timestamp argument that specifies that the results should be restricted to values with a timestamp up to the specified timestamp:"
   ]
  },
  {
   "cell_type": "code",
   "execution_count": 104,
   "metadata": {
    "collapsed": false
   },
   "outputs": [
    {
     "name": "stdout",
     "output_type": "stream",
     "text": [
      "{'cf:a': 'value1', 'cf:a0': 'value0'}\n"
     ]
    }
   ],
   "source": [
    "row = table.row('row1', timestamp=2485924383141)\n",
    "print row"
   ]
  },
  {
   "cell_type": "markdown",
   "metadata": {},
   "source": [
    "HBase supports storing multiple versions of the same cell. This can be configured for each column family. To retrieve all versions of a column for a given row, Table.cells() can be used. This method returns an ordered list of cells, with the most recent version coming first. The versions argument specifies the maximum number of versions to return. Just like the methods that retrieve rows, the include_timestamp argument determines whether timestamps are included in the result. Example:"
   ]
  },
  {
   "cell_type": "code",
   "execution_count": 107,
   "metadata": {
    "collapsed": false
   },
   "outputs": [
    {
     "name": "stdout",
     "output_type": "stream",
     "text": [
      "Cell data: value1\n"
     ]
    }
   ],
   "source": [
    "values = table.cells(b'row1', b'cf:a', versions=2)\n",
    "for value in values:\n",
    "    print(\"Cell data: {}\".format(value))"
   ]
  },
  {
   "cell_type": "code",
   "execution_count": 108,
   "metadata": {
    "collapsed": false
   },
   "outputs": [
    {
     "name": "stdout",
     "output_type": "stream",
     "text": [
      "Cell data at 1485924383141: value1\n"
     ]
    }
   ],
   "source": [
    "cells = table.cells(b'row1', b'cf:a', versions=3, include_timestamp=True)\n",
    "for value, timestamp in cells:\n",
    "    print(\"Cell data at {}: {}\".format(timestamp, value))"
   ]
  },
  {
   "cell_type": "markdown",
   "metadata": {},
   "source": [
    "# Scanning over rows in a table"
   ]
  },
  {
   "cell_type": "code",
   "execution_count": 109,
   "metadata": {
    "collapsed": true
   },
   "outputs": [],
   "source": [
    "table = happybase.Connection('localhost').table('test')"
   ]
  },
  {
   "cell_type": "code",
   "execution_count": 110,
   "metadata": {
    "collapsed": false
   },
   "outputs": [
    {
     "name": "stdout",
     "output_type": "stream",
     "text": [
      "('row1', {'cf:a': 'value1', 'cf:a0': 'value0'})\n",
      "('row2', {'cf:b': 'value2'})\n",
      "('row3', {'cf:c': 'value3'})\n",
      "('row4', {'cf:d': 'value4'})\n"
     ]
    }
   ],
   "source": [
    "for key, data in table.scan():\n",
    "    print(key, data)"
   ]
  },
  {
   "cell_type": "code",
   "execution_count": 115,
   "metadata": {
    "collapsed": false
   },
   "outputs": [
    {
     "name": "stdout",
     "output_type": "stream",
     "text": [
      "('row2', {'cf:b': 'value2'})\n",
      "('row3', {'cf:c': 'value3'})\n",
      "('row4', {'cf:d': 'value4'})\n"
     ]
    }
   ],
   "source": [
    "for key, data in table.scan(row_start='row2'):\n",
    "    print(key, data)"
   ]
  },
  {
   "cell_type": "markdown",
   "metadata": {},
   "source": [
    "To iterate over all rows from the start of the table up to row xyz, use this:"
   ]
  },
  {
   "cell_type": "code",
   "execution_count": 114,
   "metadata": {
    "collapsed": false
   },
   "outputs": [
    {
     "name": "stdout",
     "output_type": "stream",
     "text": [
      "('row1', {'cf:a': 'value1', 'cf:a0': 'value0'})\n",
      "('row2', {'cf:b': 'value2'})\n"
     ]
    }
   ],
   "source": [
    "for key, data in table.scan(row_stop='row3'):\n",
    "    print(key, data)"
   ]
  },
  {
   "cell_type": "code",
   "execution_count": 116,
   "metadata": {
    "collapsed": false
   },
   "outputs": [
    {
     "name": "stdout",
     "output_type": "stream",
     "text": [
      "('row1', {'cf:a': 'value1', 'cf:a0': 'value0'})\n",
      "('row2', {'cf:b': 'value2'})\n"
     ]
    }
   ],
   "source": [
    "for key, data in table.scan(row_start='row1', row_stop='row3'):\n",
    "    print(key, data)"
   ]
  },
  {
   "cell_type": "markdown",
   "metadata": {},
   "source": [
    "An alternative is to use a key prefix. For example, to iterate over all rows starting with abc:"
   ]
  },
  {
   "cell_type": "code",
   "execution_count": 119,
   "metadata": {
    "collapsed": false
   },
   "outputs": [
    {
     "name": "stdout",
     "output_type": "stream",
     "text": [
      "('row1', {'cf:a': 'value1', 'cf:a0': 'value0'})\n",
      "('row2', {'cf:b': 'value2'})\n",
      "('row3', {'cf:c': 'value3'})\n",
      "('row4', {'cf:d': 'value4'})\n"
     ]
    }
   ],
   "source": [
    "for key, data in table.scan(row_prefix='ro'):\n",
    "    print(key, data)"
   ]
  },
  {
   "cell_type": "markdown",
   "metadata": {},
   "source": [
    "# Storing data"
   ]
  },
  {
   "cell_type": "code",
   "execution_count": 122,
   "metadata": {
    "collapsed": true
   },
   "outputs": [],
   "source": [
    "table = happybase.Connection('localhost').table('test')"
   ]
  },
  {
   "cell_type": "code",
   "execution_count": 123,
   "metadata": {
    "collapsed": false
   },
   "outputs": [],
   "source": [
    "table.put('row5', {'cf:e0': b'value5-0',\n",
    "                   'cf:e1': b'value5-1'})\n",
    "table.put('row6', {'cf:f0': b'value6-0',\n",
    "                   'cf:f1': b'value6-1'})"
   ]
  },
  {
   "cell_type": "code",
   "execution_count": 140,
   "metadata": {
    "collapsed": true
   },
   "outputs": [],
   "source": [
    "table.put('row7', {b'cf:g': b'value8'})"
   ]
  },
  {
   "cell_type": "code",
   "execution_count": 141,
   "metadata": {
    "collapsed": false
   },
   "outputs": [
    {
     "name": "stdout",
     "output_type": "stream",
     "text": [
      "('row1', {'cf:a': 'value1', 'cf:a0': 'value0'})\n",
      "('row2', {'cf:b': 'value2'})\n",
      "('row3', {'cf:c': 'value3'})\n",
      "('row4', {'cf:d': 'value4'})\n",
      "('row5', {'cf:e1': 'value5-1', 'cf:e0': 'value5-0'})\n",
      "('row6', {'cf:f0': 'value6-0', 'cf:f1': 'value6-1'})\n",
      "('row7', {'cf:g': 'value8'})\n",
      "('row8', {'cf:h0': 'value8-0', 'cf:h1': 'value8-1'})\n",
      "('row9', {'cf:i1': 'value9-1', 'cf:i0': 'value9-0'})\n"
     ]
    }
   ],
   "source": [
    "for key, data in table.scan(row_prefix='ro'):\n",
    "    print(key, data)"
   ]
  },
  {
   "cell_type": "markdown",
   "metadata": {},
   "source": [
    "# Deleting data"
   ]
  },
  {
   "cell_type": "code",
   "execution_count": 127,
   "metadata": {
    "collapsed": true
   },
   "outputs": [],
   "source": [
    "table = happybase.Connection('localhost').table('test')"
   ]
  },
  {
   "cell_type": "code",
   "execution_count": 128,
   "metadata": {
    "collapsed": false
   },
   "outputs": [
    {
     "name": "stdout",
     "output_type": "stream",
     "text": [
      "('row1', {'cf:a': 'value1', 'cf:a0': 'value0'})\n",
      "('row2', {'cf:b': 'value2'})\n",
      "('row3', {'cf:c': 'value3'})\n",
      "('row4', {'cf:d': 'value4'})\n",
      "('row5', {'cf:e1': 'value5-1', 'cf:e0': 'value5-0'})\n",
      "('row6', {'cf:f0': 'value6-0', 'cf:f1': 'value6-1'})\n"
     ]
    }
   ],
   "source": [
    "table.delete('row7')\n",
    "for key, data in table.scan(row_prefix='ro'):\n",
    "    print(key, data)"
   ]
  },
  {
   "cell_type": "markdown",
   "metadata": {},
   "source": [
    "# Performing batch mutations"
   ]
  },
  {
   "cell_type": "markdown",
   "metadata": {},
   "source": [
    "The Table.put() and Table.delete() methods both issue a command to the HBase Thrift server immediately. This means that using these methods is not very efficient when storing or deleting multiple values. It is much more efficient to aggregate a bunch of commands and send them to the server in one go. This is exactly what the Batch class, created using Table.batch(), does. A Batch instance has put and delete methods, just like the Table class, but the changes are sent to the server in a single round-trip using Batch.send():"
   ]
  },
  {
   "cell_type": "code",
   "execution_count": 231,
   "metadata": {
    "collapsed": true
   },
   "outputs": [],
   "source": [
    "table = happybase.Connection('localhost').table('test')"
   ]
  },
  {
   "cell_type": "code",
   "execution_count": 173,
   "metadata": {
    "collapsed": false
   },
   "outputs": [],
   "source": [
    "b = table.batch()\n",
    "try:\n",
    "    b.put('row8', {'cf:h0': 'value8-0', 'cf:h1': 'value8-1'})\n",
    "    b.put('row9', {'cf:i0': 'value9-0', 'cf:i1': 'value9-1'})\n",
    "    b.put('row10', {'cf:j0': 'value10-0'})\n",
    "    b.put('rowx', {'cf:j0': 'value10-0'})\n",
    "\n",
    "    b.delete(b'rowx')\n",
    "    raise ValueError(\"Something went wrong!\")\n",
    "except ValueError as e:\n",
    "    # error handling goes here; nothing will be sent to HBase\n",
    "    pass\n",
    "else:\n",
    "    # no exceptions; send data\n",
    "    b.send()"
   ]
  },
  {
   "cell_type": "code",
   "execution_count": 174,
   "metadata": {
    "collapsed": false
   },
   "outputs": [
    {
     "name": "stdout",
     "output_type": "stream",
     "text": [
      "('row1', {'cf:a': 'value1', 'cf:a0': 'value0'})\n",
      "('row10', {'cf:j0': 'value10-0', 'cf:i0': 'value9-0'})\n",
      "('row2', {'cf:b': 'value2'})\n",
      "('row3', {'cf:c': 'value3'})\n",
      "('row4', {'cf:d': 'value4'})\n",
      "('row5', {'cf:e1': 'value5-1', 'cf:e0': 'value5-0'})\n",
      "('row6', {'cf:f0': 'value6-0', 'cf:f1': 'value6-1'})\n",
      "('row7', {'cf:g': 'value8'})\n",
      "('row8', {'cf:h0': 'value8-0', 'cf:h1': 'value8-1'})\n",
      "('row9', {'cf:i1': 'value9-1', 'cf:i0': 'value9-0'})\n"
     ]
    }
   ],
   "source": [
    "for key, data in table.scan(row_prefix='ro'):\n",
    "    print(key, data)"
   ]
  },
  {
   "cell_type": "markdown",
   "metadata": {},
   "source": [
    "Batch instances can be used as context managers, which are most useful in combination with Python’s with construct. The example above can be simplified to read:"
   ]
  },
  {
   "cell_type": "code",
   "execution_count": 189,
   "metadata": {
    "collapsed": true
   },
   "outputs": [],
   "source": [
    "with table.batch(transaction=True) as b:\n",
    "     b.put('row2', {'cf:b0': 'value2-0'})\n",
    "     b.put('row3', {'cf:b0': 'value3-0'})\n",
    "       "
   ]
  },
  {
   "cell_type": "code",
   "execution_count": 190,
   "metadata": {
    "collapsed": false
   },
   "outputs": [
    {
     "name": "stdout",
     "output_type": "stream",
     "text": [
      "('row1', {'cf:a': 'value1', 'cf:a0': 'value0'})\n",
      "('row10', {'cf:j0': 'value10-0', 'cf:i0': 'value9-0'})\n",
      "('row2', {'cf:b0': 'value2-0', 'cf:b': 'value2'})\n",
      "('row3', {'cf:b0': 'value3-0', 'cf:c': 'value3'})\n",
      "('row4', {'cf:d': 'value4'})\n",
      "('row5', {'cf:e1': 'value5-1', 'cf:e0': 'value5-0'})\n",
      "('row6', {'cf:f0': 'value6-0', 'cf:f1': 'value6-1'})\n",
      "('row7', {'cf:g': 'value8'})\n",
      "('row8', {'cf:h0': 'value8-0', 'cf:h1': 'value8-1'})\n",
      "('row9', {'cf:i1': 'value9-1', 'cf:i0': 'value9-0'})\n"
     ]
    }
   ],
   "source": [
    "for key, data in table.scan(row_prefix='ro'):\n",
    "    print(key, data)"
   ]
  },
  {
   "cell_type": "code",
   "execution_count": 225,
   "metadata": {
    "collapsed": false
   },
   "outputs": [],
   "source": [
    "try:\n",
    "    with table.batch(transaction=True) as b:\n",
    "        b.put('row2', {'cf:b3': 'value2-4'})\n",
    "        b.put('row3', {'cf:c3': 'value3-4'})\n",
    "        #raise ValueError(\"Something went wrong!\")\n",
    "except ValueError:\n",
    "    # error handling goes here; nothing is sent to HBase\n",
    "    pass\n",
    "\n",
    "# when no error occurred, the transaction succeeded"
   ]
  },
  {
   "cell_type": "code",
   "execution_count": 226,
   "metadata": {
    "collapsed": false
   },
   "outputs": [
    {
     "name": "stdout",
     "output_type": "stream",
     "text": [
      "('row1', {'cf:a': 'value1', 'cf:a0': 'value0'})\n",
      "('row10', {'cf:j0': 'value10-0', 'cf:i0': 'value9-0'})\n",
      "('row2', {'cf:b0': 'value2-0', 'cf:b1': 'value2-1', 'cf:b3': 'value2-4', 'cf:b': 'value2'})\n",
      "('row3', {'cf:b0': 'value3-0', 'cf:c': 'value3', 'cf:c3': 'value3-4', 'cf:c2': 'value3-3'})\n",
      "('row4', {'cf:d': 'value4'})\n",
      "('row5', {'cf:e1': 'value5-1', 'cf:e0': 'value5-0'})\n",
      "('row6', {'cf:f0': 'value6-0', 'cf:f1': 'value6-1'})\n",
      "('row7', {'cf:g': 'value8'})\n",
      "('row8', {'cf:h0': 'value8-0', 'cf:h1': 'value8-1'})\n",
      "('row9', {'cf:i1': 'value9-1', 'cf:i0': 'value9-0'})\n"
     ]
    }
   ],
   "source": [
    "for key, data in table.scan(row_prefix='ro'):\n",
    "    print(key, data)"
   ]
  },
  {
   "cell_type": "markdown",
   "metadata": {},
   "source": [
    "As you may have imagined already, a Batch keeps all mutations in memory until the batch is sent, either by calling Batch.send() explicitly, or when the with block ends. This doesn’t work for applications that need to store huge amounts of data, since it may result in batches that are too big to send in one round-trip, or in batches that use too much memory. For these cases, the batch_size argument can be specified. The batch_size acts as a threshold: a Batch instance automatically sends all pending mutations when there are more than batch_size pending operations. For example, this will result in three round-trips to the server (two batches with 1000 cells, and one with the remaining 400):"
   ]
  },
  {
   "cell_type": "code",
   "execution_count": 241,
   "metadata": {
    "collapsed": false
   },
   "outputs": [],
   "source": [
    "with table.batch(batch_size=2) as b:\n",
    "    for i in range(20):\n",
    "        # this put() will result in two mutations (two cells)\n",
    "        b.put(b'row%2d'%(i), {'cf:x': 'valuex', 'cf:y': 'valuey'})"
   ]
  },
  {
   "cell_type": "code",
   "execution_count": 242,
   "metadata": {
    "collapsed": false
   },
   "outputs": [
    {
     "name": "stdout",
     "output_type": "stream",
     "text": [
      "('row 0', {'cf:y': 'valuey', 'cf:x': 'valuex'})\n",
      "('row 1', {'cf:y': 'valuey', 'cf:x': 'valuex'})\n",
      "('row 2', {'cf:y': 'valuey', 'cf:x': 'valuex'})\n",
      "('row 3', {'cf:y': 'valuey', 'cf:x': 'valuex'})\n",
      "('row 4', {'cf:y': 'valuey', 'cf:x': 'valuex'})\n",
      "('row 5', {'cf:y': 'valuey', 'cf:x': 'valuex'})\n",
      "('row 6', {'cf:y': 'valuey', 'cf:x': 'valuex'})\n",
      "('row 7', {'cf:y': 'valuey', 'cf:x': 'valuex'})\n",
      "('row 8', {'cf:y': 'valuey', 'cf:x': 'valuex'})\n",
      "('row 9', {'cf:y': 'valuey', 'cf:x': 'valuex'})\n",
      "('row%04d', {'cf:y': 'valuey', 'cf:x': 'valuex'})\n",
      "('row1', {'cf:a': 'value1', 'cf:a0': 'value0'})\n",
      "('row10', {'cf:j0': 'value10-0', 'cf:i0': 'value9-0', 'cf:x': 'valuex', 'cf:y': 'valuey'})\n",
      "('row11', {'cf:y': 'valuey', 'cf:x': 'valuex'})\n",
      "('row12', {'cf:y': 'valuey', 'cf:x': 'valuex'})\n",
      "('row13', {'cf:y': 'valuey', 'cf:x': 'valuex'})\n",
      "('row14', {'cf:y': 'valuey', 'cf:x': 'valuex'})\n",
      "('row15', {'cf:y': 'valuey', 'cf:x': 'valuex'})\n",
      "('row16', {'cf:y': 'valuey', 'cf:x': 'valuex'})\n",
      "('row17', {'cf:y': 'valuey', 'cf:x': 'valuex'})\n",
      "('row18', {'cf:y': 'valuey', 'cf:x': 'valuex'})\n",
      "('row19', {'cf:y': 'valuey', 'cf:x': 'valuex'})\n",
      "('row2', {'cf:b0': 'value2-0', 'cf:b1': 'value2-1', 'cf:b3': 'value2-4', 'cf:b': 'value2'})\n",
      "('row3', {'cf:b0': 'value3-0', 'cf:c': 'value3', 'cf:c3': 'value3-4', 'cf:c2': 'value3-3'})\n",
      "('row4', {'cf:d': 'value4'})\n",
      "('row5', {'cf:e1': 'value5-1', 'cf:e0': 'value5-0'})\n",
      "('row6', {'cf:f0': 'value6-0', 'cf:f1': 'value6-1'})\n",
      "('row7', {'cf:g': 'value8'})\n",
      "('row8', {'cf:h0': 'value8-0', 'cf:h1': 'value8-1'})\n",
      "('row9', {'cf:i1': 'value9-1', 'cf:i0': 'value9-0'})\n"
     ]
    }
   ],
   "source": [
    "for key, data in table.scan(row_prefix='ro'):\n",
    "    print(key, data)"
   ]
  },
  {
   "cell_type": "code",
   "execution_count": 243,
   "metadata": {
    "collapsed": false
   },
   "outputs": [],
   "source": [
    "with table.batch(batch_size=2) as b:\n",
    "    for i in range(20):\n",
    "        # this put() will result in two mutations (two cells)\n",
    "        b.delete(b'row%2d'%(i))"
   ]
  },
  {
   "cell_type": "code",
   "execution_count": 244,
   "metadata": {
    "collapsed": false
   },
   "outputs": [
    {
     "name": "stdout",
     "output_type": "stream",
     "text": [
      "('row%04d', {'cf:y': 'valuey', 'cf:x': 'valuex'})\n",
      "('row1', {'cf:a': 'value1', 'cf:a0': 'value0'})\n",
      "('row2', {'cf:b0': 'value2-0', 'cf:b1': 'value2-1', 'cf:b3': 'value2-4', 'cf:b': 'value2'})\n",
      "('row3', {'cf:b0': 'value3-0', 'cf:c': 'value3', 'cf:c3': 'value3-4', 'cf:c2': 'value3-3'})\n",
      "('row4', {'cf:d': 'value4'})\n",
      "('row5', {'cf:e1': 'value5-1', 'cf:e0': 'value5-0'})\n",
      "('row6', {'cf:f0': 'value6-0', 'cf:f1': 'value6-1'})\n",
      "('row7', {'cf:g': 'value8'})\n",
      "('row8', {'cf:h0': 'value8-0', 'cf:h1': 'value8-1'})\n",
      "('row9', {'cf:i1': 'value9-1', 'cf:i0': 'value9-0'})\n"
     ]
    }
   ],
   "source": [
    "for key, data in table.scan(row_prefix='ro'):\n",
    "    print(key, data)"
   ]
  },
  {
   "cell_type": "markdown",
   "metadata": {},
   "source": [
    "# create New Table"
   ]
  },
  {
   "cell_type": "code",
   "execution_count": 263,
   "metadata": {
    "collapsed": false
   },
   "outputs": [],
   "source": [
    "connection = happybase.Connection('localhost', autoconnect=False)\n",
    "# before first use:\n",
    "connection.open()\n",
    "connection.create_table('mytable',{'cf': dict()})"
   ]
  },
  {
   "cell_type": "code",
   "execution_count": 264,
   "metadata": {
    "collapsed": true
   },
   "outputs": [],
   "source": [
    "table = happybase.Connection('localhost').table('mytable')"
   ]
  },
  {
   "cell_type": "code",
   "execution_count": 268,
   "metadata": {
    "collapsed": false
   },
   "outputs": [],
   "source": [
    "with table.batch(batch_size=2) as b:\n",
    "    for i in range(10):\n",
    "        # this put() will result in two mutations (two cells)\n",
    "        b.put(b'row%2d'%(i), {'cf:x': 'valuex', 'cf:y': 'valuey'})"
   ]
  },
  {
   "cell_type": "code",
   "execution_count": 269,
   "metadata": {
    "collapsed": false
   },
   "outputs": [
    {
     "name": "stdout",
     "output_type": "stream",
     "text": [
      "('row 0', {'cf:y': 'valuey', 'cf:x': 'valuex'})\n",
      "('row 1', {'cf:y': 'valuey', 'cf:x': 'valuex'})\n",
      "('row 2', {'cf:y': 'valuey', 'cf:x': 'valuex'})\n",
      "('row 3', {'cf:y': 'valuey', 'cf:x': 'valuex'})\n",
      "('row 4', {'cf:y': 'valuey', 'cf:x': 'valuex'})\n",
      "('row 5', {'cf:y': 'valuey', 'cf:x': 'valuex'})\n",
      "('row 6', {'cf:y': 'valuey', 'cf:x': 'valuex'})\n",
      "('row 7', {'cf:y': 'valuey', 'cf:x': 'valuex'})\n",
      "('row 8', {'cf:y': 'valuey', 'cf:x': 'valuex'})\n",
      "('row 9', {'cf:y': 'valuey', 'cf:x': 'valuex'})\n"
     ]
    }
   ],
   "source": [
    "for key, data in table.scan(row_prefix='ro'):\n",
    "    print(key, data)"
   ]
  },
  {
   "cell_type": "code",
   "execution_count": null,
   "metadata": {
    "collapsed": true
   },
   "outputs": [],
   "source": []
  }
 ],
 "metadata": {
  "kernelspec": {
   "display_name": "Python 2",
   "language": "python",
   "name": "python2"
  },
  "language_info": {
   "codemirror_mode": {
    "name": "ipython",
    "version": 2
   },
   "file_extension": ".py",
   "mimetype": "text/x-python",
   "name": "python",
   "nbconvert_exporter": "python",
   "pygments_lexer": "ipython2",
   "version": "2.7.13"
  }
 },
 "nbformat": 4,
 "nbformat_minor": 0
}
