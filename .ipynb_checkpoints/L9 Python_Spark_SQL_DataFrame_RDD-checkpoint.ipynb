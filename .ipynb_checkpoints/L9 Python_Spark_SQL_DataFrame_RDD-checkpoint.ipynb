{
 "cells": [
  {
   "cell_type": "code",
   "execution_count": 1,
   "metadata": {
    "collapsed": true
   },
   "outputs": [],
   "source": [
    "Path = \"hdfs:/user/hduser/MovieRecom/ml-100k\"  "
   ]
  },
  {
   "cell_type": "code",
   "execution_count": 3,
   "metadata": {
    "collapsed": false
   },
   "outputs": [
    {
     "name": "stdout",
     "output_type": "stream",
     "text": [
      "943\n",
      "1|24|M|technician|85711\n"
     ]
    }
   ],
   "source": [
    "rawUserData = sc.textFile(Path+'/u.user')\n",
    "print rawUserData.count()\n",
    "print rawUserData.first()"
   ]
  },
  {
   "cell_type": "markdown",
   "metadata": {},
   "source": [
    "# Establish DataFrame"
   ]
  },
  {
   "cell_type": "code",
   "execution_count": 4,
   "metadata": {
    "collapsed": false
   },
   "outputs": [
    {
     "data": {
      "text/plain": [
       "[u'1|24|M|technician|85711',\n",
       " u'2|53|F|other|94043',\n",
       " u'3|23|M|writer|32067',\n",
       " u'4|24|M|technician|43537',\n",
       " u'5|33|F|other|15213',\n",
       " u'6|42|M|executive|98101',\n",
       " u'7|57|M|administrator|91344']"
      ]
     },
     "execution_count": 4,
     "metadata": {},
     "output_type": "execute_result"
    }
   ],
   "source": [
    "rawUserData.take(7)"
   ]
  },
  {
   "cell_type": "code",
   "execution_count": 5,
   "metadata": {
    "collapsed": false
   },
   "outputs": [
    {
     "data": {
      "text/plain": [
       "[[u'1', u'24', u'M', u'technician', u'85711'],\n",
       " [u'2', u'53', u'F', u'other', u'94043'],\n",
       " [u'3', u'23', u'M', u'writer', u'32067'],\n",
       " [u'4', u'24', u'M', u'technician', u'43537'],\n",
       " [u'5', u'33', u'F', u'other', u'15213'],\n",
       " [u'6', u'42', u'M', u'executive', u'98101'],\n",
       " [u'7', u'57', u'M', u'administrator', u'91344']]"
      ]
     },
     "execution_count": 5,
     "metadata": {},
     "output_type": "execute_result"
    }
   ],
   "source": [
    "userRDD = rawUserData.map(lambda line: line.split(\"|\"))\n",
    "userRDD.take(7)"
   ]
  },
  {
   "cell_type": "code",
   "execution_count": 6,
   "metadata": {
    "collapsed": true
   },
   "outputs": [],
   "source": [
    "from pyspark.sql import SQLContext\n",
    "sqlContext = SQLContext(sc)"
   ]
  },
  {
   "cell_type": "code",
   "execution_count": 7,
   "metadata": {
    "collapsed": false
   },
   "outputs": [
    {
     "data": {
      "text/plain": [
       "[Row(age=24, gender=u'M', occupation=u'technician', userid=1, zipcode=u'85711'),\n",
       " Row(age=53, gender=u'F', occupation=u'other', userid=2, zipcode=u'94043'),\n",
       " Row(age=23, gender=u'M', occupation=u'writer', userid=3, zipcode=u'32067'),\n",
       " Row(age=24, gender=u'M', occupation=u'technician', userid=4, zipcode=u'43537'),\n",
       " Row(age=33, gender=u'F', occupation=u'other', userid=5, zipcode=u'15213')]"
      ]
     },
     "execution_count": 7,
     "metadata": {},
     "output_type": "execute_result"
    }
   ],
   "source": [
    "from pyspark.sql import Row\n",
    "user_Rows = userRDD.map(lambda p:\n",
    "     Row(\n",
    "         userid=int(p[0]),\n",
    "         age=int(p[1]),\n",
    "         gender=p[2],\n",
    "         occupation=p[3],\n",
    "         zipcode=p[4]\n",
    "    )                              \n",
    ")\n",
    "user_Rows.take(5)"
   ]
  },
  {
   "cell_type": "code",
   "execution_count": 8,
   "metadata": {
    "collapsed": false
   },
   "outputs": [
    {
     "name": "stdout",
     "output_type": "stream",
     "text": [
      "root\n",
      " |-- age: long (nullable = true)\n",
      " |-- gender: string (nullable = true)\n",
      " |-- occupation: string (nullable = true)\n",
      " |-- userid: long (nullable = true)\n",
      " |-- zipcode: string (nullable = true)\n",
      "\n"
     ]
    }
   ],
   "source": [
    "user_df = sqlContext.createDataFrame(user_Rows)\n",
    "user_df.printSchema()"
   ]
  },
  {
   "cell_type": "code",
   "execution_count": 10,
   "metadata": {
    "collapsed": false
   },
   "outputs": [
    {
     "name": "stdout",
     "output_type": "stream",
     "text": [
      "+---+------+----------+------+-------+\n",
      "|age|gender|occupation|userid|zipcode|\n",
      "+---+------+----------+------+-------+\n",
      "| 24|     M|technician|     1|  85711|\n",
      "| 53|     F|     other|     2|  94043|\n",
      "| 23|     M|    writer|     3|  32067|\n",
      "| 24|     M|technician|     4|  43537|\n",
      "| 33|     F|     other|     5|  15213|\n",
      "+---+------+----------+------+-------+\n",
      "only showing top 5 rows\n",
      "\n"
     ]
    }
   ],
   "source": [
    "user_df.show(5)"
   ]
  },
  {
   "cell_type": "markdown",
   "metadata": {},
   "source": [
    "# Spark SQL"
   ]
  },
  {
   "cell_type": "code",
   "execution_count": 11,
   "metadata": {
    "collapsed": true
   },
   "outputs": [],
   "source": [
    "user_df.registerTempTable(\"user_table\")"
   ]
  },
  {
   "cell_type": "code",
   "execution_count": 12,
   "metadata": {
    "collapsed": false
   },
   "outputs": [
    {
     "name": "stdout",
     "output_type": "stream",
     "text": [
      "+------+\n",
      "|counts|\n",
      "+------+\n",
      "|   943|\n",
      "+------+\n",
      "\n"
     ]
    }
   ],
   "source": [
    "sqlContext.sql(\"SELECT count(*) counts FROM user_table\").show()"
   ]
  },
  {
   "cell_type": "code",
   "execution_count": 39,
   "metadata": {
    "collapsed": false
   },
   "outputs": [
    {
     "name": "stdout",
     "output_type": "stream",
     "text": [
      "+------+\n",
      "|counts|\n",
      "+------+\n",
      "|   943|\n",
      "+------+\n",
      "\n"
     ]
    }
   ],
   "source": [
    "sqlContext.sql(\"\"\"\n",
    "SELECT count(*) counts \n",
    "FROM user_table\n",
    "\"\"\").show()"
   ]
  },
  {
   "cell_type": "code",
   "execution_count": 17,
   "metadata": {
    "collapsed": false
   },
   "outputs": [
    {
     "name": "stdout",
     "output_type": "stream",
     "text": [
      "+---+------+----------+------+-------+\n",
      "|age|gender|occupation|userid|zipcode|\n",
      "+---+------+----------+------+-------+\n",
      "| 24|     M|technician|     1|  85711|\n",
      "| 53|     F|     other|     2|  94043|\n",
      "| 23|     M|    writer|     3|  32067|\n",
      "| 24|     M|technician|     4|  43537|\n",
      "| 33|     F|     other|     5|  15213|\n",
      "| 42|     M| executive|     6|  98101|\n",
      "+---+------+----------+------+-------+\n",
      "\n"
     ]
    }
   ],
   "source": [
    "sqlContext.sql(\"\"\"\n",
    "SELECT * \n",
    "FROM user_table\n",
    "LIMIT 6\n",
    "\"\"\").show()"
   ]
  },
  {
   "cell_type": "markdown",
   "metadata": {},
   "source": [
    "Select partial field"
   ]
  },
  {
   "cell_type": "code",
   "execution_count": 18,
   "metadata": {
    "collapsed": false
   },
   "outputs": [
    {
     "data": {
      "text/plain": [
       "[(u'1', u'technician', u'M', u'24'),\n",
       " (u'2', u'other', u'F', u'53'),\n",
       " (u'3', u'writer', u'M', u'23'),\n",
       " (u'4', u'technician', u'M', u'24'),\n",
       " (u'5', u'other', u'F', u'33')]"
      ]
     },
     "execution_count": 18,
     "metadata": {},
     "output_type": "execute_result"
    }
   ],
   "source": [
    "userRDDnew = userRDD.map(lambda x:(x[0],x[3],x[2],x[1]))\n",
    "userRDDnew.take(5)"
   ]
  },
  {
   "cell_type": "markdown",
   "metadata": {},
   "source": [
    "method 1 (by field name)"
   ]
  },
  {
   "cell_type": "code",
   "execution_count": 19,
   "metadata": {
    "collapsed": false
   },
   "outputs": [
    {
     "name": "stdout",
     "output_type": "stream",
     "text": [
      "+------+----------+------+---+\n",
      "|userid|occupation|gender|age|\n",
      "+------+----------+------+---+\n",
      "|     1|technician|     M| 24|\n",
      "|     2|     other|     F| 53|\n",
      "|     3|    writer|     M| 23|\n",
      "|     4|technician|     M| 24|\n",
      "|     5|     other|     F| 33|\n",
      "+------+----------+------+---+\n",
      "only showing top 5 rows\n",
      "\n"
     ]
    }
   ],
   "source": [
    "user_df.select(\"userid\",\"occupation\",\"gender\",\"age\").show(5)"
   ]
  },
  {
   "cell_type": "markdown",
   "metadata": {},
   "source": [
    "method 2 (by dataframe.fieldname)"
   ]
  },
  {
   "cell_type": "code",
   "execution_count": 20,
   "metadata": {
    "collapsed": false
   },
   "outputs": [
    {
     "name": "stdout",
     "output_type": "stream",
     "text": [
      "+------+----------+------+---+\n",
      "|userid|occupation|gender|age|\n",
      "+------+----------+------+---+\n",
      "|     1|technician|     M| 24|\n",
      "|     2|     other|     F| 53|\n",
      "|     3|    writer|     M| 23|\n",
      "|     4|technician|     M| 24|\n",
      "|     5|     other|     F| 33|\n",
      "+------+----------+------+---+\n",
      "only showing top 5 rows\n",
      "\n"
     ]
    }
   ],
   "source": [
    "user_df.select(user_df.userid, user_df.occupation, user_df.gender, user_df.age).show(5)"
   ]
  },
  {
   "cell_type": "markdown",
   "metadata": {},
   "source": [
    "method 3 (by keyword)"
   ]
  },
  {
   "cell_type": "code",
   "execution_count": 22,
   "metadata": {
    "collapsed": false
   },
   "outputs": [
    {
     "name": "stdout",
     "output_type": "stream",
     "text": [
      "+------+----------+------+---+\n",
      "|userid|occupation|gender|age|\n",
      "+------+----------+------+---+\n",
      "|     1|technician|     M| 24|\n",
      "|     2|     other|     F| 53|\n",
      "|     3|    writer|     M| 23|\n",
      "|     4|technician|     M| 24|\n",
      "|     5|     other|     F| 33|\n",
      "+------+----------+------+---+\n",
      "only showing top 5 rows\n",
      "\n"
     ]
    }
   ],
   "source": [
    "user_df[user_df['userid'],user_df['occupation'],user_df['gender'],user_df['age']].show(5)"
   ]
  },
  {
   "cell_type": "markdown",
   "metadata": {},
   "source": [
    "# Add additional field"
   ]
  },
  {
   "cell_type": "code",
   "execution_count": 24,
   "metadata": {
    "collapsed": false
   },
   "outputs": [
    {
     "data": {
      "text/plain": [
       "[(u'1', u'technician', u'M', u'24', 1992),\n",
       " (u'2', u'other', u'F', u'53', 1963),\n",
       " (u'3', u'writer', u'M', u'23', 1993),\n",
       " (u'4', u'technician', u'M', u'24', 1992),\n",
       " (u'5', u'other', u'F', u'33', 1983)]"
      ]
     },
     "execution_count": 24,
     "metadata": {},
     "output_type": "execute_result"
    }
   ],
   "source": [
    "userRDDnew = userRDD.map(lambda x:(x[0],x[3],x[2],x[1],2016-int(x[1])))\n",
    "userRDDnew.take(5)"
   ]
  },
  {
   "cell_type": "code",
   "execution_count": 26,
   "metadata": {
    "collapsed": false
   },
   "outputs": [
    {
     "name": "stdout",
     "output_type": "stream",
     "text": [
      "+------+----------+------+---+------------+\n",
      "|userid|occupation|gender|age|(2016 - age)|\n",
      "+------+----------+------+---+------------+\n",
      "|     1|technician|     M| 24|        1992|\n",
      "|     2|     other|     F| 53|        1963|\n",
      "|     3|    writer|     M| 23|        1993|\n",
      "|     4|technician|     M| 24|        1992|\n",
      "|     5|     other|     F| 33|        1983|\n",
      "+------+----------+------+---+------------+\n",
      "only showing top 5 rows\n",
      "\n"
     ]
    }
   ],
   "source": [
    "user_df.select(\"userid\",\"occupation\",\"gender\",\"age\",2016-user_df.age).show(5)"
   ]
  },
  {
   "cell_type": "code",
   "execution_count": 27,
   "metadata": {
    "collapsed": false
   },
   "outputs": [
    {
     "name": "stdout",
     "output_type": "stream",
     "text": [
      "+------+----------+------+---+---------+\n",
      "|userid|occupation|gender|age|birthyear|\n",
      "+------+----------+------+---+---------+\n",
      "|     1|technician|     M| 24|     1992|\n",
      "|     2|     other|     F| 53|     1963|\n",
      "|     3|    writer|     M| 23|     1993|\n",
      "|     4|technician|     M| 24|     1992|\n",
      "|     5|     other|     F| 33|     1983|\n",
      "+------+----------+------+---+---------+\n",
      "only showing top 5 rows\n",
      "\n"
     ]
    }
   ],
   "source": [
    "user_df.select(\"userid\",\"occupation\",\"gender\",\"age\",(2016-user_df.age).alias(\"birthyear\")).show(5)"
   ]
  },
  {
   "cell_type": "markdown",
   "metadata": {},
   "source": [
    "# data filtering"
   ]
  },
  {
   "cell_type": "code",
   "execution_count": 29,
   "metadata": {
    "collapsed": false
   },
   "outputs": [
    {
     "data": {
      "text/plain": [
       "[[u'1', u'24', u'M', u'technician', u'85711'],\n",
       " [u'4', u'24', u'M', u'technician', u'43537'],\n",
       " [u'456', u'24', u'M', u'technician', u'31820'],\n",
       " [u'717', u'24', u'M', u'technician', u'84105'],\n",
       " [u'832', u'24', u'M', u'technician', u'77042'],\n",
       " [u'889', u'24', u'M', u'technician', u'78704']]"
      ]
     },
     "execution_count": 29,
     "metadata": {},
     "output_type": "execute_result"
    }
   ],
   "source": [
    "userRDD.filter(lambda r: r[3]=='technician' and r[2]=='M' and r[1]=='24').take(6)"
   ]
  },
  {
   "cell_type": "code",
   "execution_count": 30,
   "metadata": {
    "collapsed": false
   },
   "outputs": [
    {
     "name": "stdout",
     "output_type": "stream",
     "text": [
      "+---+------+----------+------+-------+\n",
      "|age|gender|occupation|userid|zipcode|\n",
      "+---+------+----------+------+-------+\n",
      "| 24|     M|technician|     1|  85711|\n",
      "| 24|     M|technician|     4|  43537|\n",
      "| 24|     M|technician|   456|  31820|\n",
      "| 24|     M|technician|   717|  84105|\n",
      "| 24|     M|technician|   832|  77042|\n",
      "| 24|     M|technician|   889|  78704|\n",
      "+---+------+----------+------+-------+\n",
      "\n"
     ]
    }
   ],
   "source": [
    "user_df.filter(\"occupation='technician'\").filter(\"gender='M'\").filter(\"age='24'\").show()"
   ]
  },
  {
   "cell_type": "code",
   "execution_count": 32,
   "metadata": {
    "collapsed": false
   },
   "outputs": [
    {
     "name": "stdout",
     "output_type": "stream",
     "text": [
      "+---+------+----------+------+-------+\n",
      "|age|gender|occupation|userid|zipcode|\n",
      "+---+------+----------+------+-------+\n",
      "| 24|     M|technician|     1|  85711|\n",
      "| 24|     M|technician|     4|  43537|\n",
      "| 24|     M|technician|   456|  31820|\n",
      "| 24|     M|technician|   717|  84105|\n",
      "| 24|     M|technician|   832|  77042|\n",
      "| 24|     M|technician|   889|  78704|\n",
      "+---+------+----------+------+-------+\n",
      "\n"
     ]
    }
   ],
   "source": [
    "#oneline mode\n",
    "user_df.filter(\"occupation='technician' and gender='M' and age=24\").show()"
   ]
  },
  {
   "cell_type": "code",
   "execution_count": 35,
   "metadata": {
    "collapsed": false
   },
   "outputs": [
    {
     "name": "stdout",
     "output_type": "stream",
     "text": [
      "+---+------+----------+------+-------+\n",
      "|age|gender|occupation|userid|zipcode|\n",
      "+---+------+----------+------+-------+\n",
      "| 24|     M|technician|     1|  85711|\n",
      "| 24|     M|technician|     4|  43537|\n",
      "| 24|     M|technician|   456|  31820|\n",
      "| 24|     M|technician|   717|  84105|\n",
      "| 24|     M|technician|   832|  77042|\n",
      "| 24|     M|technician|   889|  78704|\n",
      "+---+------+----------+------+-------+\n",
      "\n"
     ]
    }
   ],
   "source": [
    "user_df.filter((user_df.occupation=='technician') & (user_df.gender=='M') & (user_df.age==24)).show()"
   ]
  },
  {
   "cell_type": "code",
   "execution_count": 36,
   "metadata": {
    "collapsed": false
   },
   "outputs": [
    {
     "name": "stdout",
     "output_type": "stream",
     "text": [
      "+---+------+----------+------+-------+\n",
      "|age|gender|occupation|userid|zipcode|\n",
      "+---+------+----------+------+-------+\n",
      "| 24|     M|technician|     1|  85711|\n",
      "| 24|     M|technician|     4|  43537|\n",
      "| 24|     M|technician|   456|  31820|\n",
      "| 24|     M|technician|   717|  84105|\n",
      "| 24|     M|technician|   832|  77042|\n",
      "| 24|     M|technician|   889|  78704|\n",
      "+---+------+----------+------+-------+\n",
      "\n"
     ]
    }
   ],
   "source": [
    "user_df.filter((user_df['occupation']=='technician') & (user_df['gender']=='M') & (user_df['age']==24)).show()"
   ]
  },
  {
   "cell_type": "markdown",
   "metadata": {},
   "source": [
    "# Data ordering"
   ]
  },
  {
   "cell_type": "code",
   "execution_count": 37,
   "metadata": {
    "collapsed": false
   },
   "outputs": [
    {
     "data": {
      "text/plain": [
       "[[u'30', u'7', u'M', u'student', u'55436'],\n",
       " [u'471', u'10', u'M', u'student', u'77459'],\n",
       " [u'289', u'11', u'M', u'none', u'94619'],\n",
       " [u'142', u'13', u'M', u'other', u'48118'],\n",
       " [u'609', u'13', u'F', u'student', u'55106']]"
      ]
     },
     "execution_count": 37,
     "metadata": {},
     "output_type": "execute_result"
    }
   ],
   "source": [
    "userRDD.takeOrdered(5, key = lambda x:int(x[1]))"
   ]
  },
  {
   "cell_type": "code",
   "execution_count": 38,
   "metadata": {
    "collapsed": false
   },
   "outputs": [
    {
     "data": {
      "text/plain": [
       "[[u'481', u'73', u'M', u'retired', u'37771'],\n",
       " [u'767', u'70', u'M', u'engineer', u'00000'],\n",
       " [u'803', u'70', u'M', u'administrator', u'78212'],\n",
       " [u'860', u'70', u'F', u'retired', u'48322'],\n",
       " [u'559', u'69', u'M', u'executive', u'10022']]"
      ]
     },
     "execution_count": 38,
     "metadata": {},
     "output_type": "execute_result"
    }
   ],
   "source": [
    "userRDD.takeOrdered(5, key = lambda x:-1*int(x[1]))"
   ]
  },
  {
   "cell_type": "code",
   "execution_count": 40,
   "metadata": {
    "collapsed": false
   },
   "outputs": [
    {
     "name": "stdout",
     "output_type": "stream",
     "text": [
      "+------+----------+------+---+\n",
      "|userid|occupation|gender|age|\n",
      "+------+----------+------+---+\n",
      "|    30|   student|     M|  7|\n",
      "|   471|   student|     M| 10|\n",
      "|   289|      none|     M| 11|\n",
      "|   880|   student|     M| 13|\n",
      "|   628|      none|     M| 13|\n",
      "+------+----------+------+---+\n",
      "only showing top 5 rows\n",
      "\n"
     ]
    }
   ],
   "source": [
    "sqlContext.sql(\"\"\"\n",
    "SELECT userid,occupation,gender,age \n",
    "FROM user_table\n",
    "ORDER BY age\n",
    "\"\"\").show(5)"
   ]
  },
  {
   "cell_type": "code",
   "execution_count": 41,
   "metadata": {
    "collapsed": false
   },
   "outputs": [
    {
     "name": "stdout",
     "output_type": "stream",
     "text": [
      "+------+-------------+------+---+\n",
      "|userid|   occupation|gender|age|\n",
      "+------+-------------+------+---+\n",
      "|   481|      retired|     M| 73|\n",
      "|   860|      retired|     F| 70|\n",
      "|   767|     engineer|     M| 70|\n",
      "|   803|administrator|     M| 70|\n",
      "|   559|    executive|     M| 69|\n",
      "+------+-------------+------+---+\n",
      "only showing top 5 rows\n",
      "\n"
     ]
    }
   ],
   "source": [
    "sqlContext.sql(\"\"\"\n",
    "SELECT userid,occupation,gender,age \n",
    "FROM user_table\n",
    "ORDER BY age DESC\n",
    "\"\"\").show(5)"
   ]
  },
  {
   "cell_type": "code",
   "execution_count": 42,
   "metadata": {
    "collapsed": false
   },
   "outputs": [
    {
     "name": "stdout",
     "output_type": "stream",
     "text": [
      "+------+----------+------+---+\n",
      "|userid|occupation|gender|age|\n",
      "+------+----------+------+---+\n",
      "|    30|   student|     M|  7|\n",
      "|   471|   student|     M| 10|\n",
      "|   289|      none|     M| 11|\n",
      "|   880|   student|     M| 13|\n",
      "|   628|      none|     M| 13|\n",
      "+------+----------+------+---+\n",
      "only showing top 5 rows\n",
      "\n"
     ]
    }
   ],
   "source": [
    "user_df.select(\"userid\",\"occupation\",\"gender\",\"age\").orderBy(\"age\").show(5)"
   ]
  },
  {
   "cell_type": "code",
   "execution_count": 43,
   "metadata": {
    "collapsed": false
   },
   "outputs": [
    {
     "name": "stdout",
     "output_type": "stream",
     "text": [
      "+------+----------+------+---+\n",
      "|userid|occupation|gender|age|\n",
      "+------+----------+------+---+\n",
      "|    30|   student|     M|  7|\n",
      "|   471|   student|     M| 10|\n",
      "|   289|      none|     M| 11|\n",
      "|   142|     other|     M| 13|\n",
      "|   609|   student|     F| 13|\n",
      "+------+----------+------+---+\n",
      "only showing top 5 rows\n",
      "\n"
     ]
    }
   ],
   "source": [
    "user_df.select(\"userid\",\"occupation\",\"gender\",\"age\").orderBy(user_df.age).show(5)"
   ]
  },
  {
   "cell_type": "code",
   "execution_count": 44,
   "metadata": {
    "collapsed": false
   },
   "outputs": [
    {
     "name": "stdout",
     "output_type": "stream",
     "text": [
      "+------+-------------+------+---+\n",
      "|userid|   occupation|gender|age|\n",
      "+------+-------------+------+---+\n",
      "|   481|      retired|     M| 73|\n",
      "|   860|      retired|     F| 70|\n",
      "|   767|     engineer|     M| 70|\n",
      "|   803|administrator|     M| 70|\n",
      "|   559|    executive|     M| 69|\n",
      "+------+-------------+------+---+\n",
      "only showing top 5 rows\n",
      "\n"
     ]
    }
   ],
   "source": [
    "user_df.select(\"userid\",\"occupation\",\"gender\",\"age\").orderBy(\"age\", ascending=0).show(5)"
   ]
  },
  {
   "cell_type": "code",
   "execution_count": 45,
   "metadata": {
    "collapsed": false
   },
   "outputs": [
    {
     "name": "stdout",
     "output_type": "stream",
     "text": [
      "+------+-------------+------+---+\n",
      "|userid|   occupation|gender|age|\n",
      "+------+-------------+------+---+\n",
      "|   481|      retired|     M| 73|\n",
      "|   860|      retired|     F| 70|\n",
      "|   767|     engineer|     M| 70|\n",
      "|   803|administrator|     M| 70|\n",
      "|   559|    executive|     M| 69|\n",
      "+------+-------------+------+---+\n",
      "only showing top 5 rows\n",
      "\n"
     ]
    }
   ],
   "source": [
    "user_df.select(\"userid\",\"occupation\",\"gender\",\"age\").orderBy(user_df.age.desc()).show(5)"
   ]
  },
  {
   "cell_type": "code",
   "execution_count": null,
   "metadata": {
    "collapsed": true
   },
   "outputs": [],
   "source": []
  }
 ],
 "metadata": {
  "kernelspec": {
   "display_name": "Python 2",
   "language": "python",
   "name": "python2"
  },
  "language_info": {
   "codemirror_mode": {
    "name": "ipython",
    "version": 2
   },
   "file_extension": ".py",
   "mimetype": "text/x-python",
   "name": "python",
   "nbconvert_exporter": "python",
   "pygments_lexer": "ipython2",
   "version": "2.7.13"
  }
 },
 "nbformat": 4,
 "nbformat_minor": 0
}
