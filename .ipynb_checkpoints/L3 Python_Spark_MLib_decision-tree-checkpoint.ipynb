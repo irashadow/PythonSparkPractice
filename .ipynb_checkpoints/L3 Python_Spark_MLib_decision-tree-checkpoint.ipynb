{
 "cells": [
  {
   "cell_type": "code",
   "execution_count": 1,
   "metadata": {
    "collapsed": true
   },
   "outputs": [],
   "source": [
    "data_dir = '/home/hadoop/pythonwork/data/stumbleupon'\n"
   ]
  },
  {
   "cell_type": "code",
   "execution_count": 2,
   "metadata": {
    "collapsed": false
   },
   "outputs": [
    {
     "name": "stdout",
     "output_type": "stream",
     "text": [
      "total 30668\r\n",
      "-rw-r--r-- 1 hadoop hadoop  9428650 Jan 24 18:09 test.tsv\r\n",
      "-rw-r--r-- 1 hadoop hadoop 21972916 Jan 24 18:09 train.tsv\r\n"
     ]
    }
   ],
   "source": [
    "%ls -l /home/hadoop/pythonwork/data/stumbleupon\n",
    "#%head -n 10 /home/hadoop/pythonwork/data/stumbleupon/train.tsv"
   ]
  },
  {
   "cell_type": "code",
   "execution_count": 3,
   "metadata": {
    "collapsed": false
   },
   "outputs": [],
   "source": [
    "global Path\n",
    "if sc.master[0:5]=='local':\n",
    "   Path = \"file:/home/hadoop/pythonwork/data/stumbleupon\" \n",
    "else:\n",
    "   Path = \"hdfs:/user/hduser/MovieRecom/stumbleupon\" "
   ]
  },
  {
   "cell_type": "code",
   "execution_count": 4,
   "metadata": {
    "collapsed": false
   },
   "outputs": [
    {
     "name": "stdout",
     "output_type": "stream",
     "text": [
      "data loading..\n"
     ]
    }
   ],
   "source": [
    "print 'data loading..'\n",
    "rawDataWithHeader = sc.textFile(Path+'/train.tsv')\n",
    "#rawDataWithHeader.take(2)"
   ]
  },
  {
   "cell_type": "code",
   "execution_count": 5,
   "metadata": {
    "collapsed": false
   },
   "outputs": [
    {
     "name": "stdout",
     "output_type": "stream",
     "text": [
      "7395\n"
     ]
    }
   ],
   "source": [
    "#data preprocessing\n",
    "header = rawDataWithHeader.first()\n",
    "rawData = rawDataWithHeader.filter(lambda x:x != header)\n",
    "rData = rawData.map(lambda x: x.replace(\"\\\"\",\"\"))\n",
    "lines = rData.map(lambda x:x.split(\"\\t\"))\n",
    "print str(lines.count())"
   ]
  },
  {
   "cell_type": "code",
   "execution_count": 6,
   "metadata": {
    "collapsed": false
   },
   "outputs": [
    {
     "data": {
      "text/plain": [
       "[u'business',\n",
       " u'0.789131',\n",
       " u'2.055555556',\n",
       " u'0.676470588',\n",
       " u'0.205882353',\n",
       " u'0.047058824',\n",
       " u'0.023529412',\n",
       " u'0.443783175',\n",
       " u'0',\n",
       " u'0',\n",
       " u'0.09077381',\n",
       " u'0',\n",
       " u'0.245831182',\n",
       " u'0.003883495',\n",
       " u'1',\n",
       " u'1',\n",
       " u'24',\n",
       " u'0',\n",
       " u'5424',\n",
       " u'170',\n",
       " u'8',\n",
       " u'0.152941176',\n",
       " u'0.079129575',\n",
       " u'0']"
      ]
     },
     "execution_count": 6,
     "metadata": {},
     "output_type": "execute_result"
    }
   ],
   "source": [
    "lines.first()[3:]"
   ]
  },
  {
   "cell_type": "markdown",
   "metadata": {},
   "source": [
    "# cook feature data"
   ]
  },
  {
   "cell_type": "code",
   "execution_count": 7,
   "metadata": {
    "collapsed": true
   },
   "outputs": [],
   "source": [
    "import numpy as np \n",
    "def extract_features(fields,categoriesMap,featureEnd):\n",
    "    categoryIdx = categoriesMap[fields[3]]\n",
    "    categoryFeatures = np.zeros(len(categoriesMap))\n",
    "    categoryFeatures[categoryIdx] = 1\n",
    "    numericalFeatures = [convert_float(field) for field in fields[4:featureEnd]]\n",
    "    return np.concatenate(( categoryFeatures, numericalFeatures))\n",
    "\n",
    "def convert_float(x):\n",
    "    return (0 if x=='?' else float(x))"
   ]
  },
  {
   "cell_type": "code",
   "execution_count": 8,
   "metadata": {
    "collapsed": true
   },
   "outputs": [],
   "source": [
    "categoriesMap = lines.map(lambda fields:fields[3])\\\n",
    "                     .distinct().zipWithIndex().collectAsMap()"
   ]
  },
  {
   "cell_type": "code",
   "execution_count": 9,
   "metadata": {
    "collapsed": false
   },
   "outputs": [
    {
     "data": {
      "text/plain": [
       "{u'?': 6,\n",
       " u'arts_entertainment': 13,\n",
       " u'business': 1,\n",
       " u'computer_internet': 2,\n",
       " u'culture_politics': 3,\n",
       " u'gaming': 7,\n",
       " u'health': 5,\n",
       " u'law_crime': 4,\n",
       " u'recreation': 0,\n",
       " u'religion': 11,\n",
       " u'science_technology': 9,\n",
       " u'sports': 10,\n",
       " u'unknown': 8,\n",
       " u'weather': 12}"
      ]
     },
     "execution_count": 9,
     "metadata": {},
     "output_type": "execute_result"
    }
   ],
   "source": [
    "categoriesMap"
   ]
  },
  {
   "cell_type": "code",
   "execution_count": 10,
   "metadata": {
    "collapsed": false
   },
   "outputs": [
    {
     "name": "stdout",
     "output_type": "stream",
     "text": [
      "14\n",
      "<type 'dict'>\n"
     ]
    }
   ],
   "source": [
    "print len(categoriesMap)\n",
    "print type(categoriesMap)"
   ]
  },
  {
   "cell_type": "markdown",
   "metadata": {},
   "source": [
    "label handling"
   ]
  },
  {
   "cell_type": "code",
   "execution_count": 11,
   "metadata": {
    "collapsed": true
   },
   "outputs": [],
   "source": [
    "def extract_label(fields):\n",
    "    label = (fields[-1])\n",
    "    return float(label)"
   ]
  },
  {
   "cell_type": "markdown",
   "metadata": {},
   "source": [
    "establish the LabeledPoint Data"
   ]
  },
  {
   "cell_type": "code",
   "execution_count": 12,
   "metadata": {
    "collapsed": false
   },
   "outputs": [],
   "source": [
    "from pyspark.mllib.regression import LabeledPoint\n",
    "labelpointRDD = lines.map(lambda r:\n",
    "     LabeledPoint(\n",
    "        extract_label(r),\n",
    "        extract_features(r, categoriesMap, len(r) - 1)))"
   ]
  },
  {
   "cell_type": "code",
   "execution_count": 13,
   "metadata": {
    "collapsed": false
   },
   "outputs": [
    {
     "name": "stdout",
     "output_type": "stream",
     "text": [
      "[u'business', u'0.789131', u'2.055555556', u'0.676470588', u'0.205882353', u'0.047058824', u'0.023529412', u'0.443783175', u'0', u'0', u'0.09077381', u'0', u'0.245831182', u'0.003883495', u'1', u'1', u'24', u'0', u'5424', u'170', u'8', u'0.152941176', u'0.079129575', u'0']\n"
     ]
    }
   ],
   "source": [
    "print lines.first()[3:]"
   ]
  },
  {
   "cell_type": "code",
   "execution_count": 14,
   "metadata": {
    "collapsed": false
   },
   "outputs": [
    {
     "data": {
      "text/plain": [
       "[LabeledPoint(0.0, [0.0,1.0,0.0,0.0,0.0,0.0,0.0,0.0,0.0,0.0,0.0,0.0,0.0,0.0,0.789131,2.055555556,0.676470588,0.205882353,0.047058824,0.023529412,0.443783175,0.0,0.0,0.09077381,0.0,0.245831182,0.003883495,1.0,1.0,24.0,0.0,5424.0,170.0,8.0,0.152941176,0.079129575])]"
      ]
     },
     "execution_count": 14,
     "metadata": {},
     "output_type": "execute_result"
    }
   ],
   "source": [
    "labelpointRDD.take(1)"
   ]
  },
  {
   "cell_type": "code",
   "execution_count": 15,
   "metadata": {
    "collapsed": false
   },
   "outputs": [
    {
     "name": "stdout",
     "output_type": "stream",
     "text": [
      "trainData size:5933, validData size:753, testData size:709\n"
     ]
    }
   ],
   "source": [
    "(trainData, validationData, testData) = labelpointRDD.randomSplit([8, 1, 1])\n",
    "print('trainData size:'+str(trainData.count())+ \n",
    "      ', validData size:'+str(validationData.count())+\n",
    "      ', testData size:'+str(testData.count()))"
   ]
  },
  {
   "cell_type": "markdown",
   "metadata": {},
   "source": [
    "# Establish PrepareData function"
   ]
  },
  {
   "cell_type": "code",
   "execution_count": 16,
   "metadata": {
    "collapsed": true
   },
   "outputs": [],
   "source": [
    "def PrepareData(sc):\n",
    "    global Path\n",
    "    if sc.master[0:5]=='local':\n",
    "       Path = \"file:/home/hadoop/pythonwork/data/stumbleupon\" \n",
    "    else:\n",
    "       Path = \"hdfs:/user/hduser/MovieRecom/stumbleupon\" \n",
    "    \n",
    "    print 'data loading..'\n",
    "    rawDataWithHeader = sc.textFile(Path+'/train.tsv')\n",
    "    header = rawDataWithHeader.first()\n",
    "    rawData = rawDataWithHeader.filter(lambda x:x != header)\n",
    "    rData = rawData.map(lambda x: x.replace(\"\\\"\",\"\"))\n",
    "    lines = rData.map(lambda x:x.split(\"\\t\"))\n",
    "    print str(lines.count())\n",
    "    #-----------construct the training data RDD[LabeledPoint]\n",
    "    categoriesMap = lines.map(lambda fields:fields[3])\\\n",
    "                         .distinct().zipWithIndex().collectAsMap()\n",
    "    labelpointRDD = lines.map(lambda r:LabeledPoint(\n",
    "                    extract_label(r),\n",
    "                    extract_features(r, categoriesMap, len(r) - 1)))\n",
    "    #randomly split the data as training data, validation data, and testing data\n",
    "    (trainData, validationData, testData) = labelpointRDD.randomSplit([8, 1, 1])\n",
    "    print('trainData size:'+str(trainData.count())+ \n",
    "          ', validData size:'+str(validationData.count())+\n",
    "          ', testData size:'+str(testData.count()))\n",
    "    return (trainData, validationData, testData)"
   ]
  },
  {
   "cell_type": "code",
   "execution_count": 17,
   "metadata": {
    "collapsed": false
   },
   "outputs": [
    {
     "name": "stdout",
     "output_type": "stream",
     "text": [
      "data loading..\n",
      "7395\n",
      "trainData size:5907, validData size:783, testData size:705\n"
     ]
    }
   ],
   "source": [
    "(trainData, validationData, testData) = PrepareData(sc)"
   ]
  },
  {
   "cell_type": "markdown",
   "metadata": {},
   "source": [
    "store the data in the memory"
   ]
  },
  {
   "cell_type": "code",
   "execution_count": 18,
   "metadata": {
    "collapsed": false
   },
   "outputs": [
    {
     "data": {
      "text/plain": [
       "PythonRDD[31] at RDD at PythonRDD.scala:48"
      ]
     },
     "execution_count": 18,
     "metadata": {},
     "output_type": "execute_result"
    }
   ],
   "source": [
    "trainData.persist()\n",
    "validationData.persist()\n",
    "testData.persist()"
   ]
  },
  {
   "cell_type": "markdown",
   "metadata": {},
   "source": [
    "# Model tuining"
   ]
  },
  {
   "cell_type": "code",
   "execution_count": 19,
   "metadata": {
    "collapsed": false
   },
   "outputs": [],
   "source": [
    "from pyspark.mllib.tree import DecisionTree\n",
    "model = DecisionTree.trainClassifier(\\\n",
    "        trainData, numClasses=2, categoricalFeaturesInfo={},\\\n",
    "        impurity = \"entropy\", maxDepth = 5, maxBins = 5)"
   ]
  },
  {
   "cell_type": "markdown",
   "metadata": {},
   "source": [
    "# Testing process"
   ]
  },
  {
   "cell_type": "code",
   "execution_count": 20,
   "metadata": {
    "collapsed": true
   },
   "outputs": [],
   "source": [
    "def PredictData(sc, model, categoriesMap):\n",
    "    print 'testing data loading..'\n",
    "    rawDataWithHeader = sc.textFile(Path+'/test.tsv')\n",
    "    header = rawDataWithHeader.first()\n",
    "    rawData = rawDataWithHeader.filter(lambda x:x != header)\n",
    "    rData = rawData.map(lambda x: x.replace(\"\\\"\",\"\"))\n",
    "    lines = rData.map(lambda x:x.split(\"\\t\"))\n",
    "    print str(lines.count())\n",
    "    #-----------construct the testing data RDD[LabeledPoint]\n",
    "    dataRDD = lines.map(lambda r: (r[0], # r[0]: Web URL\n",
    "                        extract_features(r,categoriesMap,len(r))))\n",
    "    DescDict = {\n",
    "        0: \"ephemeral\",\n",
    "        1: \"evergreen\"\n",
    "    }\n",
    "    for data in dataRDD.take(5):\n",
    "        predictResult = model.predict(data[1])\n",
    "        print \"web URL :\" + str(data[0]) + \"\\n\" +\\\n",
    "              \"==>prediction: \" + str(predictResult) +\\\n",
    "              \"(\" + DescDict[predictResult] + \")\\n\"\n",
    "                   "
   ]
  },
  {
   "cell_type": "code",
   "execution_count": 21,
   "metadata": {
    "collapsed": false
   },
   "outputs": [
    {
     "name": "stdout",
     "output_type": "stream",
     "text": [
      "testing data loading..\n",
      "3171\n",
      "web URL :http://www.lynnskitchenadventures.com/2009/04/homemade-enchilada-sauce.html\n",
      "==>prediction: 1.0(evergreen)\n",
      "\n",
      "web URL :http://lolpics.se/18552-stun-grenade-ar\n",
      "==>prediction: 0.0(ephemeral)\n",
      "\n",
      "web URL :http://www.xcelerationfitness.com/treadmills.html\n",
      "==>prediction: 0.0(ephemeral)\n",
      "\n",
      "web URL :http://www.bloomberg.com/news/2012-02-06/syria-s-assad-deploys-tactics-of-father-to-crush-revolt-threatening-reign.html\n",
      "==>prediction: 0.0(ephemeral)\n",
      "\n",
      "web URL :http://www.wired.com/gadgetlab/2011/12/stem-turns-lemons-and-limes-into-juicy-atomizers/\n",
      "==>prediction: 0.0(ephemeral)\n",
      "\n"
     ]
    }
   ],
   "source": [
    "#running testing process\n",
    "PredictData(sc, model, categoriesMap)"
   ]
  },
  {
   "cell_type": "code",
   "execution_count": 22,
   "metadata": {
    "collapsed": false
   },
   "outputs": [
    {
     "name": "stdout",
     "output_type": "stream",
     "text": [
      "DecisionTreeModel classifier of depth 5 with 63 nodes\n",
      "  If (feature 31 <= 1212.0)\n",
      "   If (feature 13 <= 0.0)\n",
      "    If (feature 23 <= 0.038433112)\n",
      "     If (feature 0 <= 0.0)\n",
      "      If (feature 29 <= 12.0)\n",
      "...\n"
     ]
    }
   ],
   "source": [
    "print model.toDebugString()[:200] + '...'"
   ]
  },
  {
   "cell_type": "markdown",
   "metadata": {},
   "source": [
    "# AUC Evaluation"
   ]
  },
  {
   "cell_type": "code",
   "execution_count": 23,
   "metadata": {
    "collapsed": false
   },
   "outputs": [
    {
     "data": {
      "text/plain": [
       "[(1.0, 0.0), (0.0, 0.0), (0.0, 1.0), (0.0, 1.0), (0.0, 1.0)]"
      ]
     },
     "execution_count": 23,
     "metadata": {},
     "output_type": "execute_result"
    }
   ],
   "source": [
    "score = model.predict(validationData.map(lambda p: p.features))\n",
    "scoreAndLabels = score.zip(validationData.map(lambda p: p.label))\n",
    "scoreAndLabels.take(5)"
   ]
  },
  {
   "cell_type": "code",
   "execution_count": 25,
   "metadata": {
    "collapsed": false
   },
   "outputs": [
    {
     "name": "stdout",
     "output_type": "stream",
     "text": [
      "AUC=0.6628045836\n"
     ]
    }
   ],
   "source": [
    "from pyspark.mllib.evaluation import BinaryClassificationMetrics\n",
    "metrics = BinaryClassificationMetrics(scoreAndLabels)\n",
    "print \"AUC=\" + str(metrics.areaUnderROC)"
   ]
  },
  {
   "cell_type": "code",
   "execution_count": 28,
   "metadata": {
    "collapsed": true
   },
   "outputs": [],
   "source": [
    "def evaluateModel(model, validationData):\n",
    "    \n",
    "    score = model.predict(validationData.map(lambda p: p.features))\n",
    "    scoreAndLabels = score.zip(validationData.map(lambda p: p.label))\n",
    "    metrics = BinaryClassificationMetrics(scoreAndLabels)\n",
    "    AUC = metrics.areaUnderROC\n",
    "    return(AUC)  "
   ]
  },
  {
   "cell_type": "code",
   "execution_count": 29,
   "metadata": {
    "collapsed": false
   },
   "outputs": [
    {
     "name": "stdout",
     "output_type": "stream",
     "text": [
      "AUC=0.64\n"
     ]
    }
   ],
   "source": [
    "AUC = evaluateModel(model, validationData)\n",
    "print \"AUC=%.2f\"%float(AUC)"
   ]
  },
  {
   "cell_type": "markdown",
   "metadata": {
    "collapsed": true
   },
   "source": [
    "# Establish trainEvaluateModel"
   ]
  },
  {
   "cell_type": "code",
   "execution_count": 30,
   "metadata": {
    "collapsed": true
   },
   "outputs": [],
   "source": [
    "from time import time\n",
    "def trainEvaluateModel(trainData, validationData, impurityParm, maxDepthParm, maxBinsParm):\n",
    "    startTime = time()\n",
    "    model = DecisionTree.trainClassifier(trainData, numClasses = 2, categoricalFeaturesInfo={}, impurity=impurityParm,\n",
    "                                        maxDepth=maxDepthParm, maxBins=maxBinsParm)\n",
    "    AUC = evaluateModel(model, validationData)\n",
    "    duration = time() - startTime\n",
    "    print \"train evaluation(params):\" +\\\n",
    "    \"impurity=\"+str(impurityParm)+\\\n",
    "    \", maxDepth=\"+str(maxDepthParm)+\\\n",
    "    \", maxBins=\"+str(maxBinsParm)+\"\\n\"+\\\n",
    "    \"==>required time:\"+str(duration)+\\\n",
    "    \" ,AUC=\"+str(AUC)\n",
    "    \n",
    "    return (AUC,duration,impurityParm,maxDepthParm,maxBinsParm,model)\n",
    "    "
   ]
  },
  {
   "cell_type": "code",
   "execution_count": null,
   "metadata": {
    "collapsed": true
   },
   "outputs": [],
   "source": [
    "(AUC,duration,impurityParm,maxDepthParm,maxBinsParm,model) = trainEvaluateModel(trainData, validationData, \"entropy\", 5, 5)"
   ]
  },
  {
   "cell_type": "code",
   "execution_count": 60,
   "metadata": {
    "collapsed": false
   },
   "outputs": [
    {
     "name": "stdout",
     "output_type": "stream",
     "text": [
      "[1.0, 1.0, 0.0, 0.0, 1.0]\n",
      "[0.0, 0.0, 1.0, 0.0, 1.0]\n",
      "[(1.0, 0.0), (1.0, 0.0), (0.0, 1.0), (0.0, 0.0), (1.0, 1.0)]\n",
      "<class 'pyspark.rdd.RDD'>\n",
      "[(1.0, 0.0), (1.0, 0.0), (0.0, 1.0), (0.0, 0.0), (1.0, 1.0)]\n",
      "0.416666666667\n"
     ]
    }
   ],
   "source": [
    "model = DecisionTree.trainClassifier(trainData, numClasses = 2, categoricalFeaturesInfo={}, impurity=\"entropy\",\n",
    "                                     maxDepth=5, maxBins=5)\n",
    "score = model.predict(validationData.map(lambda p: p.features))\n",
    "scoreAndLabels = score.zip(validationData.map(lambda p: p.label))\n",
    "print score.take(5)\n",
    "print validationData.map(lambda p: p.label).take(5)\n",
    "print scoreAndLabels.take(5)\n",
    "sub_pairs = sc.parallelize(scoreAndLabels.take(5))\n",
    "print type(sub_pairs)\n",
    "print sub_pairs.collect()\n",
    "metrics = BinaryClassificationMetrics(sub_pairs)\n",
    "AUC = metrics.areaUnderROC\n",
    "print AUC"
   ]
  },
  {
   "cell_type": "markdown",
   "metadata": {},
   "source": [
    "evaluate the impurity parameter"
   ]
  },
  {
   "cell_type": "code",
   "execution_count": 32,
   "metadata": {
    "collapsed": false
   },
   "outputs": [
    {
     "name": "stdout",
     "output_type": "stream",
     "text": [
      "train evaluation(params):impurity=gini, maxDepth=10, maxBins=10\n",
      "==>required time:1.35198402405 ,AUC=0.665226345015\n",
      "train evaluation(params):impurity=entropy, maxDepth=10, maxBins=10\n",
      "==>required time:0.893938064575 ,AUC=0.637296363035\n"
     ]
    }
   ],
   "source": [
    "impurityList=[\"gini\",\"entropy\"]\n",
    "maxDepthList=[10]\n",
    "maxBinsList=[10]\n",
    "\n",
    "metrics = [trainEvaluateModel(trainData, validationData, impurity, maxDepth, maxBin)\n",
    "           for impurity in impurityList\n",
    "           for maxDepth in maxDepthList\n",
    "           for maxBin in maxBinsList]"
   ]
  },
  {
   "cell_type": "code",
   "execution_count": 33,
   "metadata": {
    "collapsed": false
   },
   "outputs": [
    {
     "data": {
      "text/plain": [
       "[(0.6652263450152612,\n",
       "  1.3519840240478516,\n",
       "  'gini',\n",
       "  10,\n",
       "  10,\n",
       "  DecisionTreeModel classifier of depth 10 with 709 nodes),\n",
       " (0.6372963630346046,\n",
       "  0.8939380645751953,\n",
       "  'entropy',\n",
       "  10,\n",
       "  10,\n",
       "  DecisionTreeModel classifier of depth 10 with 607 nodes)]"
      ]
     },
     "execution_count": 33,
     "metadata": {},
     "output_type": "execute_result"
    }
   ],
   "source": [
    "metrics"
   ]
  },
  {
   "cell_type": "code",
   "execution_count": 34,
   "metadata": {
    "collapsed": false
   },
   "outputs": [
    {
     "name": "stdout",
     "output_type": "stream",
     "text": [
      "['gini', 'entropy']\n"
     ]
    }
   ],
   "source": [
    "import pandas as pd\n",
    "\n",
    "IndexList=impurityList\n",
    "print IndexList"
   ]
  },
  {
   "cell_type": "code",
   "execution_count": 35,
   "metadata": {
    "collapsed": false
   },
   "outputs": [
    {
     "data": {
      "text/html": [
       "<div>\n",
       "<table border=\"1\" class=\"dataframe\">\n",
       "  <thead>\n",
       "    <tr style=\"text-align: right;\">\n",
       "      <th></th>\n",
       "      <th>AUC</th>\n",
       "      <th>duration</th>\n",
       "      <th>impurity</th>\n",
       "      <th>maxDepth</th>\n",
       "      <th>maxBins</th>\n",
       "      <th>model</th>\n",
       "    </tr>\n",
       "  </thead>\n",
       "  <tbody>\n",
       "    <tr>\n",
       "      <th>gini</th>\n",
       "      <td>0.665226</td>\n",
       "      <td>1.351984</td>\n",
       "      <td>gini</td>\n",
       "      <td>10</td>\n",
       "      <td>10</td>\n",
       "      <td>DecisionTreeModel classifier of depth 10 with ...</td>\n",
       "    </tr>\n",
       "    <tr>\n",
       "      <th>entropy</th>\n",
       "      <td>0.637296</td>\n",
       "      <td>0.893938</td>\n",
       "      <td>entropy</td>\n",
       "      <td>10</td>\n",
       "      <td>10</td>\n",
       "      <td>DecisionTreeModel classifier of depth 10 with ...</td>\n",
       "    </tr>\n",
       "  </tbody>\n",
       "</table>\n",
       "</div>"
      ],
      "text/plain": [
       "              AUC  duration impurity  maxDepth  maxBins  \\\n",
       "gini     0.665226  1.351984     gini        10       10   \n",
       "entropy  0.637296  0.893938  entropy        10       10   \n",
       "\n",
       "                                                     model  \n",
       "gini     DecisionTreeModel classifier of depth 10 with ...  \n",
       "entropy  DecisionTreeModel classifier of depth 10 with ...  "
      ]
     },
     "execution_count": 35,
     "metadata": {},
     "output_type": "execute_result"
    }
   ],
   "source": [
    "df = pd.DataFrame(metrics, index=IndexList,\n",
    "                  columns=[\"AUC\", \"duration\", \"impurity\", \"maxDepth\", \"maxBins\", \"model\"])\n",
    "df"
   ]
  },
  {
   "cell_type": "markdown",
   "metadata": {
    "collapsed": false
   },
   "source": [
    "# Establish showchart function"
   ]
  },
  {
   "cell_type": "code",
   "execution_count": 36,
   "metadata": {
    "collapsed": false
   },
   "outputs": [],
   "source": [
    "%matplotlib inline\n",
    "import matplotlib.pyplot as plt\n",
    "def showchart(df, evalparm, barData, lineData, yMin, yMax):\n",
    "    ax = df[barData].plot(kind='bar', title=evalparm, figsize=(10,6), legend=True, fontsize=12)\n",
    "    ax.set_xlabel(evalparm, fontsize=12)\n",
    "    ax.set_ylim([yMin,yMax])\n",
    "    ax.set_ylabel(barData, fontsize=12)\n",
    "    ax2 = ax.twinx()\n",
    "    ax2.plot(df[lineData].values, linestyle='-', marker='o', linewidth=2.0, color='r')\n",
    "    plt.show()"
   ]
  },
  {
   "cell_type": "code",
   "execution_count": 37,
   "metadata": {
    "collapsed": false
   },
   "outputs": [
    {
     "data": {
      "image/png": "[encoded data removed]",
      "text/plain": [
       "<matplotlib.figure.Figure at 0x7f9aef4b0f90>"
      ]
     },
     "metadata": {},
     "output_type": "display_data"
    }
   ],
   "source": [
    "showchart(df, 'impurity', 'AUC', 'duration', 0.5, 0.7)"
   ]
  },
  {
   "cell_type": "markdown",
   "metadata": {},
   "source": [
    "# Evaluation Process:one variable"
   ]
  },
  {
   "cell_type": "code",
   "execution_count": 44,
   "metadata": {
    "collapsed": true
   },
   "outputs": [],
   "source": [
    "def evalParameter(trainData, validationData, evalparm, impurityList, maxDepthList, maxBinsList):\n",
    "    metrics = [trainEvaluateModel(trainData, validationData, impurity, maxDepth, maxBins)\n",
    "               for impurity in impurityList\n",
    "               for maxDepth in maxDepthList\n",
    "               for maxBins in maxBinsList]\n",
    "    \n",
    "    if evalparm == \"impurity\":\n",
    "       IndexList=impurityList[:] \n",
    "    elif evalparm == \"maxDepth\":\n",
    "       IndexList=maxDepthList[:]  \n",
    "    elif evalparm == \"maxBins\":\n",
    "       IndexList=maxBinsList[:]\n",
    "    df = pd.DataFrame(metrics, index=IndexList,\n",
    "                  columns=[\"AUC\", \"duration\", \"impurity\", \"maxDepth\", \"maxBins\", \"model\"])\n",
    "    showchart(df, evalparm, 'AUC', 'duration', 0.5, 0.7)\n",
    "         "
   ]
  },
  {
   "cell_type": "code",
   "execution_count": 45,
   "metadata": {
    "collapsed": false
   },
   "outputs": [
    {
     "name": "stdout",
     "output_type": "stream",
     "text": [
      "train evaluation(params):impurity=gini, maxDepth=3, maxBins=10\n",
      "==>required time:1.09753990173 ,AUC=0.622182179237\n",
      "train evaluation(params):impurity=gini, maxDepth=5, maxBins=10\n",
      "==>required time:0.945752859116 ,AUC=0.661412863605\n",
      "train evaluation(params):impurity=gini, maxDepth=10, maxBins=10\n",
      "==>required time:1.01155114174 ,AUC=0.665226345015\n",
      "train evaluation(params):impurity=gini, maxDepth=15, maxBins=10\n",
      "==>required time:1.30583906174 ,AUC=0.637914169088\n",
      "train evaluation(params):impurity=gini, maxDepth=20, maxBins=10\n",
      "==>required time:1.89042282104 ,AUC=0.617405214577\n",
      "train evaluation(params):impurity=gini, maxDepth=25, maxBins=10\n",
      "==>required time:2.11404895782 ,AUC=0.614691280844\n"
     ]
    },
    {
     "data": {
      "image/png": "[encoded data removed]",
      "text/plain": [
       "<matplotlib.figure.Figure at 0x7f9ae951d250>"
      ]
     },
     "metadata": {},
     "output_type": "display_data"
    }
   ],
   "source": [
    "evalParameter(trainData, validationData, \n",
    "              \"maxDepth\", impurityList=[\"gini\"], \n",
    "              maxDepthList=[3, 5, 10, 15, 20, 25], maxBinsList=[10])"
   ]
  },
  {
   "cell_type": "code",
   "execution_count": 46,
   "metadata": {
    "collapsed": false
   },
   "outputs": [
    {
     "name": "stdout",
     "output_type": "stream",
     "text": [
      "train evaluation(params):impurity=gini, maxDepth=10, maxBins=3\n",
      "==>required time:0.859637975693 ,AUC=0.632894494907\n",
      "train evaluation(params):impurity=gini, maxDepth=10, maxBins=5\n",
      "==>required time:1.01020598412 ,AUC=0.644404810061\n",
      "train evaluation(params):impurity=gini, maxDepth=10, maxBins=10\n",
      "==>required time:1.08872890472 ,AUC=0.665226345015\n",
      "train evaluation(params):impurity=gini, maxDepth=10, maxBins=50\n",
      "==>required time:1.15273284912 ,AUC=0.646158937962\n",
      "train evaluation(params):impurity=gini, maxDepth=10, maxBins=100\n",
      "==>required time:1.01390004158 ,AUC=0.649869451697\n",
      "train evaluation(params):impurity=gini, maxDepth=10, maxBins=200\n",
      "==>required time:1.59757494926 ,AUC=0.646640679587\n"
     ]
    },
    {
     "data": {
      "image/png": "[encoded data removed]",
      "text/plain": [
       "<matplotlib.figure.Figure at 0x7f9ae938a910>"
      ]
     },
     "metadata": {},
     "output_type": "display_data"
    }
   ],
   "source": [
    "evalParameter(trainData, validationData, \n",
    "              \"maxBins\", impurityList=[\"gini\"], \n",
    "              maxDepthList=[10], maxBinsList=[3, 5, 10, 50, 100, 200])"
   ]
  },
  {
   "cell_type": "markdown",
   "metadata": {},
   "source": [
    "# Evaluation Process:multi-variables"
   ]
  },
  {
   "cell_type": "code",
   "execution_count": 42,
   "metadata": {
    "collapsed": true
   },
   "outputs": [],
   "source": [
    "def evalAllParameter(trainData, validationData, impurityList, maxDepthList, maxBinsList):\n",
    "    metrics = [trainEvaluateModel(trainData, validationData, impurity, maxDepth, maxBins)\n",
    "               for impurity in impurityList\n",
    "               for maxDepth in maxDepthList\n",
    "               for maxBins in maxBinsList]\n",
    "    \n",
    "    Smetrics = sorted(metrics, key=lambda k: k[0], reverse=True)\n",
    "    bestParameter = Smetrics[0]\n",
    "    print(\"The best parameters: impurity:\" + str(bestParameter[2])+\n",
    "                               \", maxDepth:\" + str(bestParameter[3])+\n",
    "                               \", maxBins:\" + str(bestParameter[4])+\n",
    "                               \"\\n, AUC = \" + str(bestParameter[0]) \n",
    "         ) \n",
    "    \n",
    "    return bestParameter[5]"
   ]
  },
  {
   "cell_type": "code",
   "execution_count": 43,
   "metadata": {
    "collapsed": false
   },
   "outputs": [
    {
     "name": "stdout",
     "output_type": "stream",
     "text": [
      "train evaluation(params):impurity=gini, maxDepth=10, maxBins=10\n",
      "==>required time:1.14436221123 ,AUC=0.665226345015\n",
      "train evaluation(params):impurity=gini, maxDepth=10, maxBins=50\n",
      "==>required time:1.1322748661 ,AUC=0.646158937962\n",
      "train evaluation(params):impurity=gini, maxDepth=10, maxBins=100\n",
      "==>required time:1.30325102806 ,AUC=0.649869451697\n",
      "train evaluation(params):impurity=gini, maxDepth=15, maxBins=10\n",
      "==>required time:1.48381996155 ,AUC=0.637914169088\n",
      "train evaluation(params):impurity=gini, maxDepth=15, maxBins=50\n",
      "==>required time:1.43478083611 ,AUC=0.599404258449\n",
      "train evaluation(params):impurity=gini, maxDepth=15, maxBins=100\n",
      "==>required time:1.9860470295 ,AUC=0.607064318023\n",
      "train evaluation(params):impurity=entropy, maxDepth=10, maxBins=10\n",
      "==>required time:0.900429964066 ,AUC=0.637296363035\n",
      "train evaluation(params):impurity=entropy, maxDepth=10, maxBins=50\n",
      "==>required time:1.21629810333 ,AUC=0.609329606884\n",
      "train evaluation(params):impurity=entropy, maxDepth=10, maxBins=100\n",
      "==>required time:1.24782204628 ,AUC=0.636880814916\n",
      "train evaluation(params):impurity=entropy, maxDepth=15, maxBins=10\n",
      "==>required time:1.31728577614 ,AUC=0.627503401611\n",
      "train evaluation(params):impurity=entropy, maxDepth=15, maxBins=50\n",
      "==>required time:1.48011517525 ,AUC=0.598646710551\n",
      "train evaluation(params):impurity=entropy, maxDepth=15, maxBins=100\n",
      "==>required time:2.03008198738 ,AUC=0.61534218365\n",
      "The best parameters: impurity:gini, maxDepth:10, maxBins:10\n",
      ", AUC = 0.665226345015\n"
     ]
    }
   ],
   "source": [
    "bestModel = evalAllParameter(trainData, validationData, \n",
    "                             [\"gini\", \"entropy\"], \n",
    "                             [10, 15], \n",
    "                             [10, 50, 100])"
   ]
  },
  {
   "cell_type": "code",
   "execution_count": null,
   "metadata": {
    "collapsed": true
   },
   "outputs": [],
   "source": []
  }
 ],
 "metadata": {
  "kernelspec": {
   "display_name": "Python 2",
   "language": "python",
   "name": "python2"
  },
  "language_info": {
   "codemirror_mode": {
    "name": "ipython",
    "version": 2
   },
   "file_extension": ".py",
   "mimetype": "text/x-python",
   "name": "python",
   "nbconvert_exporter": "python",
   "pygments_lexer": "ipython2",
   "version": "2.7.13"
  }
 },
 "nbformat": 4,
 "nbformat_minor": 0
}
