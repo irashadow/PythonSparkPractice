{
 "cells": [
  {
   "cell_type": "markdown",
   "metadata": {},
   "source": [
    "# Download movie recommander data"
   ]
  },
  {
   "cell_type": "raw",
   "metadata": {},
   "source": [
    "[hadoop@hidos_serv2 data]$ wget http://files.grouplens.org/datasets/movielens/ml-100k.zip\n",
    "--2017-01-24 14:15:07--  http://files.grouplens.org/datasets/movielens/ml-100k.zip\n",
    "Resolving files.grouplens.org (files.grouplens.org)... 128.101.34.146\n",
    "Connecting to files.grouplens.org (files.grouplens.org)|128.101.34.146|:80... connected.\n",
    "HTTP request sent, awaiting response... 200 OK\n",
    "Length: 4924029 (4.7M) [application/zip]\n",
    "Saving to: 'ml-100k.zip'\n",
    "\n",
    "100%[=====================================================================>] 4,924,029   2.74MB/s   in 1.7s   \n",
    "\n",
    "2017-01-24 14:15:10 (2.74 MB/s) - 'ml-100k.zip' saved [4924029/4924029]\n",
    "\n",
    "[hadoop@hidos_serv2 data]$ unzip ml-100k.zip\n",
    "[hadoop@hidos_serv2 ml-100k]$ hadoop fs -ls -R /\n",
    "drwxr-xr-x   - hadoop supergroup          0 2017-01-23 16:47 /user\n",
    "drwxr-xr-x   - hadoop supergroup          0 2017-01-23 16:47 /user/hadoop\n",
    "drwxr-xr-x   - hadoop supergroup          0 2017-01-23 16:50 /user/hadoop/.sparkStaging\n",
    "drwxr-xr-x   - hadoop supergroup          0 2017-01-23 16:26 /user/hduser\n",
    "drwxr-xr-x   - hadoop supergroup          0 2017-01-23 14:05 /user/hduser/test\n",
    "drwxr-xr-x   - hadoop supergroup          0 2017-01-23 16:26 /user/hduser/wordcount\n",
    "drwxr-xr-x   - hadoop supergroup          0 2017-01-23 16:28 /user/hduser/wordcount/input\n",
    "-rw-r--r--   3 hadoop supergroup      15429 2017-01-23 16:28 /user/hduser/wordcount/input/LICENSE.txt\n",
    "[hadoop@hidos_serv2 ml-100k]$ hadoop fs -mkdir /user/hduser/MovieRecom\n",
    "[hadoop@hidos_serv2 data]$ hadoop fs -copyFromLocal -f ml-100k /user/hduser/MovieRecom\n",
    "[hadoop@hidos_serv2 data]$ hadoop fs -ls /user/hduser/MovieRecom\n",
    "Found 1 items\n",
    "drwxr-xr-x   - hadoop supergroup          0 2017-01-24 14:18 /user/hduser/MovieRecom/ml-100k"
   ]
  },
  {
   "cell_type": "code",
   "execution_count": 2,
   "metadata": {
    "collapsed": false
   },
   "outputs": [
    {
     "data": {
      "text/plain": [
       "u'local[*]'"
      ]
     },
     "execution_count": 2,
     "metadata": {},
     "output_type": "execute_result"
    }
   ],
   "source": [
    "sc.master"
   ]
  },
  {
   "cell_type": "code",
   "execution_count": 3,
   "metadata": {
    "collapsed": true
   },
   "outputs": [],
   "source": [
    "global Path\n",
    "if sc.master[0:5]=='local':\n",
    "   Path = \"file:/home/hadoop/pythonwork/data/ml-100k\" \n",
    "else:\n",
    "   Path = \"hdfs:/user/hduser/MovieRecom/ml-100k\"  "
   ]
  },
  {
   "cell_type": "code",
   "execution_count": 6,
   "metadata": {
    "collapsed": false
   },
   "outputs": [
    {
     "name": "stdout",
     "output_type": "stream",
     "text": [
      "100000\n",
      "196\t242\t3\t881250949\n"
     ]
    }
   ],
   "source": [
    "rawUserData = sc.textFile(Path+'/u.data')\n",
    "print rawUserData.count()\n",
    "print rawUserData.first()"
   ]
  },
  {
   "cell_type": "code",
   "execution_count": 7,
   "metadata": {
    "collapsed": true
   },
   "outputs": [],
   "source": [
    "from pyspark.mllib.recommendation import Rating"
   ]
  },
  {
   "cell_type": "code",
   "execution_count": 8,
   "metadata": {
    "collapsed": false
   },
   "outputs": [
    {
     "data": {
      "text/plain": [
       "[[u'196', u'242', u'3'],\n",
       " [u'186', u'302', u'3'],\n",
       " [u'22', u'377', u'1'],\n",
       " [u'244', u'51', u'2'],\n",
       " [u'166', u'346', u'1']]"
      ]
     },
     "execution_count": 8,
     "metadata": {},
     "output_type": "execute_result"
    }
   ],
   "source": [
    "rawRating = rawUserData.map(lambda line: line.split('\\t')[:3])\n",
    "rawRating.take(5)"
   ]
  },
  {
   "cell_type": "markdown",
   "metadata": {},
   "source": [
    "Prepare ALS training data"
   ]
  },
  {
   "cell_type": "code",
   "execution_count": 9,
   "metadata": {
    "collapsed": false
   },
   "outputs": [
    {
     "data": {
      "text/plain": [
       "[(u'196', u'242', u'3'),\n",
       " (u'186', u'302', u'3'),\n",
       " (u'22', u'377', u'1'),\n",
       " (u'244', u'51', u'2'),\n",
       " (u'166', u'346', u'1')]"
      ]
     },
     "execution_count": 9,
     "metadata": {},
     "output_type": "execute_result"
    }
   ],
   "source": [
    "ratingsRDD = rawRating.map(lambda x: (x[0],x[1],x[2]))\n",
    "ratingsRDD.take(5)"
   ]
  },
  {
   "cell_type": "code",
   "execution_count": 10,
   "metadata": {
    "collapsed": false
   },
   "outputs": [
    {
     "data": {
      "text/plain": [
       "100000"
      ]
     },
     "execution_count": 10,
     "metadata": {},
     "output_type": "execute_result"
    }
   ],
   "source": [
    "numRating = ratingsRDD.count()\n",
    "numRating"
   ]
  },
  {
   "cell_type": "code",
   "execution_count": 11,
   "metadata": {
    "collapsed": false
   },
   "outputs": [
    {
     "data": {
      "text/plain": [
       "943"
      ]
     },
     "execution_count": 11,
     "metadata": {},
     "output_type": "execute_result"
    }
   ],
   "source": [
    "numUsers = ratingsRDD.map(lambda x: x[0]).distinct().count()\n",
    "numUsers"
   ]
  },
  {
   "cell_type": "code",
   "execution_count": 12,
   "metadata": {
    "collapsed": false
   },
   "outputs": [
    {
     "data": {
      "text/plain": [
       "1682"
      ]
     },
     "execution_count": 12,
     "metadata": {},
     "output_type": "execute_result"
    }
   ],
   "source": [
    "numMovies = ratingsRDD.map(lambda x: x[1]).distinct().count()\n",
    "numMovies"
   ]
  },
  {
   "cell_type": "code",
   "execution_count": 13,
   "metadata": {
    "collapsed": true
   },
   "outputs": [],
   "source": [
    "from pyspark.mllib.recommendation import ALS"
   ]
  },
  {
   "cell_type": "code",
   "execution_count": 15,
   "metadata": {
    "collapsed": false
   },
   "outputs": [
    {
     "name": "stdout",
     "output_type": "stream",
     "text": [
      "<pyspark.mllib.recommendation.MatrixFactorizationModel object at 0x7fc14a4647d0>\n"
     ]
    }
   ],
   "source": [
    "model = ALS.train(ratingsRDD, 10, 20, 0.01)\n",
    "print model"
   ]
  },
  {
   "cell_type": "code",
   "execution_count": 19,
   "metadata": {
    "collapsed": false
   },
   "outputs": [
    {
     "data": {
      "text/plain": [
       "[Rating(user=100, product=718, rating=5.598814479946409),\n",
       " Rating(user=100, product=714, rating=5.596671584327674),\n",
       " Rating(user=100, product=613, rating=5.560075142120345),\n",
       " Rating(user=100, product=253, rating=5.501194648704896),\n",
       " Rating(user=100, product=1129, rating=5.500014205662509)]"
      ]
     },
     "execution_count": 19,
     "metadata": {},
     "output_type": "execute_result"
    }
   ],
   "source": [
    "model.recommendProducts(user=100,num=5)"
   ]
  },
  {
   "cell_type": "code",
   "execution_count": 20,
   "metadata": {
    "collapsed": false
   },
   "outputs": [
    {
     "data": {
      "text/plain": [
       "4.027772104881092"
      ]
     },
     "execution_count": 20,
     "metadata": {},
     "output_type": "execute_result"
    }
   ],
   "source": [
    "model.predict(100,1141)"
   ]
  },
  {
   "cell_type": "code",
   "execution_count": 22,
   "metadata": {
    "collapsed": false
   },
   "outputs": [
    {
     "data": {
      "text/plain": [
       "[Rating(user=820, product=200, rating=6.883039683193074),\n",
       " Rating(user=732, product=200, rating=6.715244570864289),\n",
       " Rating(user=696, product=200, rating=6.5341278289400355),\n",
       " Rating(user=167, product=200, rating=6.483741969222858),\n",
       " Rating(user=229, product=200, rating=6.24244308761261)]"
      ]
     },
     "execution_count": 22,
     "metadata": {},
     "output_type": "execute_result"
    }
   ],
   "source": [
    "model.recommendUsers(product=200,num=5)"
   ]
  },
  {
   "cell_type": "markdown",
   "metadata": {},
   "source": [
    "load movie name"
   ]
  },
  {
   "cell_type": "code",
   "execution_count": 23,
   "metadata": {
    "collapsed": false
   },
   "outputs": [
    {
     "data": {
      "text/plain": [
       "1682"
      ]
     },
     "execution_count": 23,
     "metadata": {},
     "output_type": "execute_result"
    }
   ],
   "source": [
    "itemRDD = sc.textFile(Path+'/u.item')\n",
    "itemRDD.count()"
   ]
  },
  {
   "cell_type": "code",
   "execution_count": 25,
   "metadata": {
    "collapsed": false
   },
   "outputs": [
    {
     "data": {
      "text/plain": [
       "1682"
      ]
     },
     "execution_count": 25,
     "metadata": {},
     "output_type": "execute_result"
    }
   ],
   "source": [
    "movieTitle = itemRDD.map(lambda line : line.split(\"|\")).map(lambda a : (float(a[0]),a[1])).collectAsMap()\n",
    "len(movieTitle)"
   ]
  },
  {
   "cell_type": "code",
   "execution_count": 26,
   "metadata": {
    "collapsed": false
   },
   "outputs": [
    {
     "data": {
      "text/plain": [
       "[(1.0, u'Toy Story (1995)'),\n",
       " (2.0, u'GoldenEye (1995)'),\n",
       " (3.0, u'Four Rooms (1995)'),\n",
       " (4.0, u'Get Shorty (1995)'),\n",
       " (5.0, u'Copycat (1995)')]"
      ]
     },
     "execution_count": 26,
     "metadata": {},
     "output_type": "execute_result"
    }
   ],
   "source": [
    "movieTitle.items()[:5]"
   ]
  },
  {
   "cell_type": "markdown",
   "metadata": {},
   "source": [
    "list the rank 5 recommendered movie"
   ]
  },
  {
   "cell_type": "code",
   "execution_count": 30,
   "metadata": {
    "collapsed": false
   },
   "outputs": [
    {
     "name": "stdout",
     "output_type": "stream",
     "text": [
      "for user id : 100, recommend movie : In the Bleak Midwinter (1995), recommend score : 5.59881447995\n",
      "for user id : 100, recommend movie : Carrington (1995), recommend score : 5.59667158433\n",
      "for user id : 100, recommend movie : My Man Godfrey (1936), recommend score : 5.56007514212\n",
      "for user id : 100, recommend movie : Pillow Book, The (1995), recommend score : 5.5011946487\n",
      "for user id : 100, recommend movie : Chungking Express (1994), recommend score : 5.50001420566\n"
     ]
    }
   ],
   "source": [
    "recommendP = model.recommendProducts(user = 100, num = 5)\n",
    "for p in recommendP:\n",
    "    print \"for user id : \" + str(p[0]) +\\\n",
    "          \", recommend movie : \" + str(movieTitle[p[1]]) +\\\n",
    "          \", recommend score : \" + str(p[2])"
   ]
  },
  {
   "cell_type": "code",
   "execution_count": null,
   "metadata": {
    "collapsed": true
   },
   "outputs": [],
   "source": []
  }
 ],
 "metadata": {
  "kernelspec": {
   "display_name": "Python 2",
   "language": "python",
   "name": "python2"
  },
  "language_info": {
   "codemirror_mode": {
    "name": "ipython",
    "version": 2
   },
   "file_extension": ".py",
   "mimetype": "text/x-python",
   "name": "python",
   "nbconvert_exporter": "python",
   "pygments_lexer": "ipython2",
   "version": "2.7.13"
  }
 },
 "nbformat": 4,
 "nbformat_minor": 0
}
