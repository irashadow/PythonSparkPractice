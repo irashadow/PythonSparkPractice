{
 "cells": [
  {
   "cell_type": "code",
   "execution_count": 11,
   "metadata": {
    "collapsed": false
   },
   "outputs": [],
   "source": [
    "import sys\n",
    "from time import time\n",
    "import pandas as pd\n",
    "%matplotlib inline\n",
    "import matplotlib.pyplot as plt\n",
    "from pyspark import SparkConf, SparkContext\n",
    "from pyspark.mllib.tree import DecisionTree\n",
    "from pyspark.mllib.regression import LabeledPoint\n",
    "import numpy as np\n",
    "from pyspark.mllib.evaluation import MulticlassMetrics\n"
   ]
  },
  {
   "cell_type": "code",
   "execution_count": 4,
   "metadata": {
    "collapsed": true
   },
   "outputs": [],
   "source": [
    "def extract_label(fields):\n",
    "    label = (fields[-1])\n",
    "    return float(label)-1\n",
    "\n",
    "def extract_features(record,featureEnd):\n",
    "    numericalFeatures = [convert_float(field) for field in record[0:featureEnd]]\n",
    "    return numericalFeatures\n",
    "\n",
    "def convert_float(x):\n",
    "    return (0 if x=='?' else float(x))\n"
   ]
  },
  {
   "cell_type": "code",
   "execution_count": 5,
   "metadata": {
    "collapsed": false
   },
   "outputs": [],
   "source": [
    "def PrepareData(sc):\n",
    "    global Path\n",
    "    if sc.master[0:5]=='local':\n",
    "       Path = \"file:/home/hadoop/pythonwork/data/covtype\" \n",
    "    else:\n",
    "       Path = \"hdfs:/user/hduser/covtype\" \n",
    "    \n",
    "    print 'data loading..'\n",
    "    rawData = sc.textFile(Path+'/covtype.data')\n",
    "    lines = rawData.map(lambda x:x.split(\",\"))\n",
    "    print str(lines.count())\n",
    "    #-----------construct the training data RDD[LabeledPoint]\n",
    "    labelpointRDD = lines.map(lambda r:LabeledPoint(\n",
    "                    extract_label(r),\n",
    "                    extract_features(r, len(r) - 1)))\n",
    "    #randomly split the data as training data, validation data, and testing data\n",
    "    (trainData, validationData, testData) = labelpointRDD.randomSplit([8, 1, 1])\n",
    "    print('trainData size:'+str(trainData.count())+ \n",
    "          ', validData size:'+str(validationData.count())+\n",
    "          ', testData size:'+str(testData.count()))\n",
    "    return (trainData, validationData, testData)"
   ]
  },
  {
   "cell_type": "code",
   "execution_count": 6,
   "metadata": {
    "collapsed": false
   },
   "outputs": [
    {
     "name": "stdout",
     "output_type": "stream",
     "text": [
      "data loading..\n",
      "581012\n",
      "trainData size:464134, validData size:58271, testData size:58607\n"
     ]
    },
    {
     "data": {
      "text/plain": [
       "PythonRDD[8] at RDD at PythonRDD.scala:48"
      ]
     },
     "execution_count": 6,
     "metadata": {},
     "output_type": "execute_result"
    }
   ],
   "source": [
    "(trainData, validationData, testData) = PrepareData(sc)\n",
    "trainData.persist()\n",
    "validationData.persist()\n",
    "testData.persist()"
   ]
  },
  {
   "cell_type": "code",
   "execution_count": null,
   "metadata": {
    "collapsed": false
   },
   "outputs": [],
   "source": []
  },
  {
   "cell_type": "code",
   "execution_count": 13,
   "metadata": {
    "collapsed": false
   },
   "outputs": [],
   "source": [
    "def evaluateModel(model, validationData):    \n",
    "    score = model.predict(validationData.map(lambda p: p.features)).map(lambda x: float(x)) #modify by myself\n",
    "    scoreAndLabels = score.zip(validationData.map(lambda p: p.label))\n",
    "    metrics = MulticlassMetrics(scoreAndLabels)\n",
    "    accuracy = metrics.accuracy\n",
    "    return(accuracy)  \n",
    "\n",
    "def trainEvaluateModel(trainData, validationData, impurityParm, maxDepthParm, maxBinsParm):\n",
    "    startTime = time()\n",
    "    model = DecisionTree.trainClassifier(trainData, numClasses = 7, categoricalFeaturesInfo={}, impurity=impurityParm,\n",
    "                                        maxDepth=maxDepthParm, maxBins=maxBinsParm)\n",
    "    AUC = evaluateModel(model, validationData)\n",
    "    duration = time() - startTime\n",
    "    print \"train evaluation(params):\" +\\\n",
    "    \"impurity=\"+str(impurityParm)+\\\n",
    "    \", maxDepth=\"+str(maxDepthParm)+\\\n",
    "    \", maxBins=\"+str(maxBinsParm)+\"\\n\"+\\\n",
    "    \"==>required time:\"+str(duration)+\\\n",
    "    \" ,accuracy=%.2f\"%(accuracy)\n",
    "    \n",
    "    return (AUC,duration,impurityParm,maxDepthParm,maxBinsParm,model)"
   ]
  },
  {
   "cell_type": "code",
   "execution_count": 12,
   "metadata": {
    "collapsed": false
   },
   "outputs": [
    {
     "name": "stdout",
     "output_type": "stream",
     "text": [
      "[1.0, 1.0, 1.0, 1.0, 0.0]\n",
      "[4.0, 4.0, 1.0, 0.0, 1.0]\n",
      "[(1.0, 4.0), (1.0, 4.0), (1.0, 1.0), (1.0, 0.0), (0.0, 1.0)]\n",
      "0.699318700554\n"
     ]
    }
   ],
   "source": [
    "\n",
    "model = DecisionTree.trainClassifier(trainData, numClasses = 7, categoricalFeaturesInfo={}, impurity=\"entropy\",\n",
    "                                     maxDepth=5, maxBins=5)\n",
    "score = model.predict(validationData.map(lambda p: p.features))\n",
    "scoreAndLabels = score.zip(validationData.map(lambda p: p.label))\n",
    "print score.take(5)\n",
    "print validationData.map(lambda p: p.label).take(5)\n",
    "print scoreAndLabels.take(5)\n",
    "\n",
    "metrics = MulticlassMetrics(scoreAndLabels)\n",
    "accuracy = metrics.accuracy\n",
    "print accuracy"
   ]
  },
  {
   "cell_type": "code",
   "execution_count": 7,
   "metadata": {
    "collapsed": false
   },
   "outputs": [
    {
     "data": {
      "text/plain": [
       "u'local[*]'"
      ]
     },
     "execution_count": 7,
     "metadata": {},
     "output_type": "execute_result"
    }
   ],
   "source": [
    "sc.master"
   ]
  },
  {
   "cell_type": "code",
   "execution_count": 14,
   "metadata": {
    "collapsed": true
   },
   "outputs": [],
   "source": [
    "def showchart(df, evalparm, barData, lineData, yMin, yMax):\n",
    "    ax = df[barData].plot(kind='bar', title=evalparm, figsize=(10,6), legend=True, fontsize=12)\n",
    "    ax.set_xlabel(evalparm, fontsize=12)\n",
    "    ax.set_ylim([yMin,yMax])\n",
    "    ax.set_ylabel(barData, fontsize=12)\n",
    "    ax2 = ax.twinx()\n",
    "    ax2.plot(df[lineData].values, linestyle='-', marker='o', linewidth=2.0, color='r')\n",
    "    plt.show()\n",
    "    \n",
    "def evalParameter(trainData, validationData, evalparm, impurityList, maxDepthList, maxBinsList):\n",
    "    metrics = [trainEvaluateModel(trainData, validationData, impurity, maxDepth, maxBins)\n",
    "               for impurity in impurityList\n",
    "               for maxDepth in maxDepthList\n",
    "               for maxBins in maxBinsList]\n",
    "    \n",
    "    if evalparm == \"impurity\":\n",
    "       IndexList=impurityList[:] \n",
    "    elif evalparm == \"maxDepth\":\n",
    "       IndexList=maxDepthList[:]  \n",
    "    elif evalparm == \"maxBins\":\n",
    "       IndexList=maxBinsList[:]\n",
    "    df = pd.DataFrame(metrics, index=IndexList,\n",
    "                  columns=[\"accuracy\", \"duration\", \"impurity\", \"maxDepth\", \"maxBins\", \"model\"])\n",
    "    showchart(df, evalparm, 'accuracy', 'duration', 0.6, 1.0)"
   ]
  },
  {
   "cell_type": "code",
   "execution_count": 16,
   "metadata": {
    "collapsed": false
   },
   "outputs": [
    {
     "name": "stdout",
     "output_type": "stream",
     "text": [
      "train evaluation(params):impurity=gini, maxDepth=3, maxBins=10\n",
      "==>required time:37.4695429802 ,accuracy=0.70\n",
      "train evaluation(params):impurity=gini, maxDepth=5, maxBins=10\n",
      "==>required time:37.134540081 ,accuracy=0.70\n",
      "train evaluation(params):impurity=gini, maxDepth=10, maxBins=10\n",
      "==>required time:36.979432106 ,accuracy=0.70\n",
      "train evaluation(params):impurity=gini, maxDepth=15, maxBins=10\n",
      "==>required time:41.8183169365 ,accuracy=0.70\n",
      "train evaluation(params):impurity=gini, maxDepth=20, maxBins=10\n",
      "==>required time:47.6803400517 ,accuracy=0.70\n",
      "train evaluation(params):impurity=gini, maxDepth=25, maxBins=10\n",
      "==>required time:57.7561769485 ,accuracy=0.70\n"
     ]
    },
    {
     "data": {
      "image/png": "[encoded data removed]",
      "text/plain": [
       "<matplotlib.figure.Figure at 0x7f77501e3b90>"
      ]
     },
     "metadata": {},
     "output_type": "display_data"
    }
   ],
   "source": [
    "evalParameter(trainData, validationData, \n",
    "              \"maxDepth\", impurityList=[\"gini\"], \n",
    "              maxDepthList=[3, 5, 10, 15, 20, 25], maxBinsList=[10])"
   ]
  },
  {
   "cell_type": "code",
   "execution_count": 17,
   "metadata": {
    "collapsed": false
   },
   "outputs": [
    {
     "name": "stdout",
     "output_type": "stream",
     "text": [
      "train evaluation(params):impurity=entropy, maxDepth=10, maxBins=3\n",
      "==>required time:39.6776380539 ,accuracy=0.70\n",
      "train evaluation(params):impurity=entropy, maxDepth=10, maxBins=5\n",
      "==>required time:39.3610069752 ,accuracy=0.70\n",
      "train evaluation(params):impurity=entropy, maxDepth=10, maxBins=10\n",
      "==>required time:38.7316739559 ,accuracy=0.70\n",
      "train evaluation(params):impurity=entropy, maxDepth=10, maxBins=50\n",
      "==>required time:39.4493460655 ,accuracy=0.70\n",
      "train evaluation(params):impurity=entropy, maxDepth=10, maxBins=100\n",
      "==>required time:39.162140131 ,accuracy=0.70\n",
      "train evaluation(params):impurity=entropy, maxDepth=10, maxBins=200\n",
      "==>required time:40.2143778801 ,accuracy=0.70\n"
     ]
    },
    {
     "data": {
      "image/png": "[encoded data removed]",
      "text/plain": [
       "<matplotlib.figure.Figure at 0x7f77501f9110>"
      ]
     },
     "metadata": {},
     "output_type": "display_data"
    }
   ],
   "source": [
    "evalParameter(trainData, validationData, \n",
    "              \"maxBins\", impurityList=[\"entropy\"], \n",
    "              maxDepthList=[10], maxBinsList=[3, 5, 10, 50, 100, 200])"
   ]
  },
  {
   "cell_type": "code",
   "execution_count": 20,
   "metadata": {
    "collapsed": false
   },
   "outputs": [],
   "source": [
    "BestModel = DecisionTree.trainClassifier(trainData, numClasses = 7, categoricalFeaturesInfo={}, impurity=\"entropy\",\n",
    "                                     maxDepth=25, maxBins=50)"
   ]
  },
  {
   "cell_type": "markdown",
   "metadata": {
    "collapsed": true
   },
   "source": [
    "# Evaluation Process:Best model "
   ]
  },
  {
   "cell_type": "code",
   "execution_count": 30,
   "metadata": {
    "collapsed": false
   },
   "outputs": [
    {
     "name": "stdout",
     "output_type": "stream",
     "text": [
      "condition: \n",
      " Elvation:2502.0, Aspect:81.0, Slope:7.0, Vertical_Distance_to_Hydrology:175.0\n",
      ",Horizontal_Distance_to_Roadways:11.0 , Hillshade_9am:912.0 \n",
      "==>Prediction: 1.0, true label:4.0, result:wrong\n",
      "condition: \n",
      " Elvation:2509.0, Aspect:59.0, Slope:7.0, Vertical_Distance_to_Hydrology:134.0\n",
      ",Horizontal_Distance_to_Roadways:10.0 , Hillshade_9am:900.0 \n",
      "==>Prediction: 1.0, true label:4.0, result:wrong\n",
      "condition: \n",
      " Elvation:2850.0, Aspect:6.0, Slope:9.0, Vertical_Distance_to_Hydrology:0.0\n",
      ",Horizontal_Distance_to_Roadways:0.0 , Hillshade_9am:4858.0 \n",
      "==>Prediction: 1.0, true label:1.0, result:correct\n",
      "condition: \n",
      " Elvation:2840.0, Aspect:14.0, Slope:14.0, Vertical_Distance_to_Hydrology:216.0\n",
      ",Horizontal_Distance_to_Roadways:88.0 , Hillshade_9am:3552.0 \n",
      "==>Prediction: 1.0, true label:0.0, result:wrong\n",
      "condition: \n",
      " Elvation:3073.0, Aspect:173.0, Slope:12.0, Vertical_Distance_to_Hydrology:108.0\n",
      ",Horizontal_Distance_to_Roadways:-3.0 , Hillshade_9am:6836.0 \n",
      "==>Prediction: 0.0, true label:1.0, result:wrong\n",
      "condition: \n",
      " Elvation:2804.0, Aspect:72.0, Slope:5.0, Vertical_Distance_to_Hydrology:543.0\n",
      ",Horizontal_Distance_to_Roadways:61.0 , Hillshade_9am:3115.0 \n",
      "==>Prediction: 1.0, true label:1.0, result:correct\n",
      "condition: \n",
      " Elvation:2909.0, Aspect:57.0, Slope:16.0, Vertical_Distance_to_Hydrology:134.0\n",
      ",Horizontal_Distance_to_Roadways:23.0 , Hillshade_9am:5502.0 \n",
      "==>Prediction: 1.0, true label:1.0, result:correct\n",
      "condition: \n",
      " Elvation:2569.0, Aspect:102.0, Slope:7.0, Vertical_Distance_to_Hydrology:228.0\n",
      ",Horizontal_Distance_to_Roadways:18.0 , Hillshade_9am:1266.0 \n",
      "==>Prediction: 1.0, true label:1.0, result:correct\n",
      "condition: \n",
      " Elvation:2818.0, Aspect:119.0, Slope:19.0, Vertical_Distance_to_Hydrology:30.0\n",
      ",Horizontal_Distance_to_Roadways:10.0 , Hillshade_9am:5213.0 \n",
      "==>Prediction: 1.0, true label:1.0, result:correct\n",
      "condition: \n",
      " Elvation:2716.0, Aspect:1.0, Slope:10.0, Vertical_Distance_to_Hydrology:234.0\n",
      ",Horizontal_Distance_to_Roadways:27.0 , Hillshade_9am:2100.0 \n",
      "==>Prediction: 1.0, true label:1.0, result:correct\n"
     ]
    }
   ],
   "source": [
    "for lp in validationData.take(10):\n",
    "    predict = model.predict(lp.features)\n",
    "    label = lp.label\n",
    "    features = lp.features\n",
    "    result = ('correct' if (label == predict) else 'wrong')\n",
    "    print(\"condition: \\n Elvation:\" + str(features[0])+\n",
    "          \", Aspect:\" + str(features[1])+\n",
    "          \", Slope:\" + str(features[2])+\n",
    "          \", Vertical_Distance_to_Hydrology:\" + str(features[3])+\n",
    "          \"\\n,Horizontal_Distance_to_Roadways:\" + str(features[4])+\n",
    "          \" , Hillshade_9am:\" + str(features[5])+\n",
    "          \" \\n==>Prediction: \" + str(predict)+\n",
    "          \", true label:\" + str(label) + \", result:\" + result\n",
    "         )"
   ]
  },
  {
   "cell_type": "code",
   "execution_count": null,
   "metadata": {
    "collapsed": false
   },
   "outputs": [],
   "source": []
  },
  {
   "cell_type": "code",
   "execution_count": null,
   "metadata": {
    "collapsed": true
   },
   "outputs": [],
   "source": []
  }
 ],
 "metadata": {
  "kernelspec": {
   "display_name": "Python 2",
   "language": "python",
   "name": "python2"
  },
  "language_info": {
   "codemirror_mode": {
    "name": "ipython",
    "version": 2
   },
   "file_extension": ".py",
   "mimetype": "text/x-python",
   "name": "python",
   "nbconvert_exporter": "python",
   "pygments_lexer": "ipython2",
   "version": "2.7.13"
  }
 },
 "nbformat": 4,
 "nbformat_minor": 0
}
