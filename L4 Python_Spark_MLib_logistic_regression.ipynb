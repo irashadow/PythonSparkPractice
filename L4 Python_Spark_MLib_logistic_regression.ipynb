{
 "cells": [
  {
   "cell_type": "code",
   "execution_count": 6,
   "metadata": {
    "collapsed": false
   },
   "outputs": [],
   "source": [
    "import sys\n",
    "from time import time\n",
    "import pandas as pd\n",
    "%matplotlib inline\n",
    "import matplotlib.pyplot as plt\n",
    "from pyspark import SparkConf, SparkContext\n",
    "from pyspark.mllib.classification import LogisticRegressionWithSGD\n",
    "from pyspark.mllib.regression import LabeledPoint\n",
    "import numpy as np\n",
    "from pyspark.mllib.evaluation import BinaryClassificationMetrics\n",
    "from pyspark.mllib.feature import StandardScaler"
   ]
  },
  {
   "cell_type": "code",
   "execution_count": 3,
   "metadata": {
    "collapsed": true
   },
   "outputs": [],
   "source": [
    "def extract_label(fields):\n",
    "    label = (fields[-1])\n",
    "    return float(label)\n",
    "\n",
    "def extract_features(fields,categoriesMap,featureEnd):\n",
    "    categoryIdx = categoriesMap[fields[3]]\n",
    "    categoryFeatures = np.zeros(len(categoriesMap))\n",
    "    categoryFeatures[categoryIdx] = 1\n",
    "    numericalFeatures = [convert_float(field) for field in fields[4:featureEnd]]\n",
    "    return np.concatenate(( categoryFeatures, numericalFeatures))\n",
    "\n",
    "def convert_float(x):\n",
    "    return (0 if x=='?' else float(x))\n"
   ]
  },
  {
   "cell_type": "code",
   "execution_count": 4,
   "metadata": {
    "collapsed": false
   },
   "outputs": [],
   "source": [
    "def PrepareData(sc):\n",
    "    global Path\n",
    "    if sc.master[0:5]=='local':\n",
    "       Path = \"file:/home/hadoop/pythonwork/data/stumbleupon\" \n",
    "    else:\n",
    "       Path = \"hdfs:/user/hduser/MovieRecom/stumbleupon\" \n",
    "    \n",
    "    print 'data loading..'\n",
    "    rawDataWithHeader = sc.textFile(Path+'/train.tsv')\n",
    "    header = rawDataWithHeader.first()\n",
    "    rawData = rawDataWithHeader.filter(lambda x:x != header)\n",
    "    rData = rawData.map(lambda x: x.replace(\"\\\"\",\"\"))\n",
    "    lines = rData.map(lambda x:x.split(\"\\t\"))\n",
    "    print str(lines.count())\n",
    "    #-----------construct the training data RDD[LabeledPoint]\n",
    "    print \"Before Normalzation.. \\n\"\n",
    "    categoriesMap = lines.map(lambda fields:fields[3])\\\n",
    "                         .distinct().zipWithIndex().collectAsMap()\n",
    "    labelRDD = lines.map(lambda r: extract_label(r))\n",
    "    featureRDD = lines.map(lambda r: extract_features(r, categoriesMap, len(r)-1)) \n",
    "    for i in featureRDD.first():\n",
    "        print (str(i)+\",\"),\n",
    "    print \"\\n\"+\"After Normalzation.. \\n\"\n",
    "    stdScalar = StandardScaler(withMean=True, withStd=True).fit(featureRDD)\n",
    "    #print type(stdScalar)\n",
    "    ScalerFeatureRDD = stdScalar.transform(featureRDD)\n",
    "    for i in ScalerFeatureRDD.first():\n",
    "        print (str(i)+\",\"),\n",
    "    labelpoint = labelRDD.zip(ScalerFeatureRDD)\n",
    "    labelpointRDD = labelpoint.map(lambda r: LabeledPoint(r[0], r[1]))\n",
    "    (trainData, validationData, testData) = labelpointRDD.randomSplit([8, 1, 1])\n",
    "    print('\\n'+'trainData size:'+str(trainData.count())+ \n",
    "          ', validData size:'+str(validationData.count())+\n",
    "          ', testData size:'+str(testData.count()))\n",
    "    return (trainData, validationData, testData)        "
   ]
  },
  {
   "cell_type": "code",
   "execution_count": 7,
   "metadata": {
    "collapsed": false
   },
   "outputs": [
    {
     "name": "stdout",
     "output_type": "stream",
     "text": [
      "data loading..\n",
      "7395\n",
      "Before Normalzation.. \n",
      "\n",
      "0.0, 1.0, 0.0, 0.0, 0.0, 0.0, 0.0, 0.0, 0.0, 0.0, 0.0, 0.0, 0.0, 0.0, 0.789131, 2.055555556, 0.676470588, 0.205882353, 0.047058824, 0.023529412, 0.443783175, 0.0, 0.0, 0.09077381, 0.0, 0.245831182, 0.003883495, 1.0, 1.0, 24.0, 0.0, 5424.0, 170.0, 8.0, 0.152941176, 0.079129575, \n",
      "After Normalzation.. \n",
      "\n",
      "-0.446421204794, 2.72073665645, -0.204182210579, -0.220526884579, -0.0648775723926, -0.270999069693, -0.680752790425, -0.101894690972, -0.028494000387, -0.201654052319, -0.232727977095, -0.0991499193088, -0.0232621058984, -0.381813223243, 1.1376473365, -0.0819355716929, 1.02513981289, -0.0558635644254, -0.468893253129, -0.354305326308, -0.317535217236, 0.33845079824, 0.0, 0.828822173315, -0.147268943346, 0.229639823578, -0.141625969099, 0.790238049918, 0.717194729453, -0.297996816496, -0.20346257793, -0.0329672096969, -0.0487811297558, 0.940069975117, -0.108698488525, -0.278820782314, \n",
      "trainData size:5913, validData size:742, testData size:740\n"
     ]
    },
    {
     "data": {
      "text/plain": [
       "PythonRDD[38] at RDD at PythonRDD.scala:48"
      ]
     },
     "execution_count": 7,
     "metadata": {},
     "output_type": "execute_result"
    }
   ],
   "source": [
    "(trainData, validationData, testData) = PrepareData(sc)\n",
    "trainData.persist()\n",
    "validationData.persist()\n",
    "testData.persist()"
   ]
  },
  {
   "cell_type": "code",
   "execution_count": null,
   "metadata": {
    "collapsed": false
   },
   "outputs": [],
   "source": []
  },
  {
   "cell_type": "code",
   "execution_count": 8,
   "metadata": {
    "collapsed": false
   },
   "outputs": [],
   "source": [
    "def evaluateModel(model, validationData):    \n",
    "    score = model.predict(validationData.map(lambda p: p.features)).map(lambda x: float(x)) #modify by myself\n",
    "    scoreAndLabels = score.zip(validationData.map(lambda p: p.label))\n",
    "    metrics = BinaryClassificationMetrics(scoreAndLabels)\n",
    "    AUC = metrics.areaUnderROC\n",
    "    return(AUC)  \n",
    "\n",
    "def trainEvaluateModel(trainData, validationData, numIterations, stepSize, miniBatchFraction):\n",
    "    startTime = time()\n",
    "    model = LogisticRegressionWithSGD.train(trainData, numIterations, stepSize, miniBatchFraction)\n",
    "    AUC = evaluateModel(model, validationData)\n",
    "    duration = time() - startTime\n",
    "    print \"train evaluation(params):\" +\\\n",
    "    \"numIterations=\"+str(numIterations)+\\\n",
    "    \", stepSize=\"+str(stepSize)+\\\n",
    "    \", miniBatchFraction=\"+str(miniBatchFraction)+\"\\n\"+\\\n",
    "    \"==>required time:\"+str(duration)+\\\n",
    "    \" ,AUC=\"+str(AUC)\n",
    "    return (AUC, duration, numIterations, stepSize, miniBatchFraction, model)"
   ]
  },
  {
   "cell_type": "code",
   "execution_count": 9,
   "metadata": {
    "collapsed": false
   },
   "outputs": [
    {
     "name": "stdout",
     "output_type": "stream",
     "text": [
      "[0.0, 0.0, 1.0, 0.0, 0.0]\n",
      "[1.0, 1.0, 1.0, 0.0, 0.0]\n",
      "[(0.0, 1.0), (0.0, 1.0), (1.0, 1.0), (0.0, 0.0), (0.0, 0.0)]\n",
      "<class 'pyspark.rdd.RDD'>\n",
      "[(0.0, 1.0), (0.0, 1.0), (1.0, 1.0), (0.0, 0.0), (0.0, 0.0)]\n",
      "0.666666666667\n"
     ]
    },
    {
     "name": "stderr",
     "output_type": "stream",
     "text": [
      "/usr/local/spark/python/pyspark/mllib/classification.py:313: UserWarning: Deprecated in 2.0.0. Use ml.classification.LogisticRegression or LogisticRegressionWithLBFGS.\n",
      "  \"Deprecated in 2.0.0. Use ml.classification.LogisticRegression or \"\n"
     ]
    }
   ],
   "source": [
    "#BinaryClassificationMetrics Testing\n",
    "\n",
    "model = LogisticRegressionWithSGD.train(trainData, 5, 10, 1)\n",
    "score = model.predict(validationData.map(lambda p: p.features)).map(lambda x: float(x))\n",
    "scoreAndLabels = score.zip(validationData.map(lambda p: p.label))\n",
    "\n",
    "print score.take(5)\n",
    "print validationData.map(lambda p: p.label).take(5)\n",
    "print scoreAndLabels.take(5)\n",
    "sub_pairs = sc.parallelize(scoreAndLabels.take(5))\n",
    "print type(sub_pairs)\n",
    "print sub_pairs.collect()\n",
    "metrics = BinaryClassificationMetrics(sub_pairs)\n",
    "AUC = metrics.areaUnderROC\n",
    "print AUC"
   ]
  },
  {
   "cell_type": "code",
   "execution_count": 10,
   "metadata": {
    "collapsed": false
   },
   "outputs": [
    {
     "data": {
      "text/plain": [
       "u'local[*]'"
      ]
     },
     "execution_count": 10,
     "metadata": {},
     "output_type": "execute_result"
    }
   ],
   "source": [
    "sc.master"
   ]
  },
  {
   "cell_type": "code",
   "execution_count": 11,
   "metadata": {
    "collapsed": true
   },
   "outputs": [],
   "source": [
    "def showchart(df, evalparm, barData, lineData, yMin, yMax):\n",
    "    ax = df[barData].plot(kind='bar', title=evalparm, figsize=(10,6), legend=True, fontsize=12)\n",
    "    ax.set_xlabel(evalparm, fontsize=12)\n",
    "    ax.set_ylim([yMin,yMax])\n",
    "    ax.set_ylabel(barData, fontsize=12)\n",
    "    ax2 = ax.twinx()\n",
    "    ax2.plot(df[lineData].values, linestyle='-', marker='o', linewidth=2.0, color='r')\n",
    "    plt.show()\n",
    "    \n",
    "def evalParameter(trainData, validationData, evalparm, numIterationsList, stepSizeList, miniBatchFractionList):\n",
    "    metrics = [trainEvaluateModel(trainData, validationData, numIterations, stepSize, miniBatchFraction)\n",
    "               for numIterations in numIterationsList\n",
    "               for stepSize in stepSizeList\n",
    "               for miniBatchFraction in miniBatchFractionList]\n",
    "    \n",
    "    if evalparm == \"numIterations\":\n",
    "       IndexList=numIterationsList[:] \n",
    "    elif evalparm == \"stepSize\":\n",
    "       IndexList=stepSizeList[:]  \n",
    "    elif evalparm == \"miniBatchFraction\":\n",
    "       IndexList=miniBatchFractionList[:]\n",
    "    df = pd.DataFrame(metrics, index=IndexList,\n",
    "                  columns=[\"AUC\", \"duration\", \"numIterations\", \"stepSize\", \"miniBatchFraction\", \"model\"])\n",
    "    showchart(df, evalparm, 'AUC', 'duration', 0.5, 0.7)"
   ]
  },
  {
   "cell_type": "code",
   "execution_count": 12,
   "metadata": {
    "collapsed": false
   },
   "outputs": [
    {
     "name": "stdout",
     "output_type": "stream",
     "text": [
      "train evaluation(params):numIterations=5, stepSize=10, miniBatchFraction=1\n",
      "==>required time:1.66973805428 ,AUC=0.639838286713\n",
      "train evaluation(params):numIterations=15, stepSize=10, miniBatchFraction=1\n",
      "==>required time:1.19529891014 ,AUC=0.661494755245\n",
      "train evaluation(params):numIterations=20, stepSize=10, miniBatchFraction=1\n",
      "==>required time:1.24709796906 ,AUC=0.630798368298\n",
      "train evaluation(params):numIterations=60, stepSize=10, miniBatchFraction=1\n",
      "==>required time:1.2982070446 ,AUC=0.640603146853\n",
      "train evaluation(params):numIterations=100, stepSize=10, miniBatchFraction=1\n",
      "==>required time:1.07533192635 ,AUC=0.640603146853\n"
     ]
    },
    {
     "data": {
      "image/png": "[encoded data removed]",
      "text/plain": [
       "<matplotlib.figure.Figure at 0x7ff51a528f90>"
      ]
     },
     "metadata": {},
     "output_type": "display_data"
    }
   ],
   "source": [
    "evalParameter(trainData, validationData, \n",
    "              \"numIterations\", numIterationsList=[5, 15, 20, 60, 100], \n",
    "              stepSizeList=[10], miniBatchFractionList=[1])"
   ]
  },
  {
   "cell_type": "code",
   "execution_count": 10,
   "metadata": {
    "collapsed": false
   },
   "outputs": [
    {
     "name": "stdout",
     "output_type": "stream",
     "text": [
      "train evaluation(params):numIterations=100, stepSize=10, miniBatchFraction=1\n",
      "==>required time:1.14191603661 ,AUC=0.685543108492\n",
      "train evaluation(params):numIterations=100, stepSize=50, miniBatchFraction=1\n",
      "==>required time:1.8562309742 ,AUC=0.593132687627\n",
      "train evaluation(params):numIterations=100, stepSize=100, miniBatchFraction=1\n",
      "==>required time:1.89332795143 ,AUC=0.611301308025\n",
      "train evaluation(params):numIterations=100, stepSize=200, miniBatchFraction=1\n",
      "==>required time:1.81189393997 ,AUC=0.580727755989\n"
     ]
    },
    {
     "data": {
      "image/png": "[encoded data removed]",
      "text/plain": [
       "<matplotlib.figure.Figure at 0x7fab356cf110>"
      ]
     },
     "metadata": {},
     "output_type": "display_data"
    }
   ],
   "source": [
    "evalParameter(trainData, validationData, \n",
    "              \"stepSize\", numIterationsList=[100], \n",
    "              stepSizeList=[10 ,50 ,100 ,200], miniBatchFractionList=[1])"
   ]
  },
  {
   "cell_type": "code",
   "execution_count": 11,
   "metadata": {
    "collapsed": false
   },
   "outputs": [
    {
     "name": "stdout",
     "output_type": "stream",
     "text": [
      "train evaluation(params):numIterations=100, stepSize=10, miniBatchFraction=0.5\n",
      "==>required time:1.87715506554 ,AUC=0.685918687208\n",
      "train evaluation(params):numIterations=100, stepSize=10, miniBatchFraction=0.8\n",
      "==>required time:1.82978892326 ,AUC=0.688800531588\n",
      "train evaluation(params):numIterations=100, stepSize=10, miniBatchFraction=1\n",
      "==>required time:1.08583688736 ,AUC=0.685543108492\n"
     ]
    },
    {
     "data": {
      "image/png": "[encoded data removed]",
      "text/plain": [
       "<matplotlib.figure.Figure at 0x7fab353804d0>"
      ]
     },
     "metadata": {},
     "output_type": "display_data"
    }
   ],
   "source": [
    "evalParameter(trainData, validationData, \n",
    "              \"miniBatchFraction\", numIterationsList=[100], \n",
    "              stepSizeList=[10], miniBatchFractionList=[0.5, 0.8, 1])"
   ]
  },
  {
   "cell_type": "markdown",
   "metadata": {
    "collapsed": true
   },
   "source": [
    "# Evaluation Process:multi-variables"
   ]
  },
  {
   "cell_type": "code",
   "execution_count": 13,
   "metadata": {
    "collapsed": true
   },
   "outputs": [],
   "source": [
    "def evalAllParameter(trainData, validationData, numIterationsList, stepSizeList, miniBatchFractionList):\n",
    "    metrics = [trainEvaluateModel(trainData, validationData, numIterations, stepSize, miniBatchFraction)\n",
    "               for numIterations in numIterationsList\n",
    "               for stepSize in stepSizeList\n",
    "               for miniBatchFraction in miniBatchFractionList]\n",
    "    \n",
    "    Smetrics = sorted(metrics, key=lambda k: k[0], reverse=True)\n",
    "    bestParameter = Smetrics[0]\n",
    "    print(\"The best parameters: numIterations:\" + str(bestParameter[2])+\n",
    "                               \", stepSize:\" + str(bestParameter[3])+\n",
    "                               \", miniBatchFraction:\" + str(bestParameter[4])+\n",
    "                               \"\\n, AUC = \" + str(bestParameter[0]) \n",
    "         ) \n",
    "    \n",
    "    return bestParameter[5]"
   ]
  },
  {
   "cell_type": "code",
   "execution_count": 14,
   "metadata": {
    "collapsed": false
   },
   "outputs": [
    {
     "name": "stdout",
     "output_type": "stream",
     "text": [
      "train evaluation(params):numIterations=5, stepSize=10, miniBatchFraction=0.5\n",
      "==>required time:0.711043119431 ,AUC=0.642679195804\n",
      "train evaluation(params):numIterations=5, stepSize=10, miniBatchFraction=0.8\n",
      "==>required time:0.461963176727 ,AUC=0.638694638695\n",
      "train evaluation(params):numIterations=5, stepSize=10, miniBatchFraction=1\n",
      "==>required time:0.608309984207 ,AUC=0.639838286713\n",
      "train evaluation(params):numIterations=5, stepSize=50, miniBatchFraction=0.5\n",
      "==>required time:0.617454051971 ,AUC=0.5744245338\n",
      "train evaluation(params):numIterations=5, stepSize=50, miniBatchFraction=0.8\n",
      "==>required time:0.512947797775 ,AUC=0.570301573427\n",
      "train evaluation(params):numIterations=5, stepSize=50, miniBatchFraction=1\n",
      "==>required time:0.522212982178 ,AUC=0.572275641026\n",
      "train evaluation(params):numIterations=5, stepSize=200, miniBatchFraction=0.5\n",
      "==>required time:0.525760889053 ,AUC=0.556235431235\n",
      "train evaluation(params):numIterations=5, stepSize=200, miniBatchFraction=0.8\n",
      "==>required time:0.530066013336 ,AUC=0.558937937063\n",
      "train evaluation(params):numIterations=5, stepSize=200, miniBatchFraction=1\n",
      "==>required time:0.492121934891 ,AUC=0.559491550117\n",
      "train evaluation(params):numIterations=15, stepSize=10, miniBatchFraction=0.5\n",
      "==>required time:0.654789209366 ,AUC=0.653664044289\n",
      "train evaluation(params):numIterations=15, stepSize=10, miniBatchFraction=0.8\n",
      "==>required time:0.765538215637 ,AUC=0.661356351981\n",
      "train evaluation(params):numIterations=15, stepSize=10, miniBatchFraction=1\n",
      "==>required time:0.865781068802 ,AUC=0.661494755245\n",
      "train evaluation(params):numIterations=15, stepSize=50, miniBatchFraction=0.5\n",
      "==>required time:0.841795921326 ,AUC=0.58125\n",
      "train evaluation(params):numIterations=15, stepSize=50, miniBatchFraction=0.8\n",
      "==>required time:0.857233047485 ,AUC=0.576121794872\n",
      "train evaluation(params):numIterations=15, stepSize=50, miniBatchFraction=1\n",
      "==>required time:0.862845897675 ,AUC=0.573280885781\n",
      "train evaluation(params):numIterations=15, stepSize=200, miniBatchFraction=0.5\n",
      "==>required time:0.851479053497 ,AUC=0.559076340326\n",
      "train evaluation(params):numIterations=15, stepSize=200, miniBatchFraction=0.8\n",
      "==>required time:0.865569114685 ,AUC=0.562922494172\n",
      "train evaluation(params):numIterations=15, stepSize=200, miniBatchFraction=1\n",
      "==>required time:0.840626955032 ,AUC=0.563199300699\n",
      "train evaluation(params):numIterations=25, stepSize=10, miniBatchFraction=0.5\n",
      "==>required time:0.946191072464 ,AUC=0.644310897436\n",
      "train evaluation(params):numIterations=25, stepSize=10, miniBatchFraction=0.8\n",
      "==>required time:0.935326099396 ,AUC=0.644587703963\n",
      "train evaluation(params):numIterations=25, stepSize=10, miniBatchFraction=1\n",
      "==>required time:0.897691011429 ,AUC=0.641885198135\n",
      "train evaluation(params):numIterations=25, stepSize=50, miniBatchFraction=0.5\n",
      "==>required time:0.921897888184 ,AUC=0.592752039627\n",
      "train evaluation(params):numIterations=25, stepSize=50, miniBatchFraction=0.8\n",
      "==>required time:0.958241939545 ,AUC=0.583952505828\n",
      "train evaluation(params):numIterations=25, stepSize=50, miniBatchFraction=1\n",
      "==>required time:0.952754974365 ,AUC=0.576398601399\n",
      "train evaluation(params):numIterations=25, stepSize=200, miniBatchFraction=0.5\n",
      "==>required time:0.927050113678 ,AUC=0.564481351981\n",
      "train evaluation(params):numIterations=25, stepSize=200, miniBatchFraction=0.8\n",
      "==>required time:0.960537195206 ,AUC=0.565901806527\n",
      "train evaluation(params):numIterations=25, stepSize=200, miniBatchFraction=1\n",
      "==>required time:0.848121881485 ,AUC=0.564481351981\n",
      "The best parameters: numIterations:15, stepSize:10, miniBatchFraction:1\n",
      ", AUC = 0.661494755245\n"
     ]
    }
   ],
   "source": [
    "model = evalAllParameter(trainData, validationData, \n",
    "                         [5, 15, 25], [10, 50, 200], [0.5, 0.8, 1])"
   ]
  },
  {
   "cell_type": "code",
   "execution_count": null,
   "metadata": {
    "collapsed": true
   },
   "outputs": [],
   "source": []
  }
 ],
 "metadata": {
  "kernelspec": {
   "display_name": "Python 2",
   "language": "python",
   "name": "python2"
  },
  "language_info": {
   "codemirror_mode": {
    "name": "ipython",
    "version": 2
   },
   "file_extension": ".py",
   "mimetype": "text/x-python",
   "name": "python",
   "nbconvert_exporter": "python",
   "pygments_lexer": "ipython2",
   "version": "2.7.13"
  }
 },
 "nbformat": 4,
 "nbformat_minor": 0
}
