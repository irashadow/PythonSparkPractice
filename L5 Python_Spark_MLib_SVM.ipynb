{
 "cells": [
  {
   "cell_type": "code",
   "execution_count": 1,
   "metadata": {
    "collapsed": false
   },
   "outputs": [],
   "source": [
    "import sys\n",
    "from time import time\n",
    "import pandas as pd\n",
    "%matplotlib inline\n",
    "import matplotlib.pyplot as plt\n",
    "from pyspark import SparkConf, SparkContext\n",
    "from pyspark.mllib.classification import SVMWithSGD\n",
    "from pyspark.mllib.regression import LabeledPoint\n",
    "import numpy as np\n",
    "from pyspark.mllib.evaluation import BinaryClassificationMetrics\n",
    "from pyspark.mllib.feature import StandardScaler"
   ]
  },
  {
   "cell_type": "code",
   "execution_count": 2,
   "metadata": {
    "collapsed": true
   },
   "outputs": [],
   "source": [
    "def extract_label(fields):\n",
    "    label = (fields[-1])\n",
    "    return float(label)\n",
    "\n",
    "def extract_features(fields,categoriesMap,featureEnd):\n",
    "    categoryIdx = categoriesMap[fields[3]]\n",
    "    categoryFeatures = np.zeros(len(categoriesMap))\n",
    "    categoryFeatures[categoryIdx] = 1\n",
    "    numericalFeatures = [convert_float(field) for field in fields[4:featureEnd]]\n",
    "    return np.concatenate(( categoryFeatures, numericalFeatures))\n",
    "\n",
    "def convert_float(x):\n",
    "    return (0 if x=='?' else float(x))\n"
   ]
  },
  {
   "cell_type": "code",
   "execution_count": 3,
   "metadata": {
    "collapsed": false
   },
   "outputs": [],
   "source": [
    "def PrepareData(sc):\n",
    "    global Path\n",
    "    if sc.master[0:5]=='local':\n",
    "       Path = \"file:/home/hadoop/pythonwork/data/stumbleupon\" \n",
    "    else:\n",
    "       Path = \"hdfs:/user/hduser/MovieRecom/stumbleupon\" \n",
    "    \n",
    "    print 'data loading..'\n",
    "    rawDataWithHeader = sc.textFile(Path+'/train.tsv')\n",
    "    header = rawDataWithHeader.first()\n",
    "    rawData = rawDataWithHeader.filter(lambda x:x != header)\n",
    "    rData = rawData.map(lambda x: x.replace(\"\\\"\",\"\"))\n",
    "    lines = rData.map(lambda x:x.split(\"\\t\"))\n",
    "    print str(lines.count())\n",
    "    #-----------construct the training data RDD[LabeledPoint]\n",
    "    print \"Before Normalzation.. \\n\"\n",
    "    categoriesMap = lines.map(lambda fields:fields[3])\\\n",
    "                         .distinct().zipWithIndex().collectAsMap()\n",
    "    labelRDD = lines.map(lambda r: extract_label(r))\n",
    "    featureRDD = lines.map(lambda r: extract_features(r, categoriesMap, len(r)-1)) \n",
    "    for i in featureRDD.first():\n",
    "        print (str(i)+\",\"),\n",
    "    print \"\\n\"+\"After Normalzation.. \\n\"\n",
    "    stdScalar = StandardScaler(withMean=True, withStd=True).fit(featureRDD)\n",
    "    #print type(stdScalar)\n",
    "    ScalerFeatureRDD = stdScalar.transform(featureRDD)\n",
    "    for i in ScalerFeatureRDD.first():\n",
    "        print (str(i)+\",\"),\n",
    "    labelpoint = labelRDD.zip(ScalerFeatureRDD)\n",
    "    labelpointRDD = labelpoint.map(lambda r: LabeledPoint(r[0], r[1]))\n",
    "    (trainData, validationData, testData) = labelpointRDD.randomSplit([8, 1, 1])\n",
    "    print('\\n'+'trainData size:'+str(trainData.count())+ \n",
    "          ', validData size:'+str(validationData.count())+\n",
    "          ', testData size:'+str(testData.count()))\n",
    "    return (trainData, validationData, testData)        "
   ]
  },
  {
   "cell_type": "code",
   "execution_count": 4,
   "metadata": {
    "collapsed": false
   },
   "outputs": [
    {
     "name": "stdout",
     "output_type": "stream",
     "text": [
      "data loading..\n",
      "7395\n",
      "Before Normalzation.. \n",
      "\n",
      "0.0, 1.0, 0.0, 0.0, 0.0, 0.0, 0.0, 0.0, 0.0, 0.0, 0.0, 0.0, 0.0, 0.0, 0.789131, 2.055555556, 0.676470588, 0.205882353, 0.047058824, 0.023529412, 0.443783175, 0.0, 0.0, 0.09077381, 0.0, 0.245831182, 0.003883495, 1.0, 1.0, 24.0, 0.0, 5424.0, 170.0, 8.0, 0.152941176, 0.079129575, \n",
      "After Normalzation.. \n",
      "\n",
      "-0.446421204794, 2.72073665645, -0.204182210579, -0.220526884579, -0.0648775723926, -0.270999069693, -0.680752790425, -0.101894690972, -0.028494000387, -0.201654052319, -0.232727977095, -0.0991499193088, -0.0232621058984, -0.381813223243, 1.1376473365, -0.0819355716929, 1.02513981289, -0.0558635644254, -0.468893253129, -0.354305326308, -0.317535217236, 0.33845079824, 0.0, 0.828822173315, -0.147268943346, 0.229639823578, -0.141625969099, 0.790238049918, 0.717194729453, -0.297996816496, -0.20346257793, -0.0329672096969, -0.0487811297558, 0.940069975117, -0.108698488525, -0.278820782314, \n",
      "trainData size:5937, validData size:754, testData size:704\n"
     ]
    },
    {
     "data": {
      "text/plain": [
       "PythonRDD[27] at RDD at PythonRDD.scala:48"
      ]
     },
     "execution_count": 4,
     "metadata": {},
     "output_type": "execute_result"
    }
   ],
   "source": [
    "(trainData, validationData, testData) = PrepareData(sc)\n",
    "trainData.persist()\n",
    "validationData.persist()\n",
    "testData.persist()"
   ]
  },
  {
   "cell_type": "code",
   "execution_count": null,
   "metadata": {
    "collapsed": false
   },
   "outputs": [],
   "source": []
  },
  {
   "cell_type": "code",
   "execution_count": 5,
   "metadata": {
    "collapsed": false
   },
   "outputs": [],
   "source": [
    "def evaluateModel(model, validationData):    \n",
    "    score = model.predict(validationData.map(lambda p: p.features)).map(lambda x: float(x)) #modify by myself\n",
    "    scoreAndLabels = score.zip(validationData.map(lambda p: p.label))\n",
    "    metrics = BinaryClassificationMetrics(scoreAndLabels)\n",
    "    AUC = metrics.areaUnderROC\n",
    "    return(AUC)  \n",
    "\n",
    "def trainEvaluateModel(trainData, validationData, numIterations, stepSize, regPram):\n",
    "    startTime = time()\n",
    "    model = SVMWithSGD.train(trainData, numIterations, stepSize, regPram)\n",
    "    AUC = evaluateModel(model, validationData)\n",
    "    duration = time() - startTime\n",
    "    print \"train evaluation(params):\" +\\\n",
    "    \"numIterations=\"+str(numIterations)+\\\n",
    "    \", stepSize=\"+str(stepSize)+\\\n",
    "    \", regPram=\"+str(regPram)+\"\\n\"+\\\n",
    "    \"==>required time:\"+str(duration)+\\\n",
    "    \" ,AUC=\"+str(AUC)\n",
    "    return (AUC, duration, numIterations, stepSize, regPram, model)"
   ]
  },
  {
   "cell_type": "code",
   "execution_count": 7,
   "metadata": {
    "collapsed": false
   },
   "outputs": [
    {
     "name": "stdout",
     "output_type": "stream",
     "text": [
      "[0.0, 0.0, 0.0, 1.0, 0.0]\n",
      "[1.0, 0.0, 1.0, 0.0, 1.0]\n",
      "[(0.0, 1.0), (0.0, 0.0), (0.0, 1.0), (1.0, 0.0), (0.0, 1.0)]\n",
      "<class 'pyspark.rdd.RDD'>\n",
      "[(0.0, 1.0), (0.0, 0.0), (0.0, 1.0), (1.0, 0.0), (0.0, 1.0)]\n",
      "0.25\n"
     ]
    }
   ],
   "source": [
    "#BinaryClassificationMetrics Testing\n",
    "\n",
    "model = SVMWithSGD.train(trainData, 5, 10, 1)\n",
    "score = model.predict(validationData.map(lambda p: p.features)).map(lambda x: float(x))\n",
    "scoreAndLabels = score.zip(validationData.map(lambda p: p.label))\n",
    "\n",
    "print score.take(5)\n",
    "print validationData.map(lambda p: p.label).take(5)\n",
    "print scoreAndLabels.take(5)\n",
    "sub_pairs = sc.parallelize(scoreAndLabels.take(5))\n",
    "print type(sub_pairs)\n",
    "print sub_pairs.collect()\n",
    "metrics = BinaryClassificationMetrics(sub_pairs)\n",
    "AUC = metrics.areaUnderROC\n",
    "print AUC"
   ]
  },
  {
   "cell_type": "code",
   "execution_count": 7,
   "metadata": {
    "collapsed": false
   },
   "outputs": [
    {
     "data": {
      "text/plain": [
       "u'local[*]'"
      ]
     },
     "execution_count": 7,
     "metadata": {},
     "output_type": "execute_result"
    }
   ],
   "source": [
    "sc.master"
   ]
  },
  {
   "cell_type": "code",
   "execution_count": 10,
   "metadata": {
    "collapsed": true
   },
   "outputs": [],
   "source": [
    "def showchart(df, evalparm, barData, lineData, yMin, yMax):\n",
    "    ax = df[barData].plot(kind='bar', title=evalparm, figsize=(10,6), legend=True, fontsize=12)\n",
    "    ax.set_xlabel(evalparm, fontsize=12)\n",
    "    ax.set_ylim([yMin,yMax])\n",
    "    ax.set_ylabel(barData, fontsize=12)\n",
    "    ax2 = ax.twinx()\n",
    "    ax2.plot(df[lineData].values, linestyle='-', marker='o', linewidth=2.0, color='r')\n",
    "    plt.show()\n",
    "    \n",
    "def evalParameter(trainData, validationData, evalparm, numIterationsList, stepSizeList, regPramList):\n",
    "    metrics = [trainEvaluateModel(trainData, validationData, numIterations, stepSize, regPram)\n",
    "               for numIterations in numIterationsList\n",
    "               for stepSize in stepSizeList\n",
    "               for regPram in regPramList]\n",
    "    \n",
    "    if evalparm == \"numIterations\":\n",
    "       IndexList=numIterationsList[:] \n",
    "    elif evalparm == \"stepSize\":\n",
    "       IndexList=stepSizeList[:]  \n",
    "    elif evalparm == \"regPram\":\n",
    "       IndexList=regPramList[:]\n",
    "    df = pd.DataFrame(metrics, index=IndexList,\n",
    "                  columns=[\"AUC\", \"duration\", \"numIterations\", \"stepSize\", \"regPram\", \"model\"])\n",
    "    showchart(df, evalparm, 'AUC', 'duration', 0.5, 0.7)"
   ]
  },
  {
   "cell_type": "code",
   "execution_count": 13,
   "metadata": {
    "collapsed": false
   },
   "outputs": [
    {
     "name": "stdout",
     "output_type": "stream",
     "text": [
      "train evaluation(params):numIterations=1, stepSize=100, regPram=1\n",
      "==>required time:0.691305160522 ,AUC=0.651506407775\n",
      "train evaluation(params):numIterations=3, stepSize=100, regPram=1\n",
      "==>required time:0.730973005295 ,AUC=0.650200924746\n",
      "train evaluation(params):numIterations=5, stepSize=100, regPram=1\n",
      "==>required time:0.742232084274 ,AUC=0.650200924746\n",
      "train evaluation(params):numIterations=15, stepSize=100, regPram=1\n",
      "==>required time:0.824046134949 ,AUC=0.650200924746\n",
      "train evaluation(params):numIterations=25, stepSize=100, regPram=1\n",
      "==>required time:0.935779094696 ,AUC=0.650200924746\n"
     ]
    },
    {
     "data": {
      "image/png": "[encoded data removed]",
      "text/plain": [
       "<matplotlib.figure.Figure at 0x7fc652256dd0>"
      ]
     },
     "metadata": {},
     "output_type": "display_data"
    }
   ],
   "source": [
    "evalParameter(trainData, validationData, \n",
    "              \"numIterations\", numIterationsList=[1, 3, 5, 15,  25], \n",
    "              stepSizeList=[100], regPramList=[1])"
   ]
  },
  {
   "cell_type": "code",
   "execution_count": 14,
   "metadata": {
    "collapsed": false
   },
   "outputs": [
    {
     "name": "stdout",
     "output_type": "stream",
     "text": [
      "train evaluation(params):numIterations=15, stepSize=10, regPram=1\n",
      "==>required time:0.868364810944 ,AUC=0.654244051431\n",
      "train evaluation(params):numIterations=15, stepSize=50, regPram=1\n",
      "==>required time:0.84215092659 ,AUC=0.651506407775\n",
      "train evaluation(params):numIterations=15, stepSize=100, regPram=1\n",
      "==>required time:0.829979896545 ,AUC=0.650200924746\n",
      "train evaluation(params):numIterations=15, stepSize=200, regPram=1\n",
      "==>required time:0.841429948807 ,AUC=0.651506407775\n"
     ]
    },
    {
     "data": {
      "image/png": "[encoded data removed]",
      "text/plain": [
       "<matplotlib.figure.Figure at 0x7fc64eb4b590>"
      ]
     },
     "metadata": {},
     "output_type": "display_data"
    }
   ],
   "source": [
    "evalParameter(trainData, validationData, \n",
    "              \"stepSize\", numIterationsList=[15], \n",
    "              stepSizeList=[10 ,50 ,100 ,200], regPramList=[1])"
   ]
  },
  {
   "cell_type": "code",
   "execution_count": 15,
   "metadata": {
    "collapsed": false
   },
   "outputs": [
    {
     "name": "stdout",
     "output_type": "stream",
     "text": [
      "train evaluation(params):numIterations=15, stepSize=50, regPram=0.01\n",
      "==>required time:1.08929896355 ,AUC=0.586228737517\n",
      "train evaluation(params):numIterations=15, stepSize=50, regPram=0.1\n",
      "==>required time:0.733460903168 ,AUC=0.575447066358\n",
      "train evaluation(params):numIterations=15, stepSize=50, regPram=1\n",
      "==>required time:0.84618806839 ,AUC=0.651506407775\n"
     ]
    },
    {
     "data": {
      "image/png": "[encoded data removed]",
      "text/plain": [
       "<matplotlib.figure.Figure at 0x7fc64ea24e90>"
      ]
     },
     "metadata": {},
     "output_type": "display_data"
    }
   ],
   "source": [
    "evalParameter(trainData, validationData, \n",
    "              \"regPram\", numIterationsList=[15], \n",
    "              stepSizeList=[50], regPramList=[0.01, 0.1, 1])"
   ]
  },
  {
   "cell_type": "markdown",
   "metadata": {
    "collapsed": true
   },
   "source": [
    "# Evaluation Process:multi-variables"
   ]
  },
  {
   "cell_type": "code",
   "execution_count": 16,
   "metadata": {
    "collapsed": true
   },
   "outputs": [],
   "source": [
    "def evalAllParameter(trainData, validationData, numIterationsList, stepSizeList, regPramList):\n",
    "    metrics = [trainEvaluateModel(trainData, validationData, numIterations, stepSize, regPram)\n",
    "               for numIterations in numIterationsList\n",
    "               for stepSize in stepSizeList\n",
    "               for regPram in regPramList]\n",
    "    \n",
    "    Smetrics = sorted(metrics, key=lambda k: k[0], reverse=True)\n",
    "    bestParameter = Smetrics[0]\n",
    "    print(\"The best parameters: numIterations:\" + str(bestParameter[2])+\n",
    "                               \", stepSize:\" + str(bestParameter[3])+\n",
    "                               \", regPram:\" + str(bestParameter[4])+\n",
    "                               \"\\n, AUC = \" + str(bestParameter[0]) \n",
    "         ) \n",
    "    \n",
    "    return bestParameter[5]"
   ]
  },
  {
   "cell_type": "code",
   "execution_count": 17,
   "metadata": {
    "collapsed": false
   },
   "outputs": [
    {
     "name": "stdout",
     "output_type": "stream",
     "text": [
      "train evaluation(params):numIterations=5, stepSize=10, regPram=0.01\n",
      "==>required time:0.96582698822 ,AUC=0.617940363002\n",
      "train evaluation(params):numIterations=5, stepSize=10, regPram=0.1\n",
      "==>required time:0.594581842422 ,AUC=0.575573743956\n",
      "train evaluation(params):numIterations=5, stepSize=10, regPram=1\n",
      "==>required time:0.686473846436 ,AUC=0.652896342536\n",
      "train evaluation(params):numIterations=5, stepSize=50, regPram=0.01\n",
      "==>required time:0.567826986313 ,AUC=0.579574644775\n",
      "train evaluation(params):numIterations=5, stepSize=50, regPram=0.1\n",
      "==>required time:0.725914001465 ,AUC=0.638240448157\n",
      "train evaluation(params):numIterations=5, stepSize=50, regPram=1\n",
      "==>required time:0.718559980392 ,AUC=0.651506407775\n",
      "train evaluation(params):numIterations=5, stepSize=200, regPram=0.01\n",
      "==>required time:0.696646928787 ,AUC=0.570098456645\n",
      "train evaluation(params):numIterations=5, stepSize=200, regPram=0.1\n",
      "==>required time:0.734660863876 ,AUC=0.651506407775\n",
      "train evaluation(params):numIterations=5, stepSize=200, regPram=1\n",
      "==>required time:0.717613935471 ,AUC=0.651506407775\n",
      "train evaluation(params):numIterations=15, stepSize=10, regPram=0.01\n",
      "==>required time:0.829385995865 ,AUC=0.631375226084\n",
      "train evaluation(params):numIterations=15, stepSize=10, regPram=0.1\n",
      "==>required time:0.827184915543 ,AUC=0.602105663192\n",
      "train evaluation(params):numIterations=15, stepSize=10, regPram=1\n",
      "==>required time:0.835009813309 ,AUC=0.654244051431\n",
      "train evaluation(params):numIterations=15, stepSize=50, regPram=0.01\n",
      "==>required time:0.80112195015 ,AUC=0.586228737517\n",
      "train evaluation(params):numIterations=15, stepSize=50, regPram=0.1\n",
      "==>required time:0.746927976608 ,AUC=0.575447066358\n",
      "train evaluation(params):numIterations=15, stepSize=50, regPram=1\n",
      "==>required time:0.84925699234 ,AUC=0.651506407775\n",
      "train evaluation(params):numIterations=15, stepSize=200, regPram=0.01\n",
      "==>required time:0.701849222183 ,AUC=0.572920552033\n",
      "train evaluation(params):numIterations=15, stepSize=200, regPram=0.1\n",
      "==>required time:0.828795909882 ,AUC=0.651506407775\n",
      "train evaluation(params):numIterations=15, stepSize=200, regPram=1\n",
      "==>required time:0.71798491478 ,AUC=0.651506407775\n",
      "train evaluation(params):numIterations=25, stepSize=10, regPram=0.01\n",
      "==>required time:0.888988018036 ,AUC=0.647378829358\n",
      "train evaluation(params):numIterations=25, stepSize=10, regPram=0.1\n",
      "==>required time:0.774545907974 ,AUC=0.627585454597\n",
      "train evaluation(params):numIterations=25, stepSize=10, regPram=1\n",
      "==>required time:0.913947105408 ,AUC=0.654244051431\n",
      "train evaluation(params):numIterations=25, stepSize=50, regPram=0.01\n",
      "==>required time:0.95596408844 ,AUC=0.584923254488\n",
      "train evaluation(params):numIterations=25, stepSize=50, regPram=0.1\n",
      "==>required time:0.942947864532 ,AUC=0.570098456645\n",
      "train evaluation(params):numIterations=25, stepSize=50, regPram=1\n",
      "==>required time:0.887385129929 ,AUC=0.651506407775\n",
      "train evaluation(params):numIterations=25, stepSize=200, regPram=0.01\n",
      "==>required time:0.899119853973 ,AUC=0.574226035062\n",
      "train evaluation(params):numIterations=25, stepSize=200, regPram=0.1\n",
      "==>required time:0.912916183472 ,AUC=0.651506407775\n",
      "train evaluation(params):numIterations=25, stepSize=200, regPram=1\n",
      "==>required time:0.902617931366 ,AUC=0.651506407775\n",
      "The best parameters: numIterations:15, stepSize:10, regPram:1\n",
      ", AUC = 0.654244051431\n"
     ]
    }
   ],
   "source": [
    "model = evalAllParameter(trainData, validationData, \n",
    "                         [5, 15, 25], [10, 50, 200], [0.01, 0.1, 1])"
   ]
  },
  {
   "cell_type": "code",
   "execution_count": null,
   "metadata": {
    "collapsed": true
   },
   "outputs": [],
   "source": []
  }
 ],
 "metadata": {
  "kernelspec": {
   "display_name": "Python 2",
   "language": "python",
   "name": "python2"
  },
  "language_info": {
   "codemirror_mode": {
    "name": "ipython",
    "version": 2
   },
   "file_extension": ".py",
   "mimetype": "text/x-python",
   "name": "python",
   "nbconvert_exporter": "python",
   "pygments_lexer": "ipython2",
   "version": "2.7.13"
  }
 },
 "nbformat": 4,
 "nbformat_minor": 0
}
