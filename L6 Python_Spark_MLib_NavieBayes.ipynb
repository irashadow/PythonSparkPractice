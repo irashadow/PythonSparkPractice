{
 "cells": [
  {
   "cell_type": "code",
   "execution_count": 2,
   "metadata": {
    "collapsed": false
   },
   "outputs": [],
   "source": [
    "import sys\n",
    "from time import time\n",
    "import pandas as pd\n",
    "%matplotlib inline\n",
    "import matplotlib.pyplot as plt\n",
    "from pyspark import SparkConf, SparkContext\n",
    "from pyspark.mllib.classification import NaiveBayes\n",
    "from pyspark.mllib.regression import LabeledPoint\n",
    "import numpy as np\n",
    "from pyspark.mllib.evaluation import BinaryClassificationMetrics\n",
    "from pyspark.mllib.feature import StandardScaler"
   ]
  },
  {
   "cell_type": "code",
   "execution_count": 4,
   "metadata": {
    "collapsed": true
   },
   "outputs": [],
   "source": [
    "def extract_label(fields):\n",
    "    label = (fields[-1])\n",
    "    return float(label)\n",
    "\n",
    "def extract_features(fields,categoriesMap,featureEnd):\n",
    "    categoryIdx = categoriesMap[fields[3]]\n",
    "    categoryFeatures = np.zeros(len(categoriesMap))\n",
    "    categoryFeatures[categoryIdx] = 1\n",
    "    numericalFeatures = [convert_float(field) for field in fields[4:featureEnd]]\n",
    "    return np.concatenate(( categoryFeatures, numericalFeatures))\n",
    "\n",
    "def convert_float(x):\n",
    "    ret=(0 if x=='?' else float(x))\n",
    "    return (0 if ret<0 else ret)\n"
   ]
  },
  {
   "cell_type": "code",
   "execution_count": 5,
   "metadata": {
    "collapsed": false
   },
   "outputs": [],
   "source": [
    "def PrepareData(sc):\n",
    "    global Path\n",
    "    if sc.master[0:5]=='local':\n",
    "       Path = \"file:/home/hadoop/pythonwork/data/stumbleupon\" \n",
    "    else:\n",
    "       Path = \"hdfs:/user/hduser/MovieRecom/stumbleupon\" \n",
    "    \n",
    "    print 'data loading..'\n",
    "    rawDataWithHeader = sc.textFile(Path+'/train.tsv')\n",
    "    header = rawDataWithHeader.first()\n",
    "    rawData = rawDataWithHeader.filter(lambda x:x != header)\n",
    "    rData = rawData.map(lambda x: x.replace(\"\\\"\",\"\"))\n",
    "    lines = rData.map(lambda x:x.split(\"\\t\"))\n",
    "    print str(lines.count())\n",
    "    #-----------construct the training data RDD[LabeledPoint]\n",
    "    print \"Before Normalzation.. \\n\"\n",
    "    categoriesMap = lines.map(lambda fields:fields[3])\\\n",
    "                         .distinct().zipWithIndex().collectAsMap()\n",
    "    labelRDD = lines.map(lambda r: extract_label(r))\n",
    "    featureRDD = lines.map(lambda r: extract_features(r, categoriesMap, len(r)-1)) \n",
    "    for i in featureRDD.first():\n",
    "        print (str(i)+\",\"),\n",
    "    print \"\\n\"+\"After Normalzation.. \\n\"\n",
    "    stdScalar = StandardScaler(withMean=False, withStd=True).fit(featureRDD)\n",
    "    #print type(stdScalar)\n",
    "    ScalerFeatureRDD = stdScalar.transform(featureRDD)\n",
    "    for i in ScalerFeatureRDD.first():\n",
    "        print (str(i)+\",\"),\n",
    "    labelpoint = labelRDD.zip(ScalerFeatureRDD)\n",
    "    labelpointRDD = labelpoint.map(lambda r: LabeledPoint(r[0], r[1]))\n",
    "    (trainData, validationData, testData) = labelpointRDD.randomSplit([8, 1, 1])\n",
    "    print('\\n'+'trainData size:'+str(trainData.count())+ \n",
    "          ', validData size:'+str(validationData.count())+\n",
    "          ', testData size:'+str(testData.count()))\n",
    "    return (trainData, validationData, testData)        "
   ]
  },
  {
   "cell_type": "code",
   "execution_count": 6,
   "metadata": {
    "collapsed": false
   },
   "outputs": [
    {
     "name": "stdout",
     "output_type": "stream",
     "text": [
      "data loading..\n",
      "7395\n",
      "Before Normalzation.. \n",
      "\n",
      "0.0, 1.0, 0.0, 0.0, 0.0, 0.0, 0.0, 0.0, 0.0, 0.0, 0.0, 0.0, 0.0, 0.0, 0.789131, 2.055555556, 0.676470588, 0.205882353, 0.047058824, 0.023529412, 0.443783175, 0.0, 0.0, 0.09077381, 0.0, 0.245831182, 0.003883495, 1.0, 1.0, 24.0, 0.0, 5424.0, 170.0, 8.0, 0.152941176, 0.079129575, \n",
      "After Normalzation.. \n",
      "\n",
      "0.0, 3.08823447037, 0.0, 0.0, 0.0, 0.0, 0.0, 0.0, 0.0, 0.0, 0.0, 0.0, 0.0, 0.0, 2.38210990583, 0.238469258742, 3.33017936032, 1.40301544772, 0.490307355432, 0.323968347813, 0.0777978299323, 0.0, 0.0, 2.19018963312, 0.0, 4.68369735582, 0.00206688652554, 2.05550839928, 2.11132763706, 1.1768686024, 0.0, 0.611125152837, 0.947253587774, 2.4743966777, 0.83444157063, 0.998721352144, \n",
      "trainData size:5950, validData size:692, testData size:753\n"
     ]
    },
    {
     "data": {
      "text/plain": [
       "PythonRDD[27] at RDD at PythonRDD.scala:48"
      ]
     },
     "execution_count": 6,
     "metadata": {},
     "output_type": "execute_result"
    }
   ],
   "source": [
    "(trainData, validationData, testData) = PrepareData(sc)\n",
    "trainData.persist()\n",
    "validationData.persist()\n",
    "testData.persist()"
   ]
  },
  {
   "cell_type": "code",
   "execution_count": null,
   "metadata": {
    "collapsed": false
   },
   "outputs": [],
   "source": []
  },
  {
   "cell_type": "code",
   "execution_count": 7,
   "metadata": {
    "collapsed": false
   },
   "outputs": [],
   "source": [
    "def evaluateModel(model, validationData):    \n",
    "    score = model.predict(validationData.map(lambda p: p.features)).map(lambda x: float(x)) #modify by myself\n",
    "    scoreAndLabels = score.zip(validationData.map(lambda p: p.label))\n",
    "    metrics = BinaryClassificationMetrics(scoreAndLabels)\n",
    "    AUC = metrics.areaUnderROC\n",
    "    return(AUC)  \n",
    "\n",
    "def trainEvaluateModel(trainData, validationData, lambdaParm):\n",
    "    startTime = time()\n",
    "    model = NaiveBayes.train(trainData, lambdaParm)\n",
    "    AUC = evaluateModel(model, validationData)\n",
    "    duration = time() - startTime\n",
    "    print \"train evaluation(params):\" +\\\n",
    "    \", lambda=\"+str(lambdaParm)+\"\\n\"+\\\n",
    "    \"==>required time:\"+str(duration)+\\\n",
    "    \" ,AUC=\"+str(AUC)\n",
    "    return (AUC, duration, lambdaParm, model)"
   ]
  },
  {
   "cell_type": "code",
   "execution_count": 8,
   "metadata": {
    "collapsed": false
   },
   "outputs": [
    {
     "name": "stdout",
     "output_type": "stream",
     "text": [
      "[1.0, 0.0, 0.0, 0.0, 0.0]\n",
      "[1.0, 0.0, 1.0, 0.0, 1.0]\n",
      "[(1.0, 1.0), (0.0, 0.0), (0.0, 1.0), (0.0, 0.0), (0.0, 1.0)]\n",
      "<class 'pyspark.rdd.RDD'>\n",
      "[(1.0, 1.0), (0.0, 0.0), (0.0, 1.0), (0.0, 0.0), (0.0, 1.0)]\n",
      "0.666666666667\n"
     ]
    }
   ],
   "source": [
    "#BinaryClassificationMetrics Testing\n",
    "\n",
    "model = NaiveBayes.train(trainData, 5.0)\n",
    "score = model.predict(validationData.map(lambda p: p.features)).map(lambda x: float(x))\n",
    "scoreAndLabels = score.zip(validationData.map(lambda p: p.label))\n",
    "\n",
    "print score.take(5)\n",
    "print validationData.map(lambda p: p.label).take(5)\n",
    "print scoreAndLabels.take(5)\n",
    "sub_pairs = sc.parallelize(scoreAndLabels.take(5))\n",
    "print type(sub_pairs)\n",
    "print sub_pairs.collect()\n",
    "metrics = BinaryClassificationMetrics(sub_pairs)\n",
    "AUC = metrics.areaUnderROC\n",
    "print AUC"
   ]
  },
  {
   "cell_type": "code",
   "execution_count": 9,
   "metadata": {
    "collapsed": false
   },
   "outputs": [
    {
     "data": {
      "text/plain": [
       "u'local[*]'"
      ]
     },
     "execution_count": 9,
     "metadata": {},
     "output_type": "execute_result"
    }
   ],
   "source": [
    "sc.master"
   ]
  },
  {
   "cell_type": "code",
   "execution_count": 11,
   "metadata": {
    "collapsed": true
   },
   "outputs": [],
   "source": [
    "def showchart(df, evalparm, barData, lineData, yMin, yMax):\n",
    "    ax = df[barData].plot(kind='bar', title=evalparm, figsize=(10,6), legend=True, fontsize=12)\n",
    "    ax.set_xlabel(evalparm, fontsize=12)\n",
    "    ax.set_ylim([yMin,yMax])\n",
    "    ax.set_ylabel(barData, fontsize=12)\n",
    "    ax2 = ax.twinx()\n",
    "    ax2.plot(df[lineData].values, linestyle='-', marker='o', linewidth=2.0, color='r')\n",
    "    plt.show()\n",
    "    \n",
    "def evalParameter(trainData, validationData, evalparm, lambdaParmList):\n",
    "    metrics = [trainEvaluateModel(trainData, validationData, lambdaParm)\n",
    "               for lambdaParm in lambdaParmList]\n",
    "    \n",
    "    if evalparm == \"lambdaParm\":\n",
    "       IndexList=lambdaParmList[:] \n",
    "   \n",
    "    df = pd.DataFrame(metrics, index=IndexList,\n",
    "                  columns=[\"AUC\", \"duration\", \"lambdaParm\", \"model\"])\n",
    "    showchart(df, evalparm, 'AUC', 'duration', 0.5, 0.7)"
   ]
  },
  {
   "cell_type": "code",
   "execution_count": 12,
   "metadata": {
    "collapsed": false
   },
   "outputs": [
    {
     "name": "stdout",
     "output_type": "stream",
     "text": [
      "train evaluation(params):, lambda=1.0\n",
      "==>required time:1.17403507233 ,AUC=0.639109325297\n",
      "train evaluation(params):, lambda=3.0\n",
      "==>required time:0.460036993027 ,AUC=0.639109325297\n",
      "train evaluation(params):, lambda=5.0\n",
      "==>required time:0.491184949875 ,AUC=0.639109325297\n",
      "train evaluation(params):, lambda=15.0\n",
      "==>required time:0.444716215134 ,AUC=0.640490540767\n",
      "train evaluation(params):, lambda=25.0\n",
      "==>required time:0.401885986328 ,AUC=0.640490540767\n",
      "train evaluation(params):, lambda=30.0\n",
      "==>required time:0.401713132858 ,AUC=0.640490540767\n",
      "train evaluation(params):, lambda=35.0\n",
      "==>required time:0.429584026337 ,AUC=0.640490540767\n",
      "train evaluation(params):, lambda=40.0\n",
      "==>required time:0.350908041 ,AUC=0.640490540767\n",
      "train evaluation(params):, lambda=45.0\n",
      "==>required time:0.470574140549 ,AUC=0.640490540767\n",
      "train evaluation(params):, lambda=50.0\n",
      "==>required time:0.474599123001 ,AUC=0.640490540767\n",
      "train evaluation(params):, lambda=60.0\n",
      "==>required time:0.473206996918 ,AUC=0.640356604721\n"
     ]
    },
    {
     "data": {
      "image/png": "[encoded data removed]",
      "text/plain": [
       "<matplotlib.figure.Figure at 0x7f4ac3d86390>"
      ]
     },
     "metadata": {},
     "output_type": "display_data"
    }
   ],
   "source": [
    "evalParameter(trainData, validationData, \n",
    "              \"lambdaParm\", lambdaParmList=[1.0, 3.0, 5.0, 15.0, 25.0, 30.0, 35.0, 40.0, 45.0, 50.0, 60.0])"
   ]
  },
  {
   "cell_type": "code",
   "execution_count": null,
   "metadata": {
    "collapsed": false
   },
   "outputs": [],
   "source": []
  },
  {
   "cell_type": "code",
   "execution_count": null,
   "metadata": {
    "collapsed": false
   },
   "outputs": [],
   "source": []
  },
  {
   "cell_type": "markdown",
   "metadata": {
    "collapsed": true
   },
   "source": [
    "# Evaluation Process:multi-variables"
   ]
  },
  {
   "cell_type": "code",
   "execution_count": 16,
   "metadata": {
    "collapsed": true
   },
   "outputs": [],
   "source": [
    "def evalAllParameter(trainData, validationData, lambdaParmList):\n",
    "    metrics = [trainEvaluateModel(trainData, validationData, lambdaParm)\n",
    "               for lambdaParm in lambdaParmList]\n",
    "    \n",
    "    Smetrics = sorted(metrics, key=lambda k: k[0], reverse=True)\n",
    "    bestParameter = Smetrics[0]\n",
    "    print(\"The best parameters: numIterations:\" + str(bestParameter[2])+\n",
    "\n",
    "                               \"\\n, AUC = \" + str(bestParameter[0]) \n",
    "         ) \n",
    "    \n",
    "    return bestParameter[5]"
   ]
  },
  {
   "cell_type": "code",
   "execution_count": 17,
   "metadata": {
    "collapsed": false
   },
   "outputs": [
    {
     "name": "stdout",
     "output_type": "stream",
     "text": [
      "train evaluation(params):numIterations=5, stepSize=10, regPram=0.01\n",
      "==>required time:0.96582698822 ,AUC=0.617940363002\n",
      "train evaluation(params):numIterations=5, stepSize=10, regPram=0.1\n",
      "==>required time:0.594581842422 ,AUC=0.575573743956\n",
      "train evaluation(params):numIterations=5, stepSize=10, regPram=1\n",
      "==>required time:0.686473846436 ,AUC=0.652896342536\n",
      "train evaluation(params):numIterations=5, stepSize=50, regPram=0.01\n",
      "==>required time:0.567826986313 ,AUC=0.579574644775\n",
      "train evaluation(params):numIterations=5, stepSize=50, regPram=0.1\n",
      "==>required time:0.725914001465 ,AUC=0.638240448157\n",
      "train evaluation(params):numIterations=5, stepSize=50, regPram=1\n",
      "==>required time:0.718559980392 ,AUC=0.651506407775\n",
      "train evaluation(params):numIterations=5, stepSize=200, regPram=0.01\n",
      "==>required time:0.696646928787 ,AUC=0.570098456645\n",
      "train evaluation(params):numIterations=5, stepSize=200, regPram=0.1\n",
      "==>required time:0.734660863876 ,AUC=0.651506407775\n",
      "train evaluation(params):numIterations=5, stepSize=200, regPram=1\n",
      "==>required time:0.717613935471 ,AUC=0.651506407775\n",
      "train evaluation(params):numIterations=15, stepSize=10, regPram=0.01\n",
      "==>required time:0.829385995865 ,AUC=0.631375226084\n",
      "train evaluation(params):numIterations=15, stepSize=10, regPram=0.1\n",
      "==>required time:0.827184915543 ,AUC=0.602105663192\n",
      "train evaluation(params):numIterations=15, stepSize=10, regPram=1\n",
      "==>required time:0.835009813309 ,AUC=0.654244051431\n",
      "train evaluation(params):numIterations=15, stepSize=50, regPram=0.01\n",
      "==>required time:0.80112195015 ,AUC=0.586228737517\n",
      "train evaluation(params):numIterations=15, stepSize=50, regPram=0.1\n",
      "==>required time:0.746927976608 ,AUC=0.575447066358\n",
      "train evaluation(params):numIterations=15, stepSize=50, regPram=1\n",
      "==>required time:0.84925699234 ,AUC=0.651506407775\n",
      "train evaluation(params):numIterations=15, stepSize=200, regPram=0.01\n",
      "==>required time:0.701849222183 ,AUC=0.572920552033\n",
      "train evaluation(params):numIterations=15, stepSize=200, regPram=0.1\n",
      "==>required time:0.828795909882 ,AUC=0.651506407775\n",
      "train evaluation(params):numIterations=15, stepSize=200, regPram=1\n",
      "==>required time:0.71798491478 ,AUC=0.651506407775\n",
      "train evaluation(params):numIterations=25, stepSize=10, regPram=0.01\n",
      "==>required time:0.888988018036 ,AUC=0.647378829358\n",
      "train evaluation(params):numIterations=25, stepSize=10, regPram=0.1\n",
      "==>required time:0.774545907974 ,AUC=0.627585454597\n",
      "train evaluation(params):numIterations=25, stepSize=10, regPram=1\n",
      "==>required time:0.913947105408 ,AUC=0.654244051431\n",
      "train evaluation(params):numIterations=25, stepSize=50, regPram=0.01\n",
      "==>required time:0.95596408844 ,AUC=0.584923254488\n",
      "train evaluation(params):numIterations=25, stepSize=50, regPram=0.1\n",
      "==>required time:0.942947864532 ,AUC=0.570098456645\n",
      "train evaluation(params):numIterations=25, stepSize=50, regPram=1\n",
      "==>required time:0.887385129929 ,AUC=0.651506407775\n",
      "train evaluation(params):numIterations=25, stepSize=200, regPram=0.01\n",
      "==>required time:0.899119853973 ,AUC=0.574226035062\n",
      "train evaluation(params):numIterations=25, stepSize=200, regPram=0.1\n",
      "==>required time:0.912916183472 ,AUC=0.651506407775\n",
      "train evaluation(params):numIterations=25, stepSize=200, regPram=1\n",
      "==>required time:0.902617931366 ,AUC=0.651506407775\n",
      "The best parameters: numIterations:15, stepSize:10, regPram:1\n",
      ", AUC = 0.654244051431\n"
     ]
    }
   ],
   "source": [
    "model = evalAllParameter(trainData, validationData, \n",
    "                         [5, 15, 25], [10, 50, 200], [0.01, 0.1, 1])"
   ]
  },
  {
   "cell_type": "code",
   "execution_count": null,
   "metadata": {
    "collapsed": true
   },
   "outputs": [],
   "source": []
  }
 ],
 "metadata": {
  "kernelspec": {
   "display_name": "Python 2",
   "language": "python",
   "name": "python2"
  },
  "language_info": {
   "codemirror_mode": {
    "name": "ipython",
    "version": 2
   },
   "file_extension": ".py",
   "mimetype": "text/x-python",
   "name": "python",
   "nbconvert_exporter": "python",
   "pygments_lexer": "ipython2",
   "version": "2.7.13"
  }
 },
 "nbformat": 4,
 "nbformat_minor": 0
}
