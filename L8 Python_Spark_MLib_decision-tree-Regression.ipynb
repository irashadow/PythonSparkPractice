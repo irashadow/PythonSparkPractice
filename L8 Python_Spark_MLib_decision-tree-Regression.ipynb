{
 "cells": [
  {
   "cell_type": "code",
   "execution_count": 6,
   "metadata": {
    "collapsed": false
   },
   "outputs": [],
   "source": [
    "import sys\n",
    "from time import time\n",
    "import pandas as pd\n",
    "%matplotlib inline\n",
    "import matplotlib.pyplot as plt\n",
    "from pyspark import SparkConf, SparkContext\n",
    "from pyspark.mllib.tree import DecisionTree\n",
    "from pyspark.mllib.regression import LabeledPoint\n",
    "import numpy as np\n",
    "from pyspark.mllib.evaluation import RegressionMetrics\n"
   ]
  },
  {
   "cell_type": "code",
   "execution_count": 3,
   "metadata": {
    "collapsed": true
   },
   "outputs": [],
   "source": [
    "def extract_label(fields):\n",
    "    label = (fields[-1])\n",
    "    return float(label)-1\n",
    "\n",
    "def extract_features(record,featureEnd):\n",
    "    featureSeason= [convert_float(field) for field in record[2]]\n",
    "    numericalFeatures = [convert_float(field) for field in record[4:featureEnd-2]]\n",
    "    return np.concatenate((featureSeason, numericalFeatures))\n",
    "\n",
    "def convert_float(x):\n",
    "    return (0 if x=='?' else float(x))\n"
   ]
  },
  {
   "cell_type": "code",
   "execution_count": 4,
   "metadata": {
    "collapsed": false
   },
   "outputs": [],
   "source": [
    "def PrepareData(sc):\n",
    "    global Path\n",
    "    if sc.master[0:5]=='local':\n",
    "       Path = \"file:/home/hadoop/pythonwork/data/Bike-Sharing\" \n",
    "    else:\n",
    "       Path = \"hdfs:/user/hduser/Bike-Sharing\" \n",
    "    \n",
    "    print 'data loading..'\n",
    "    rawDataWithHeader = sc.textFile(Path+'/hour.csv')\n",
    "    header = rawDataWithHeader.first()\n",
    "    rawData = rawDataWithHeader.filter(lambda x: x != header)\n",
    "    lines = rawData.map(lambda x:x.split(\",\"))\n",
    "    print str(lines.count())\n",
    "    #-----------construct the training data RDD[LabeledPoint]\n",
    "    labelpointRDD = lines.map(lambda r:LabeledPoint(\n",
    "                    extract_label(r),\n",
    "                    extract_features(r, len(r) - 1)))\n",
    "    print labelpointRDD.first()\n",
    "    #randomly split the data as training data, validation data, and testing data\n",
    "    (trainData, validationData, testData) = labelpointRDD.randomSplit([8, 1, 1])\n",
    "    print('trainData size:'+str(trainData.count())+ \n",
    "          ', validData size:'+str(validationData.count())+\n",
    "          ', testData size:'+str(testData.count()))\n",
    "    return (trainData, validationData, testData)"
   ]
  },
  {
   "cell_type": "code",
   "execution_count": 5,
   "metadata": {
    "collapsed": false
   },
   "outputs": [
    {
     "name": "stdout",
     "output_type": "stream",
     "text": [
      "data loading..\n",
      "17379\n",
      "(15.0,[1.0,1.0,0.0,0.0,6.0,0.0,1.0,0.24,0.2879,0.81,0.0])\n",
      "trainData size:13845, validData size:1781, testData size:1753\n"
     ]
    },
    {
     "data": {
      "text/plain": [
       "PythonRDD[10] at RDD at PythonRDD.scala:48"
      ]
     },
     "execution_count": 5,
     "metadata": {},
     "output_type": "execute_result"
    }
   ],
   "source": [
    "(trainData, validationData, testData) = PrepareData(sc)\n",
    "trainData.persist()\n",
    "validationData.persist()\n",
    "testData.persist()"
   ]
  },
  {
   "cell_type": "code",
   "execution_count": null,
   "metadata": {
    "collapsed": false
   },
   "outputs": [],
   "source": []
  },
  {
   "cell_type": "code",
   "execution_count": 7,
   "metadata": {
    "collapsed": false
   },
   "outputs": [],
   "source": [
    "def evaluateModel(model, validationData):    \n",
    "    score = model.predict(validationData.map(lambda p: p.features)).map(lambda x: float(x)) #modify by myself\n",
    "    scoreAndLabels = score.zip(validationData.map(lambda p: p.label))\n",
    "    metrics = RegressionMetrics(scoreAndLabels)\n",
    "    RMSE = metrics.rootMeanSquaredError\n",
    "    return(RMSE)  \n",
    "\n",
    "def trainEvaluateModel(trainData, validationData, impurityParm, maxDepthParm, maxBinsParm):\n",
    "    startTime = time()\n",
    "    model = DecisionTree.trainRegressor(trainData, categoricalFeaturesInfo={}, impurity=impurityParm,\n",
    "                                        maxDepth=maxDepthParm, maxBins=maxBinsParm)\n",
    "    RMSE = evaluateModel(model, validationData)\n",
    "    duration = time() - startTime\n",
    "    print \"train evaluation(params):\" +\\\n",
    "    \"impurity=\"+str(impurityParm)+\\\n",
    "    \", maxDepth=\"+str(maxDepthParm)+\\\n",
    "    \", maxBins=\"+str(maxBinsParm)+\"\\n\"+\\\n",
    "    \"==>required time:\"+str(duration)+\\\n",
    "    \" ,RMSE=%.2f\"%(RMSE)\n",
    "    \n",
    "    return (RMSE,duration,impurityParm,maxDepthParm,maxBinsParm,model)"
   ]
  },
  {
   "cell_type": "code",
   "execution_count": 10,
   "metadata": {
    "collapsed": false
   },
   "outputs": [
    {
     "name": "stdout",
     "output_type": "stream",
     "text": [
      "[115.7764705882353, 115.7764705882353, 115.7764705882353, 5.16614420062696, 104.50248756218906]\n",
      "[92.0, 36.0, 7.0, 4.0, 60.0]\n",
      "[(115.7764705882353, 92.0), (115.7764705882353, 36.0), (115.7764705882353, 7.0), (5.16614420062696, 4.0), (104.50248756218906, 60.0)]\n",
      "129.033918776\n"
     ]
    }
   ],
   "source": [
    "\n",
    "model = DecisionTree.trainRegressor(trainData, categoricalFeaturesInfo={}, impurity=\"variance\",\n",
    "                                     maxDepth=5, maxBins=5)\n",
    "score = model.predict(validationData.map(lambda p: p.features))\n",
    "scoreAndLabels = score.zip(validationData.map(lambda p: p.label))\n",
    "print score.take(5)\n",
    "print validationData.map(lambda p: p.label).take(5)\n",
    "print scoreAndLabels.take(5)\n",
    "\n",
    "metrics = RegressionMetrics(scoreAndLabels)\n",
    "RMSE = metrics.rootMeanSquaredError\n",
    "print RMSE"
   ]
  },
  {
   "cell_type": "code",
   "execution_count": 11,
   "metadata": {
    "collapsed": false
   },
   "outputs": [
    {
     "data": {
      "text/plain": [
       "u'local[*]'"
      ]
     },
     "execution_count": 11,
     "metadata": {},
     "output_type": "execute_result"
    }
   ],
   "source": [
    "sc.master"
   ]
  },
  {
   "cell_type": "code",
   "execution_count": 13,
   "metadata": {
    "collapsed": true
   },
   "outputs": [],
   "source": [
    "def showchart(df, evalparm, barData, lineData, yMin, yMax):\n",
    "    ax = df[barData].plot(kind='bar', title=evalparm, figsize=(10,6), legend=True, fontsize=12)\n",
    "    ax.set_xlabel(evalparm, fontsize=12)\n",
    "    ax.set_ylim([yMin,yMax])\n",
    "    ax.set_ylabel(barData, fontsize=12)\n",
    "    ax2 = ax.twinx()\n",
    "    ax2.plot(df[lineData].values, linestyle='-', marker='o', linewidth=2.0, color='r')\n",
    "    plt.show()\n",
    "    \n",
    "def evalParameter(trainData, validationData, evalparm, impurityList, maxDepthList, maxBinsList):\n",
    "    metrics = [trainEvaluateModel(trainData, validationData, impurity, maxDepth, maxBins)\n",
    "               for impurity in impurityList\n",
    "               for maxDepth in maxDepthList\n",
    "               for maxBins in maxBinsList]\n",
    "    \n",
    "    if evalparm == \"impurity\":\n",
    "       IndexList=impurityList[:] \n",
    "    elif evalparm == \"maxDepth\":\n",
    "       IndexList=maxDepthList[:]  \n",
    "    elif evalparm == \"maxBins\":\n",
    "       IndexList=maxBinsList[:]\n",
    "    df = pd.DataFrame(metrics, index=IndexList,\n",
    "                  columns=[\"RMSE\", \"duration\", \"impurity\", \"maxDepth\", \"maxBins\", \"model\"])\n",
    "    showchart(df, evalparm, 'RMSE', 'duration', 0, 200)"
   ]
  },
  {
   "cell_type": "code",
   "execution_count": 14,
   "metadata": {
    "collapsed": false
   },
   "outputs": [
    {
     "name": "stdout",
     "output_type": "stream",
     "text": [
      "train evaluation(params):impurity=variance, maxDepth=3, maxBins=10\n",
      "==>required time:0.989336967468 ,RMSE=130.24\n",
      "train evaluation(params):impurity=variance, maxDepth=5, maxBins=10\n",
      "==>required time:1.00702118874 ,RMSE=115.24\n",
      "train evaluation(params):impurity=variance, maxDepth=10, maxBins=10\n",
      "==>required time:1.24399900436 ,RMSE=85.89\n",
      "train evaluation(params):impurity=variance, maxDepth=15, maxBins=10\n",
      "==>required time:2.31322789192 ,RMSE=99.36\n",
      "train evaluation(params):impurity=variance, maxDepth=20, maxBins=10\n",
      "==>required time:3.87333607674 ,RMSE=105.03\n",
      "train evaluation(params):impurity=variance, maxDepth=25, maxBins=10\n",
      "==>required time:5.45203495026 ,RMSE=107.14\n"
     ]
    },
    {
     "data": {
      "image/png": "[encoded data removed]",
      "text/plain": [
       "<matplotlib.figure.Figure at 0x7fedd9ce3fd0>"
      ]
     },
     "metadata": {},
     "output_type": "display_data"
    }
   ],
   "source": [
    "evalParameter(trainData, validationData, \n",
    "              \"maxDepth\", impurityList=[\"variance\"], \n",
    "              maxDepthList=[3, 5, 10, 15, 20, 25], maxBinsList=[10])"
   ]
  },
  {
   "cell_type": "code",
   "execution_count": 15,
   "metadata": {
    "collapsed": false
   },
   "outputs": [
    {
     "name": "stdout",
     "output_type": "stream",
     "text": [
      "train evaluation(params):impurity=variance, maxDepth=10, maxBins=3\n",
      "==>required time:1.19719386101 ,RMSE=128.10\n",
      "train evaluation(params):impurity=variance, maxDepth=10, maxBins=5\n",
      "==>required time:1.07634592056 ,RMSE=116.85\n",
      "train evaluation(params):impurity=variance, maxDepth=10, maxBins=10\n",
      "==>required time:1.11586117744 ,RMSE=85.89\n",
      "train evaluation(params):impurity=variance, maxDepth=10, maxBins=50\n",
      "==>required time:1.14275813103 ,RMSE=77.84\n",
      "train evaluation(params):impurity=variance, maxDepth=10, maxBins=100\n",
      "==>required time:1.19079399109 ,RMSE=78.10\n",
      "train evaluation(params):impurity=variance, maxDepth=10, maxBins=200\n",
      "==>required time:1.22147798538 ,RMSE=78.10\n"
     ]
    },
    {
     "data": {
      "image/png": "[encoded data removed]",
      "text/plain": [
       "<matplotlib.figure.Figure at 0x7fedd9c90710>"
      ]
     },
     "metadata": {},
     "output_type": "display_data"
    }
   ],
   "source": [
    "evalParameter(trainData, validationData, \n",
    "              \"maxBins\", impurityList=[\"variance\"], \n",
    "              maxDepthList=[10], maxBinsList=[3, 5, 10, 50, 100, 200])"
   ]
  },
  {
   "cell_type": "code",
   "execution_count": 18,
   "metadata": {
    "collapsed": false
   },
   "outputs": [],
   "source": [
    "BestModel = DecisionTree.trainRegressor(trainData, categoricalFeaturesInfo={}, impurity=\"variance\",\n",
    "                                     maxDepth=10, maxBins=50)"
   ]
  },
  {
   "cell_type": "code",
   "execution_count": null,
   "metadata": {
    "collapsed": true
   },
   "outputs": [],
   "source": []
  },
  {
   "cell_type": "code",
   "execution_count": null,
   "metadata": {
    "collapsed": false
   },
   "outputs": [],
   "source": []
  },
  {
   "cell_type": "code",
   "execution_count": null,
   "metadata": {
    "collapsed": false
   },
   "outputs": [],
   "source": []
  },
  {
   "cell_type": "code",
   "execution_count": null,
   "metadata": {
    "collapsed": true
   },
   "outputs": [],
   "source": []
  }
 ],
 "metadata": {
  "kernelspec": {
   "display_name": "Python 2",
   "language": "python",
   "name": "python2"
  },
  "language_info": {
   "codemirror_mode": {
    "name": "ipython",
    "version": 2
   },
   "file_extension": ".py",
   "mimetype": "text/x-python",
   "name": "python",
   "nbconvert_exporter": "python",
   "pygments_lexer": "ipython2",
   "version": "2.7.13"
  }
 },
 "nbformat": 4,
 "nbformat_minor": 0
}
