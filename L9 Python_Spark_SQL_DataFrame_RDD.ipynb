{
 "cells": [
  {
   "cell_type": "code",
   "execution_count": 1,
   "metadata": {
    "collapsed": true
   },
   "outputs": [],
   "source": [
    "Path = \"hdfs:/user/hduser/MovieRecom/ml-100k\"  "
   ]
  },
  {
   "cell_type": "code",
   "execution_count": 2,
   "metadata": {
    "collapsed": false
   },
   "outputs": [
    {
     "name": "stdout",
     "output_type": "stream",
     "text": [
      "943\n",
      "1|24|M|technician|85711\n"
     ]
    }
   ],
   "source": [
    "rawUserData = sc.textFile(Path+'/u.user')\n",
    "print rawUserData.count()\n",
    "print rawUserData.first()"
   ]
  },
  {
   "cell_type": "markdown",
   "metadata": {},
   "source": [
    "# Establish DataFrame"
   ]
  },
  {
   "cell_type": "code",
   "execution_count": 3,
   "metadata": {
    "collapsed": false
   },
   "outputs": [
    {
     "data": {
      "text/plain": [
       "[u'1|24|M|technician|85711',\n",
       " u'2|53|F|other|94043',\n",
       " u'3|23|M|writer|32067',\n",
       " u'4|24|M|technician|43537',\n",
       " u'5|33|F|other|15213',\n",
       " u'6|42|M|executive|98101',\n",
       " u'7|57|M|administrator|91344']"
      ]
     },
     "execution_count": 3,
     "metadata": {},
     "output_type": "execute_result"
    }
   ],
   "source": [
    "rawUserData.take(7)"
   ]
  },
  {
   "cell_type": "code",
   "execution_count": 4,
   "metadata": {
    "collapsed": false
   },
   "outputs": [
    {
     "data": {
      "text/plain": [
       "[[u'1', u'24', u'M', u'technician', u'85711'],\n",
       " [u'2', u'53', u'F', u'other', u'94043'],\n",
       " [u'3', u'23', u'M', u'writer', u'32067'],\n",
       " [u'4', u'24', u'M', u'technician', u'43537'],\n",
       " [u'5', u'33', u'F', u'other', u'15213'],\n",
       " [u'6', u'42', u'M', u'executive', u'98101'],\n",
       " [u'7', u'57', u'M', u'administrator', u'91344']]"
      ]
     },
     "execution_count": 4,
     "metadata": {},
     "output_type": "execute_result"
    }
   ],
   "source": [
    "userRDD = rawUserData.map(lambda line: line.split(\"|\"))\n",
    "userRDD.take(7)"
   ]
  },
  {
   "cell_type": "code",
   "execution_count": 5,
   "metadata": {
    "collapsed": true
   },
   "outputs": [],
   "source": [
    "from pyspark.sql import SQLContext\n",
    "sqlContext = SQLContext(sc)"
   ]
  },
  {
   "cell_type": "code",
   "execution_count": 6,
   "metadata": {
    "collapsed": false
   },
   "outputs": [
    {
     "data": {
      "text/plain": [
       "[Row(age=24, gender=u'M', occupation=u'technician', userid=1, zipcode=u'85711'),\n",
       " Row(age=53, gender=u'F', occupation=u'other', userid=2, zipcode=u'94043'),\n",
       " Row(age=23, gender=u'M', occupation=u'writer', userid=3, zipcode=u'32067'),\n",
       " Row(age=24, gender=u'M', occupation=u'technician', userid=4, zipcode=u'43537'),\n",
       " Row(age=33, gender=u'F', occupation=u'other', userid=5, zipcode=u'15213')]"
      ]
     },
     "execution_count": 6,
     "metadata": {},
     "output_type": "execute_result"
    }
   ],
   "source": [
    "from pyspark.sql import Row\n",
    "user_Rows = userRDD.map(lambda p:\n",
    "     Row(\n",
    "         userid=int(p[0]),\n",
    "         age=int(p[1]),\n",
    "         gender=p[2],\n",
    "         occupation=p[3],\n",
    "         zipcode=p[4]\n",
    "    )                              \n",
    ")\n",
    "user_Rows.take(5)"
   ]
  },
  {
   "cell_type": "code",
   "execution_count": 7,
   "metadata": {
    "collapsed": false
   },
   "outputs": [
    {
     "name": "stdout",
     "output_type": "stream",
     "text": [
      "root\n",
      " |-- age: long (nullable = true)\n",
      " |-- gender: string (nullable = true)\n",
      " |-- occupation: string (nullable = true)\n",
      " |-- userid: long (nullable = true)\n",
      " |-- zipcode: string (nullable = true)\n",
      "\n"
     ]
    }
   ],
   "source": [
    "user_df = sqlContext.createDataFrame(user_Rows)\n",
    "user_df.printSchema()"
   ]
  },
  {
   "cell_type": "code",
   "execution_count": 8,
   "metadata": {
    "collapsed": false
   },
   "outputs": [
    {
     "name": "stdout",
     "output_type": "stream",
     "text": [
      "+---+------+----------+------+-------+\n",
      "|age|gender|occupation|userid|zipcode|\n",
      "+---+------+----------+------+-------+\n",
      "| 24|     M|technician|     1|  85711|\n",
      "| 53|     F|     other|     2|  94043|\n",
      "| 23|     M|    writer|     3|  32067|\n",
      "| 24|     M|technician|     4|  43537|\n",
      "| 33|     F|     other|     5|  15213|\n",
      "+---+------+----------+------+-------+\n",
      "only showing top 5 rows\n",
      "\n"
     ]
    }
   ],
   "source": [
    "user_df.show(5)"
   ]
  },
  {
   "cell_type": "markdown",
   "metadata": {},
   "source": [
    "# Spark SQL"
   ]
  },
  {
   "cell_type": "code",
   "execution_count": 9,
   "metadata": {
    "collapsed": true
   },
   "outputs": [],
   "source": [
    "user_df.registerTempTable(\"user_table\")"
   ]
  },
  {
   "cell_type": "code",
   "execution_count": 10,
   "metadata": {
    "collapsed": false
   },
   "outputs": [
    {
     "name": "stdout",
     "output_type": "stream",
     "text": [
      "+------+\n",
      "|counts|\n",
      "+------+\n",
      "|   943|\n",
      "+------+\n",
      "\n"
     ]
    }
   ],
   "source": [
    "sqlContext.sql(\"SELECT count(*) counts FROM user_table\").show()"
   ]
  },
  {
   "cell_type": "code",
   "execution_count": 11,
   "metadata": {
    "collapsed": false
   },
   "outputs": [
    {
     "name": "stdout",
     "output_type": "stream",
     "text": [
      "+------+\n",
      "|counts|\n",
      "+------+\n",
      "|   943|\n",
      "+------+\n",
      "\n"
     ]
    }
   ],
   "source": [
    "sqlContext.sql(\"\"\"\n",
    "SELECT count(*) counts \n",
    "FROM user_table\n",
    "\"\"\").show()"
   ]
  },
  {
   "cell_type": "code",
   "execution_count": 12,
   "metadata": {
    "collapsed": false
   },
   "outputs": [
    {
     "name": "stdout",
     "output_type": "stream",
     "text": [
      "+---+------+----------+------+-------+\n",
      "|age|gender|occupation|userid|zipcode|\n",
      "+---+------+----------+------+-------+\n",
      "| 24|     M|technician|     1|  85711|\n",
      "| 53|     F|     other|     2|  94043|\n",
      "| 23|     M|    writer|     3|  32067|\n",
      "| 24|     M|technician|     4|  43537|\n",
      "| 33|     F|     other|     5|  15213|\n",
      "| 42|     M| executive|     6|  98101|\n",
      "+---+------+----------+------+-------+\n",
      "\n"
     ]
    }
   ],
   "source": [
    "sqlContext.sql(\"\"\"\n",
    "SELECT * \n",
    "FROM user_table\n",
    "LIMIT 6\n",
    "\"\"\").show()"
   ]
  },
  {
   "cell_type": "markdown",
   "metadata": {},
   "source": [
    "Select partial field"
   ]
  },
  {
   "cell_type": "code",
   "execution_count": 13,
   "metadata": {
    "collapsed": false
   },
   "outputs": [
    {
     "data": {
      "text/plain": [
       "[(u'1', u'technician', u'M', u'24'),\n",
       " (u'2', u'other', u'F', u'53'),\n",
       " (u'3', u'writer', u'M', u'23'),\n",
       " (u'4', u'technician', u'M', u'24'),\n",
       " (u'5', u'other', u'F', u'33')]"
      ]
     },
     "execution_count": 13,
     "metadata": {},
     "output_type": "execute_result"
    }
   ],
   "source": [
    "userRDDnew = userRDD.map(lambda x:(x[0],x[3],x[2],x[1]))\n",
    "userRDDnew.take(5)"
   ]
  },
  {
   "cell_type": "markdown",
   "metadata": {},
   "source": [
    "method 1 (by field name)"
   ]
  },
  {
   "cell_type": "code",
   "execution_count": 14,
   "metadata": {
    "collapsed": false
   },
   "outputs": [
    {
     "name": "stdout",
     "output_type": "stream",
     "text": [
      "+------+----------+------+---+\n",
      "|userid|occupation|gender|age|\n",
      "+------+----------+------+---+\n",
      "|     1|technician|     M| 24|\n",
      "|     2|     other|     F| 53|\n",
      "|     3|    writer|     M| 23|\n",
      "|     4|technician|     M| 24|\n",
      "|     5|     other|     F| 33|\n",
      "+------+----------+------+---+\n",
      "only showing top 5 rows\n",
      "\n"
     ]
    }
   ],
   "source": [
    "user_df.select(\"userid\",\"occupation\",\"gender\",\"age\").show(5)"
   ]
  },
  {
   "cell_type": "markdown",
   "metadata": {},
   "source": [
    "method 2 (by dataframe.fieldname)"
   ]
  },
  {
   "cell_type": "code",
   "execution_count": 15,
   "metadata": {
    "collapsed": false
   },
   "outputs": [
    {
     "name": "stdout",
     "output_type": "stream",
     "text": [
      "+------+----------+------+---+\n",
      "|userid|occupation|gender|age|\n",
      "+------+----------+------+---+\n",
      "|     1|technician|     M| 24|\n",
      "|     2|     other|     F| 53|\n",
      "|     3|    writer|     M| 23|\n",
      "|     4|technician|     M| 24|\n",
      "|     5|     other|     F| 33|\n",
      "+------+----------+------+---+\n",
      "only showing top 5 rows\n",
      "\n"
     ]
    }
   ],
   "source": [
    "user_df.select(user_df.userid, user_df.occupation, user_df.gender, user_df.age).show(5)"
   ]
  },
  {
   "cell_type": "markdown",
   "metadata": {},
   "source": [
    "method 3 (by keyword)"
   ]
  },
  {
   "cell_type": "code",
   "execution_count": 16,
   "metadata": {
    "collapsed": false
   },
   "outputs": [
    {
     "name": "stdout",
     "output_type": "stream",
     "text": [
      "+------+----------+------+---+\n",
      "|userid|occupation|gender|age|\n",
      "+------+----------+------+---+\n",
      "|     1|technician|     M| 24|\n",
      "|     2|     other|     F| 53|\n",
      "|     3|    writer|     M| 23|\n",
      "|     4|technician|     M| 24|\n",
      "|     5|     other|     F| 33|\n",
      "+------+----------+------+---+\n",
      "only showing top 5 rows\n",
      "\n"
     ]
    }
   ],
   "source": [
    "user_df[user_df['userid'],user_df['occupation'],user_df['gender'],user_df['age']].show(5)"
   ]
  },
  {
   "cell_type": "markdown",
   "metadata": {},
   "source": [
    "# Add additional field"
   ]
  },
  {
   "cell_type": "code",
   "execution_count": 17,
   "metadata": {
    "collapsed": false
   },
   "outputs": [
    {
     "data": {
      "text/plain": [
       "[(u'1', u'technician', u'M', u'24', 1992),\n",
       " (u'2', u'other', u'F', u'53', 1963),\n",
       " (u'3', u'writer', u'M', u'23', 1993),\n",
       " (u'4', u'technician', u'M', u'24', 1992),\n",
       " (u'5', u'other', u'F', u'33', 1983)]"
      ]
     },
     "execution_count": 17,
     "metadata": {},
     "output_type": "execute_result"
    }
   ],
   "source": [
    "userRDDnew = userRDD.map(lambda x:(x[0],x[3],x[2],x[1],2016-int(x[1])))\n",
    "userRDDnew.take(5)"
   ]
  },
  {
   "cell_type": "code",
   "execution_count": 18,
   "metadata": {
    "collapsed": false
   },
   "outputs": [
    {
     "name": "stdout",
     "output_type": "stream",
     "text": [
      "+------+----------+------+---+------------+\n",
      "|userid|occupation|gender|age|(2016 - age)|\n",
      "+------+----------+------+---+------------+\n",
      "|     1|technician|     M| 24|        1992|\n",
      "|     2|     other|     F| 53|        1963|\n",
      "|     3|    writer|     M| 23|        1993|\n",
      "|     4|technician|     M| 24|        1992|\n",
      "|     5|     other|     F| 33|        1983|\n",
      "+------+----------+------+---+------------+\n",
      "only showing top 5 rows\n",
      "\n"
     ]
    }
   ],
   "source": [
    "user_df.select(\"userid\",\"occupation\",\"gender\",\"age\",2016-user_df.age).show(5)"
   ]
  },
  {
   "cell_type": "code",
   "execution_count": 19,
   "metadata": {
    "collapsed": false
   },
   "outputs": [
    {
     "name": "stdout",
     "output_type": "stream",
     "text": [
      "+------+----------+------+---+---------+\n",
      "|userid|occupation|gender|age|birthyear|\n",
      "+------+----------+------+---+---------+\n",
      "|     1|technician|     M| 24|     1992|\n",
      "|     2|     other|     F| 53|     1963|\n",
      "|     3|    writer|     M| 23|     1993|\n",
      "|     4|technician|     M| 24|     1992|\n",
      "|     5|     other|     F| 33|     1983|\n",
      "+------+----------+------+---+---------+\n",
      "only showing top 5 rows\n",
      "\n"
     ]
    }
   ],
   "source": [
    "user_df.select(\"userid\",\"occupation\",\"gender\",\"age\",(2016-user_df.age).alias(\"birthyear\")).show(5)"
   ]
  },
  {
   "cell_type": "markdown",
   "metadata": {},
   "source": [
    "# data filtering"
   ]
  },
  {
   "cell_type": "code",
   "execution_count": 20,
   "metadata": {
    "collapsed": false
   },
   "outputs": [
    {
     "data": {
      "text/plain": [
       "[[u'1', u'24', u'M', u'technician', u'85711'],\n",
       " [u'4', u'24', u'M', u'technician', u'43537'],\n",
       " [u'456', u'24', u'M', u'technician', u'31820'],\n",
       " [u'717', u'24', u'M', u'technician', u'84105'],\n",
       " [u'832', u'24', u'M', u'technician', u'77042'],\n",
       " [u'889', u'24', u'M', u'technician', u'78704']]"
      ]
     },
     "execution_count": 20,
     "metadata": {},
     "output_type": "execute_result"
    }
   ],
   "source": [
    "userRDD.filter(lambda r: r[3]=='technician' and r[2]=='M' and r[1]=='24').take(6)"
   ]
  },
  {
   "cell_type": "code",
   "execution_count": 21,
   "metadata": {
    "collapsed": false
   },
   "outputs": [
    {
     "name": "stdout",
     "output_type": "stream",
     "text": [
      "+---+------+----------+------+-------+\n",
      "|age|gender|occupation|userid|zipcode|\n",
      "+---+------+----------+------+-------+\n",
      "| 24|     M|technician|     1|  85711|\n",
      "| 24|     M|technician|     4|  43537|\n",
      "| 24|     M|technician|   456|  31820|\n",
      "| 24|     M|technician|   717|  84105|\n",
      "| 24|     M|technician|   832|  77042|\n",
      "| 24|     M|technician|   889|  78704|\n",
      "+---+------+----------+------+-------+\n",
      "\n"
     ]
    }
   ],
   "source": [
    "user_df.filter(\"occupation='technician'\").filter(\"gender='M'\").filter(\"age='24'\").show()"
   ]
  },
  {
   "cell_type": "code",
   "execution_count": 22,
   "metadata": {
    "collapsed": false
   },
   "outputs": [
    {
     "name": "stdout",
     "output_type": "stream",
     "text": [
      "+---+------+----------+------+-------+\n",
      "|age|gender|occupation|userid|zipcode|\n",
      "+---+------+----------+------+-------+\n",
      "| 24|     M|technician|     1|  85711|\n",
      "| 24|     M|technician|     4|  43537|\n",
      "| 24|     M|technician|   456|  31820|\n",
      "| 24|     M|technician|   717|  84105|\n",
      "| 24|     M|technician|   832|  77042|\n",
      "| 24|     M|technician|   889|  78704|\n",
      "+---+------+----------+------+-------+\n",
      "\n"
     ]
    }
   ],
   "source": [
    "#oneline mode\n",
    "user_df.filter(\"occupation='technician' and gender='M' and age=24\").show()"
   ]
  },
  {
   "cell_type": "code",
   "execution_count": 23,
   "metadata": {
    "collapsed": false
   },
   "outputs": [
    {
     "name": "stdout",
     "output_type": "stream",
     "text": [
      "+---+------+----------+------+-------+\n",
      "|age|gender|occupation|userid|zipcode|\n",
      "+---+------+----------+------+-------+\n",
      "| 24|     M|technician|     1|  85711|\n",
      "| 24|     M|technician|     4|  43537|\n",
      "| 24|     M|technician|   456|  31820|\n",
      "| 24|     M|technician|   717|  84105|\n",
      "| 24|     M|technician|   832|  77042|\n",
      "| 24|     M|technician|   889|  78704|\n",
      "+---+------+----------+------+-------+\n",
      "\n"
     ]
    }
   ],
   "source": [
    "user_df.filter((user_df.occupation=='technician') & (user_df.gender=='M') & (user_df.age==24)).show()"
   ]
  },
  {
   "cell_type": "code",
   "execution_count": 24,
   "metadata": {
    "collapsed": false
   },
   "outputs": [
    {
     "name": "stdout",
     "output_type": "stream",
     "text": [
      "+---+------+----------+------+-------+\n",
      "|age|gender|occupation|userid|zipcode|\n",
      "+---+------+----------+------+-------+\n",
      "| 24|     M|technician|     1|  85711|\n",
      "| 24|     M|technician|     4|  43537|\n",
      "| 24|     M|technician|   456|  31820|\n",
      "| 24|     M|technician|   717|  84105|\n",
      "| 24|     M|technician|   832|  77042|\n",
      "| 24|     M|technician|   889|  78704|\n",
      "+---+------+----------+------+-------+\n",
      "\n"
     ]
    }
   ],
   "source": [
    "user_df.filter((user_df['occupation']=='technician') & (user_df['gender']=='M') & (user_df['age']==24)).show()"
   ]
  },
  {
   "cell_type": "markdown",
   "metadata": {},
   "source": [
    "# Data ordering"
   ]
  },
  {
   "cell_type": "code",
   "execution_count": 25,
   "metadata": {
    "collapsed": false
   },
   "outputs": [
    {
     "data": {
      "text/plain": [
       "[[u'30', u'7', u'M', u'student', u'55436'],\n",
       " [u'471', u'10', u'M', u'student', u'77459'],\n",
       " [u'289', u'11', u'M', u'none', u'94619'],\n",
       " [u'142', u'13', u'M', u'other', u'48118'],\n",
       " [u'609', u'13', u'F', u'student', u'55106']]"
      ]
     },
     "execution_count": 25,
     "metadata": {},
     "output_type": "execute_result"
    }
   ],
   "source": [
    "userRDD.takeOrdered(5, key = lambda x:int(x[1]))"
   ]
  },
  {
   "cell_type": "code",
   "execution_count": 26,
   "metadata": {
    "collapsed": false
   },
   "outputs": [
    {
     "data": {
      "text/plain": [
       "[[u'481', u'73', u'M', u'retired', u'37771'],\n",
       " [u'767', u'70', u'M', u'engineer', u'00000'],\n",
       " [u'803', u'70', u'M', u'administrator', u'78212'],\n",
       " [u'860', u'70', u'F', u'retired', u'48322'],\n",
       " [u'559', u'69', u'M', u'executive', u'10022']]"
      ]
     },
     "execution_count": 26,
     "metadata": {},
     "output_type": "execute_result"
    }
   ],
   "source": [
    "userRDD.takeOrdered(5, key = lambda x:-1*int(x[1]))"
   ]
  },
  {
   "cell_type": "code",
   "execution_count": 27,
   "metadata": {
    "collapsed": false
   },
   "outputs": [
    {
     "name": "stdout",
     "output_type": "stream",
     "text": [
      "+------+----------+------+---+\n",
      "|userid|occupation|gender|age|\n",
      "+------+----------+------+---+\n",
      "|    30|   student|     M|  7|\n",
      "|   471|   student|     M| 10|\n",
      "|   289|      none|     M| 11|\n",
      "|   142|     other|     M| 13|\n",
      "|   609|   student|     F| 13|\n",
      "+------+----------+------+---+\n",
      "only showing top 5 rows\n",
      "\n"
     ]
    }
   ],
   "source": [
    "sqlContext.sql(\"\"\"\n",
    "SELECT userid,occupation,gender,age \n",
    "FROM user_table\n",
    "ORDER BY age\n",
    "\"\"\").show(5)"
   ]
  },
  {
   "cell_type": "code",
   "execution_count": 28,
   "metadata": {
    "collapsed": false
   },
   "outputs": [
    {
     "name": "stdout",
     "output_type": "stream",
     "text": [
      "+------+-------------+------+---+\n",
      "|userid|   occupation|gender|age|\n",
      "+------+-------------+------+---+\n",
      "|   481|      retired|     M| 73|\n",
      "|   860|      retired|     F| 70|\n",
      "|   767|     engineer|     M| 70|\n",
      "|   803|administrator|     M| 70|\n",
      "|   559|    executive|     M| 69|\n",
      "+------+-------------+------+---+\n",
      "only showing top 5 rows\n",
      "\n"
     ]
    }
   ],
   "source": [
    "sqlContext.sql(\"\"\"\n",
    "SELECT userid,occupation,gender,age \n",
    "FROM user_table\n",
    "ORDER BY age DESC\n",
    "\"\"\").show(5)"
   ]
  },
  {
   "cell_type": "code",
   "execution_count": 29,
   "metadata": {
    "collapsed": false
   },
   "outputs": [
    {
     "name": "stdout",
     "output_type": "stream",
     "text": [
      "+------+----------+------+---+\n",
      "|userid|occupation|gender|age|\n",
      "+------+----------+------+---+\n",
      "|    30|   student|     M|  7|\n",
      "|   471|   student|     M| 10|\n",
      "|   289|      none|     M| 11|\n",
      "|   142|     other|     M| 13|\n",
      "|   609|   student|     F| 13|\n",
      "+------+----------+------+---+\n",
      "only showing top 5 rows\n",
      "\n"
     ]
    }
   ],
   "source": [
    "user_df.select(\"userid\",\"occupation\",\"gender\",\"age\").orderBy(\"age\").show(5)"
   ]
  },
  {
   "cell_type": "code",
   "execution_count": 30,
   "metadata": {
    "collapsed": false
   },
   "outputs": [
    {
     "name": "stdout",
     "output_type": "stream",
     "text": [
      "+------+----------+------+---+\n",
      "|userid|occupation|gender|age|\n",
      "+------+----------+------+---+\n",
      "|    30|   student|     M|  7|\n",
      "|   471|   student|     M| 10|\n",
      "|   289|      none|     M| 11|\n",
      "|   142|     other|     M| 13|\n",
      "|   609|   student|     F| 13|\n",
      "+------+----------+------+---+\n",
      "only showing top 5 rows\n",
      "\n"
     ]
    }
   ],
   "source": [
    "user_df.select(\"userid\",\"occupation\",\"gender\",\"age\").orderBy(user_df.age).show(5)"
   ]
  },
  {
   "cell_type": "code",
   "execution_count": 31,
   "metadata": {
    "collapsed": false
   },
   "outputs": [
    {
     "name": "stdout",
     "output_type": "stream",
     "text": [
      "+------+-------------+------+---+\n",
      "|userid|   occupation|gender|age|\n",
      "+------+-------------+------+---+\n",
      "|   481|      retired|     M| 73|\n",
      "|   860|      retired|     F| 70|\n",
      "|   767|     engineer|     M| 70|\n",
      "|   803|administrator|     M| 70|\n",
      "|   559|    executive|     M| 69|\n",
      "+------+-------------+------+---+\n",
      "only showing top 5 rows\n",
      "\n"
     ]
    }
   ],
   "source": [
    "user_df.select(\"userid\",\"occupation\",\"gender\",\"age\").orderBy(\"age\", ascending=0).show(5)"
   ]
  },
  {
   "cell_type": "code",
   "execution_count": 32,
   "metadata": {
    "collapsed": false
   },
   "outputs": [
    {
     "name": "stdout",
     "output_type": "stream",
     "text": [
      "+------+-------------+------+---+\n",
      "|userid|   occupation|gender|age|\n",
      "+------+-------------+------+---+\n",
      "|   481|      retired|     M| 73|\n",
      "|   860|      retired|     F| 70|\n",
      "|   767|     engineer|     M| 70|\n",
      "|   803|administrator|     M| 70|\n",
      "|   559|    executive|     M| 69|\n",
      "+------+-------------+------+---+\n",
      "only showing top 5 rows\n",
      "\n"
     ]
    }
   ],
   "source": [
    "user_df.select(\"userid\",\"occupation\",\"gender\",\"age\").orderBy(user_df.age.desc()).show(5)"
   ]
  },
  {
   "cell_type": "code",
   "execution_count": 33,
   "metadata": {
    "collapsed": false
   },
   "outputs": [
    {
     "data": {
      "text/plain": [
       "[[u'481', u'73', u'M', u'retired', u'37771'],\n",
       " [u'860', u'70', u'F', u'retired', u'48322'],\n",
       " [u'767', u'70', u'M', u'engineer', u'00000'],\n",
       " [u'803', u'70', u'M', u'administrator', u'78212'],\n",
       " [u'559', u'69', u'M', u'executive', u'10022']]"
      ]
     },
     "execution_count": 33,
     "metadata": {},
     "output_type": "execute_result"
    }
   ],
   "source": [
    "userRDD.takeOrdered(5,key = lambda x:(-int(x[1]),x[2]))"
   ]
  },
  {
   "cell_type": "code",
   "execution_count": 35,
   "metadata": {
    "collapsed": false
   },
   "outputs": [
    {
     "name": "stdout",
     "output_type": "stream",
     "text": [
      "+------+---+------+-------------+-------+\n",
      "|userid|age|gender|   occupation|zipcode|\n",
      "+------+---+------+-------------+-------+\n",
      "|   481| 73|     M|      retired|  37771|\n",
      "|   860| 70|     F|      retired|  48322|\n",
      "|   803| 70|     M|administrator|  78212|\n",
      "|   767| 70|     M|     engineer|  00000|\n",
      "|   559| 69|     M|    executive|  10022|\n",
      "+------+---+------+-------------+-------+\n",
      "only showing top 5 rows\n",
      "\n"
     ]
    }
   ],
   "source": [
    "sqlContext.sql(\"\"\"\n",
    "SELECT userid,age,gender,occupation,zipcode\n",
    "FROM user_table\n",
    "ORDER BY age DESC,gender\n",
    "\"\"\").show(5)"
   ]
  },
  {
   "cell_type": "code",
   "execution_count": 37,
   "metadata": {
    "collapsed": false
   },
   "outputs": [
    {
     "name": "stdout",
     "output_type": "stream",
     "text": [
      "+---+------+-------------+------+-------+\n",
      "|age|gender|   occupation|userid|zipcode|\n",
      "+---+------+-------------+------+-------+\n",
      "| 73|     M|      retired|   481|  37771|\n",
      "| 70|     F|      retired|   860|  48322|\n",
      "| 70|     M|     engineer|   767|  00000|\n",
      "| 70|     M|administrator|   803|  78212|\n",
      "| 69|     M|    executive|   559|  10022|\n",
      "+---+------+-------------+------+-------+\n",
      "only showing top 5 rows\n",
      "\n"
     ]
    }
   ],
   "source": [
    "user_df.orderBy([\"age\",\"gender\"],ascending=[0,1]).show(5)"
   ]
  },
  {
   "cell_type": "code",
   "execution_count": 39,
   "metadata": {
    "collapsed": false
   },
   "outputs": [
    {
     "name": "stdout",
     "output_type": "stream",
     "text": [
      "+---+------+-------------+------+-------+\n",
      "|age|gender|   occupation|userid|zipcode|\n",
      "+---+------+-------------+------+-------+\n",
      "| 73|     M|      retired|   481|  37771|\n",
      "| 70|     F|      retired|   860|  48322|\n",
      "| 70|     M|administrator|   803|  78212|\n",
      "| 70|     M|     engineer|   767|  00000|\n",
      "| 69|     M|    executive|   559|  10022|\n",
      "+---+------+-------------+------+-------+\n",
      "only showing top 5 rows\n",
      "\n"
     ]
    }
   ],
   "source": [
    "user_df.orderBy(user_df.age.desc(),user_df.gender).show(5)"
   ]
  },
  {
   "cell_type": "markdown",
   "metadata": {},
   "source": [
    "# DISTINCT Data"
   ]
  },
  {
   "cell_type": "code",
   "execution_count": 44,
   "metadata": {
    "collapsed": false
   },
   "outputs": [
    {
     "data": {
      "text/plain": [
       "[u'M', u'F']"
      ]
     },
     "execution_count": 44,
     "metadata": {},
     "output_type": "execute_result"
    }
   ],
   "source": [
    "userRDD.map(lambda x:x[2]).distinct().collect()"
   ]
  },
  {
   "cell_type": "code",
   "execution_count": 45,
   "metadata": {
    "collapsed": false
   },
   "outputs": [
    {
     "name": "stdout",
     "output_type": "stream",
     "text": [
      "+---+------+\n",
      "|age|gender|\n",
      "+---+------+\n",
      "| 39|     F|\n",
      "| 48|     M|\n",
      "| 26|     M|\n",
      "| 28|     M|\n",
      "| 54|     M|\n",
      "+---+------+\n",
      "only showing top 5 rows\n",
      "\n"
     ]
    }
   ],
   "source": [
    "sqlContext.sql(\"\"\"\n",
    "SELECT distinct age,gender FROM user_table\n",
    "\"\"\").show(5)"
   ]
  },
  {
   "cell_type": "code",
   "execution_count": 46,
   "metadata": {
    "collapsed": false
   },
   "outputs": [
    {
     "name": "stdout",
     "output_type": "stream",
     "text": [
      "+------+\n",
      "|gender|\n",
      "+------+\n",
      "|     F|\n",
      "|     M|\n",
      "+------+\n",
      "\n"
     ]
    }
   ],
   "source": [
    "user_df.select(\"gender\").distinct().show()"
   ]
  },
  {
   "cell_type": "code",
   "execution_count": 48,
   "metadata": {
    "collapsed": false
   },
   "outputs": [
    {
     "name": "stdout",
     "output_type": "stream",
     "text": [
      "+---+------+\n",
      "|age|gender|\n",
      "+---+------+\n",
      "| 39|     F|\n",
      "| 48|     M|\n",
      "| 26|     M|\n",
      "| 28|     M|\n",
      "| 54|     M|\n",
      "+---+------+\n",
      "only showing top 5 rows\n",
      "\n"
     ]
    }
   ],
   "source": [
    "user_df.select(\"age\",\"gender\").distinct().show(5)"
   ]
  },
  {
   "cell_type": "markdown",
   "metadata": {},
   "source": [
    "# Statistics"
   ]
  },
  {
   "cell_type": "code",
   "execution_count": 49,
   "metadata": {
    "collapsed": false
   },
   "outputs": [
    {
     "data": {
      "text/plain": [
       "[(u'M', 670), (u'F', 273)]"
      ]
     },
     "execution_count": 49,
     "metadata": {},
     "output_type": "execute_result"
    }
   ],
   "source": [
    "userRDD.map(lambda x:(x[2],1))\\\n",
    "       .reduceByKey(lambda x,y:x+y).collect()"
   ]
  },
  {
   "cell_type": "code",
   "execution_count": 52,
   "metadata": {
    "collapsed": false
   },
   "outputs": [
    {
     "data": {
      "text/plain": [
       "[((u'M', u'administrator'), 43),\n",
       " ((u'M', u'salesman'), 9),\n",
       " ((u'M', u'technician'), 26),\n",
       " ((u'M', u'none'), 5),\n",
       " ((u'F', u'healthcare'), 11),\n",
       " ((u'M', u'programmer'), 60),\n",
       " ((u'F', u'entertainment'), 2),\n",
       " ((u'F', u'artist'), 13),\n",
       " ((u'M', u'student'), 136),\n",
       " ((u'F', u'other'), 36),\n",
       " ((u'F', u'educator'), 26),\n",
       " ((u'M', u'retired'), 13),\n",
       " ((u'F', u'engineer'), 2),\n",
       " ((u'F', u'executive'), 3),\n",
       " ((u'F', u'writer'), 19),\n",
       " ((u'F', u'scientist'), 3),\n",
       " ((u'F', u'librarian'), 29),\n",
       " ((u'M', u'homemaker'), 1),\n",
       " ((u'M', u'lawyer'), 10),\n",
       " ((u'F', u'marketing'), 10),\n",
       " ((u'F', u'retired'), 1),\n",
       " ((u'M', u'writer'), 26),\n",
       " ((u'F', u'programmer'), 6),\n",
       " ((u'M', u'doctor'), 7),\n",
       " ((u'M', u'educator'), 69),\n",
       " ((u'F', u'technician'), 1),\n",
       " ((u'M', u'entertainment'), 16),\n",
       " ((u'M', u'librarian'), 22),\n",
       " ((u'F', u'homemaker'), 6),\n",
       " ((u'M', u'scientist'), 28),\n",
       " ((u'F', u'student'), 60),\n",
       " ((u'M', u'engineer'), 65),\n",
       " ((u'M', u'other'), 69),\n",
       " ((u'M', u'executive'), 29),\n",
       " ((u'M', u'artist'), 15),\n",
       " ((u'F', u'salesman'), 3),\n",
       " ((u'F', u'none'), 4),\n",
       " ((u'F', u'lawyer'), 2),\n",
       " ((u'M', u'marketing'), 16),\n",
       " ((u'M', u'healthcare'), 5),\n",
       " ((u'F', u'administrator'), 36)]"
      ]
     },
     "execution_count": 52,
     "metadata": {},
     "output_type": "execute_result"
    }
   ],
   "source": [
    "userRDD.map(lambda x:((x[2],x[3]),1))\\\n",
    "       .reduceByKey(lambda x,y:x+y).collect()"
   ]
  },
  {
   "cell_type": "code",
   "execution_count": 53,
   "metadata": {
    "collapsed": false
   },
   "outputs": [
    {
     "name": "stdout",
     "output_type": "stream",
     "text": [
      "+------+------+\n",
      "|gender|counts|\n",
      "+------+------+\n",
      "|     F|   273|\n",
      "|     M|   670|\n",
      "+------+------+\n",
      "\n"
     ]
    }
   ],
   "source": [
    "sqlContext.sql(\"\"\"\n",
    "SELECT gender,count(*) counts\n",
    "FROM user_table\n",
    "GROUP BY gender\n",
    "\"\"\").show(5)"
   ]
  },
  {
   "cell_type": "code",
   "execution_count": 54,
   "metadata": {
    "collapsed": false
   },
   "outputs": [
    {
     "name": "stdout",
     "output_type": "stream",
     "text": [
      "+------+-------------+------+\n",
      "|gender|   occupation|counts|\n",
      "+------+-------------+------+\n",
      "|     M|    executive|    29|\n",
      "|     M|     educator|    69|\n",
      "|     F|         none|     4|\n",
      "|     F|entertainment|     2|\n",
      "|     F|      retired|     1|\n",
      "|     F|       artist|    13|\n",
      "|     F|    librarian|    29|\n",
      "|     F|     engineer|     2|\n",
      "|     F|   healthcare|    11|\n",
      "|     F|administrator|    36|\n",
      "+------+-------------+------+\n",
      "only showing top 10 rows\n",
      "\n"
     ]
    }
   ],
   "source": [
    "sqlContext.sql(\"\"\"\n",
    "SELECT gender,occupation,count(*) counts\n",
    "FROM user_table\n",
    "GROUP BY gender,occupation\n",
    "\"\"\").show(10)"
   ]
  },
  {
   "cell_type": "code",
   "execution_count": 55,
   "metadata": {
    "collapsed": false
   },
   "outputs": [
    {
     "name": "stdout",
     "output_type": "stream",
     "text": [
      "+------+-----+\n",
      "|gender|count|\n",
      "+------+-----+\n",
      "|     F|  273|\n",
      "|     M|  670|\n",
      "+------+-----+\n",
      "\n"
     ]
    }
   ],
   "source": [
    "user_df.select(\"gender\").groupby(\"gender\").count().show()"
   ]
  },
  {
   "cell_type": "code",
   "execution_count": 56,
   "metadata": {
    "collapsed": false
   },
   "outputs": [
    {
     "name": "stdout",
     "output_type": "stream",
     "text": [
      "+------+-------------+-----+\n",
      "|gender|   occupation|count|\n",
      "+------+-------------+-----+\n",
      "|     F|administrator|   36|\n",
      "|     F|       artist|   13|\n",
      "|     F|     educator|   26|\n",
      "|     F|     engineer|    2|\n",
      "|     F|entertainment|    2|\n",
      "|     F|    executive|    3|\n",
      "|     F|   healthcare|   11|\n",
      "|     F|    homemaker|    6|\n",
      "|     F|       lawyer|    2|\n",
      "|     F|    librarian|   29|\n",
      "+------+-------------+-----+\n",
      "only showing top 10 rows\n",
      "\n"
     ]
    }
   ],
   "source": [
    "user_df.select(\"gender\",\"occupation\").groupby(\"gender\",\"occupation\").count()\\\n",
    "       .orderBy(\"gender\",\"occupation\").show(10)"
   ]
  },
  {
   "cell_type": "code",
   "execution_count": 57,
   "metadata": {
    "collapsed": false
   },
   "outputs": [
    {
     "name": "stdout",
     "output_type": "stream",
     "text": [
      "+-----------------+---+---+\n",
      "|occupation_gender|  F|  M|\n",
      "+-----------------+---+---+\n",
      "|        scientist|  3| 28|\n",
      "|          student| 60|136|\n",
      "|           writer| 19| 26|\n",
      "|         salesman|  3|  9|\n",
      "|          retired|  1| 13|\n",
      "|    administrator| 36| 43|\n",
      "|       programmer|  6| 60|\n",
      "|           doctor|  0|  7|\n",
      "|        homemaker|  6|  1|\n",
      "|        executive|  3| 29|\n",
      "+-----------------+---+---+\n",
      "only showing top 10 rows\n",
      "\n"
     ]
    }
   ],
   "source": [
    "user_df.stat.crosstab(\"occupation\",\"gender\").show(10)"
   ]
  },
  {
   "cell_type": "markdown",
   "metadata": {},
   "source": [
    "# Adding ZipCode data"
   ]
  },
  {
   "cell_type": "code",
   "execution_count": 69,
   "metadata": {
    "collapsed": false
   },
   "outputs": [
    {
     "name": "stdout",
     "output_type": "stream",
     "text": [
      "42523\n",
      "[u'\"Zipcode\",\"ZipCodeType\",\"City\",\"State\",\"LocationType\",\"Lat\",\"Long\",\"Location\",\"Decommisioned\",\"TaxReturnsFiled\",\"EstimatedPopulation\",\"TotalWages\"', u'\"00705\",\"STANDARD\",\"AIBONITO\",\"PR\",\"PRIMARY\",18.14,-66.26,\"NA-US-PR-AIBONITO\",\"false\",,,']\n"
     ]
    }
   ],
   "source": [
    "rawDataWithHeader = sc.textFile(Path+'/free-zipcode-database-Primary.csv')\n",
    "print rawDataWithHeader.count()\n",
    "print rawDataWithHeader.take(2)"
   ]
  },
  {
   "cell_type": "code",
   "execution_count": 70,
   "metadata": {
    "collapsed": false
   },
   "outputs": [
    {
     "data": {
      "text/plain": [
       "u'\"00705\",\"STANDARD\",\"AIBONITO\",\"PR\",\"PRIMARY\",18.14,-66.26,\"NA-US-PR-AIBONITO\",\"false\",,,'"
      ]
     },
     "execution_count": 70,
     "metadata": {},
     "output_type": "execute_result"
    }
   ],
   "source": [
    "header = rawDataWithHeader.first()\n",
    "rawData = rawDataWithHeader.filter(lambda x: x != header)\n",
    "rawData.first()"
   ]
  },
  {
   "cell_type": "code",
   "execution_count": 71,
   "metadata": {
    "collapsed": false
   },
   "outputs": [
    {
     "data": {
      "text/plain": [
       "u'00705,STANDARD,AIBONITO,PR,PRIMARY,18.14,-66.26,NA-US-PR-AIBONITO,false,,,'"
      ]
     },
     "execution_count": 71,
     "metadata": {},
     "output_type": "execute_result"
    }
   ],
   "source": [
    "rData = rawData.map(lambda x:x.replace(\"\\\"\",\"\"))\n",
    "rData.first()"
   ]
  },
  {
   "cell_type": "code",
   "execution_count": 72,
   "metadata": {
    "collapsed": false
   },
   "outputs": [
    {
     "data": {
      "text/plain": [
       "[u'00705',\n",
       " u'STANDARD',\n",
       " u'AIBONITO',\n",
       " u'PR',\n",
       " u'PRIMARY',\n",
       " u'18.14',\n",
       " u'-66.26',\n",
       " u'NA-US-PR-AIBONITO',\n",
       " u'false',\n",
       " u'',\n",
       " u'',\n",
       " u'']"
      ]
     },
     "execution_count": 72,
     "metadata": {},
     "output_type": "execute_result"
    }
   ],
   "source": [
    "ZipRDD = rData.map(lambda x:x.split(\",\"))\n",
    "ZipRDD.first()"
   ]
  },
  {
   "cell_type": "code",
   "execution_count": 73,
   "metadata": {
    "collapsed": false
   },
   "outputs": [
    {
     "data": {
      "text/plain": [
       "[Row(city=u'AIBONITO', state=u'PR', zipCodeType=u'STANDARD', zipcode=705),\n",
       " Row(city=u'ANASCO', state=u'PR', zipCodeType=u'STANDARD', zipcode=610),\n",
       " Row(city=u'ANGELES', state=u'PR', zipCodeType=u'PO BOX', zipcode=611),\n",
       " Row(city=u'ARECIBO', state=u'PR', zipCodeType=u'STANDARD', zipcode=612),\n",
       " Row(city=u'ADJUNTAS', state=u'PR', zipCodeType=u'STANDARD', zipcode=601)]"
      ]
     },
     "execution_count": 73,
     "metadata": {},
     "output_type": "execute_result"
    }
   ],
   "source": [
    "from pyspark.sql import Row\n",
    "zipcode_data = ZipRDD.map(lambda p: Row(\n",
    "    zipcode=int(p[0]),\n",
    "    zipCodeType=p[1],\n",
    "    city=p[2],\n",
    "    state=p[3]    \n",
    "    )\n",
    ")\n",
    "zipcode_data.take(5)"
   ]
  },
  {
   "cell_type": "code",
   "execution_count": 74,
   "metadata": {
    "collapsed": false
   },
   "outputs": [
    {
     "name": "stdout",
     "output_type": "stream",
     "text": [
      "root\n",
      " |-- city: string (nullable = true)\n",
      " |-- state: string (nullable = true)\n",
      " |-- zipCodeType: string (nullable = true)\n",
      " |-- zipcode: long (nullable = true)\n",
      "\n"
     ]
    }
   ],
   "source": [
    "zipcode_df = sqlContext.createDataFrame(zipcode_data)\n",
    "zipcode_df.printSchema()"
   ]
  },
  {
   "cell_type": "code",
   "execution_count": 76,
   "metadata": {
    "collapsed": false
   },
   "outputs": [
    {
     "name": "stdout",
     "output_type": "stream",
     "text": [
      "+--------+-----+-----------+-------+\n",
      "|    city|state|zipCodeType|zipcode|\n",
      "+--------+-----+-----------+-------+\n",
      "|AIBONITO|   PR|   STANDARD|    705|\n",
      "|  ANASCO|   PR|   STANDARD|    610|\n",
      "| ANGELES|   PR|     PO BOX|    611|\n",
      "| ARECIBO|   PR|   STANDARD|    612|\n",
      "|ADJUNTAS|   PR|   STANDARD|    601|\n",
      "+--------+-----+-----------+-------+\n",
      "only showing top 5 rows\n",
      "\n"
     ]
    }
   ],
   "source": [
    "zipcode_df.registerTempTable(\"zipcode_table\")\n",
    "zipcode_df.show(5)"
   ]
  },
  {
   "cell_type": "markdown",
   "metadata": {},
   "source": [
    "# Relational table"
   ]
  },
  {
   "cell_type": "code",
   "execution_count": 77,
   "metadata": {
    "collapsed": false
   },
   "outputs": [
    {
     "name": "stdout",
     "output_type": "stream",
     "text": [
      "+---+------+-------------+------+-------+----------+-----+\n",
      "|age|gender|   occupation|userid|zipcode|      city|state|\n",
      "+---+------+-------------+------+-------+----------+-----+\n",
      "| 45|     M|administrator|    48|  12550|  NEWBURGH|   NY|\n",
      "| 52|     F|    librarian|   204|  10960|     NYACK|   NY|\n",
      "| 42|     M|        other|   766|  10960|     NYACK|   NY|\n",
      "| 35|     F|        other|   760|  14211|   BUFFALO|   NY|\n",
      "| 32|     F|        other|   155|  11217|  BROOKLYN|   NY|\n",
      "| 30|     F|       writer|   557|  11217|  BROOKLYN|   NY|\n",
      "| 27|     M|    marketing|   806|  11217|  BROOKLYN|   NY|\n",
      "| 35|     F|     educator|   450|  11758|MASSAPEQUA|   NY|\n",
      "| 28|     F|      student|   230|  14476|   KENDALL|   NY|\n",
      "| 23|     M|administrator|   509|  10011|  NEW YORK|   NY|\n",
      "+---+------+-------------+------+-------+----------+-----+\n",
      "only showing top 10 rows\n",
      "\n"
     ]
    }
   ],
   "source": [
    "sqlContext.sql(\"\"\"\n",
    "SELECT u.*, z.city,z.state\n",
    "From user_table u\n",
    "LEFT JOIN zipcode_table z ON u.zipcode = z.zipcode\n",
    "WHERE z.state='NY'\n",
    "\"\"\").show(10)"
   ]
  },
  {
   "cell_type": "code",
   "execution_count": 79,
   "metadata": {
    "collapsed": false
   },
   "outputs": [
    {
     "name": "stdout",
     "output_type": "stream",
     "text": [
      "+-----+--------+\n",
      "|state|count(1)|\n",
      "+-----+--------+\n",
      "|   AZ|      14|\n",
      "|   SC|      11|\n",
      "|   LA|       6|\n",
      "|   MN|      78|\n",
      "|   NJ|      18|\n",
      "|   DC|      14|\n",
      "|   OR|      20|\n",
      "| null|      35|\n",
      "|   VA|      27|\n",
      "|   RI|       3|\n",
      "+-----+--------+\n",
      "only showing top 10 rows\n",
      "\n"
     ]
    }
   ],
   "source": [
    "sqlContext.sql(\"\"\"\n",
    "SELECT z.state,count(*)\n",
    "FROM user_table u\n",
    "LEFT JOIN zipcode_table z ON u.zipcode = z.zipcode\n",
    "GROUP BY z.state\n",
    "\"\"\").show(10)"
   ]
  },
  {
   "cell_type": "markdown",
   "metadata": {},
   "source": [
    "method:by dataframe.fieldname"
   ]
  },
  {
   "cell_type": "code",
   "execution_count": 80,
   "metadata": {
    "collapsed": false
   },
   "outputs": [
    {
     "name": "stdout",
     "output_type": "stream",
     "text": [
      "root\n",
      " |-- age: long (nullable = true)\n",
      " |-- gender: string (nullable = true)\n",
      " |-- occupation: string (nullable = true)\n",
      " |-- userid: long (nullable = true)\n",
      " |-- zipcode: string (nullable = true)\n",
      " |-- city: string (nullable = true)\n",
      " |-- state: string (nullable = true)\n",
      " |-- zipCodeType: string (nullable = true)\n",
      " |-- zipcode: long (nullable = true)\n",
      "\n"
     ]
    }
   ],
   "source": [
    "joined_df = user_df.join(zipcode_df,\\\n",
    "user_df.zipcode == zipcode_df.zipcode,\"left_outer\")\n",
    "joined_df.printSchema()"
   ]
  },
  {
   "cell_type": "code",
   "execution_count": 81,
   "metadata": {
    "collapsed": false
   },
   "outputs": [
    {
     "name": "stdout",
     "output_type": "stream",
     "text": [
      "+---+------+----------+------+-------+-------------+-----+-----------+-------+\n",
      "|age|gender|occupation|userid|zipcode|         city|state|zipCodeType|zipcode|\n",
      "+---+------+----------+------+-------+-------------+-----+-----------+-------+\n",
      "| 53|     F|     other|     2|  94043|MOUNTAIN VIEW|   CA|   STANDARD|  94043|\n",
      "| 53|     M|    lawyer|    10|  90703|     CERRITOS|   CA|   STANDARD|  90703|\n",
      "| 29|     M|     other|   478|  10019|     NEW YORK|   NY|   STANDARD|  10019|\n",
      "| 30|     M|programmer|   475|  75230|       DALLAS|   TX|   STANDARD|  75230|\n",
      "| 28|     M|   student|   476|  60440|  BOLINGBROOK|   IL|   STANDARD|  60440|\n",
      "| 23|     F|   student|   477|  02125|   DORCHESTER|   MA|   STANDARD|   2125|\n",
      "| 73|     M|   retired|   481|  37771|  LENOIR CITY|   TN|   STANDARD|  37771|\n",
      "| 29|     M|   student|   473|  94708|     BERKELEY|   CA|   STANDARD|  94708|\n",
      "| 23|     M|    writer|     3|  32067|  ORANGE PARK|   FL|     PO BOX|  32067|\n",
      "| 18|     F|   student|   482|  40256|   LOUISVILLE|   KY|     PO BOX|  40256|\n",
      "+---+------+----------+------+-------+-------------+-----+-----------+-------+\n",
      "only showing top 10 rows\n",
      "\n"
     ]
    }
   ],
   "source": [
    "joined_df.show(10)"
   ]
  },
  {
   "cell_type": "code",
   "execution_count": 82,
   "metadata": {
    "collapsed": false
   },
   "outputs": [
    {
     "name": "stdout",
     "output_type": "stream",
     "text": [
      "+---+------+-------------+------+-------+----------+-----+-----------+-------+\n",
      "|age|gender|   occupation|userid|zipcode|      city|state|zipCodeType|zipcode|\n",
      "+---+------+-------------+------+-------+----------+-----+-----------+-------+\n",
      "| 45|     M|administrator|    48|  12550|  NEWBURGH|   NY|   STANDARD|  12550|\n",
      "| 52|     F|    librarian|   204|  10960|     NYACK|   NY|   STANDARD|  10960|\n",
      "| 42|     M|        other|   766|  10960|     NYACK|   NY|   STANDARD|  10960|\n",
      "| 35|     F|        other|   760|  14211|   BUFFALO|   NY|   STANDARD|  14211|\n",
      "| 32|     F|        other|   155|  11217|  BROOKLYN|   NY|   STANDARD|  11217|\n",
      "| 30|     F|       writer|   557|  11217|  BROOKLYN|   NY|   STANDARD|  11217|\n",
      "| 27|     M|    marketing|   806|  11217|  BROOKLYN|   NY|   STANDARD|  11217|\n",
      "| 35|     F|     educator|   450|  11758|MASSAPEQUA|   NY|   STANDARD|  11758|\n",
      "| 28|     F|      student|   230|  14476|   KENDALL|   NY|   STANDARD|  14476|\n",
      "| 23|     M|administrator|   509|  10011|  NEW YORK|   NY|   STANDARD|  10011|\n",
      "+---+------+-------------+------+-------+----------+-----+-----------+-------+\n",
      "only showing top 10 rows\n",
      "\n"
     ]
    }
   ],
   "source": [
    "joined_df.filter(\"state='NY'\").show(10)"
   ]
  },
  {
   "cell_type": "code",
   "execution_count": 83,
   "metadata": {
    "collapsed": false
   },
   "outputs": [
    {
     "name": "stdout",
     "output_type": "stream",
     "text": [
      "+-----+-----+\n",
      "|state|count|\n",
      "+-----+-----+\n",
      "|   AZ|   14|\n",
      "|   SC|   11|\n",
      "|   LA|    6|\n",
      "|   MN|   78|\n",
      "|   NJ|   18|\n",
      "+-----+-----+\n",
      "only showing top 5 rows\n",
      "\n"
     ]
    }
   ],
   "source": [
    "GroupByState_df = joined_df.groupBy(\"state\").count()\n",
    "GroupByState_df.show(5)"
   ]
  },
  {
   "cell_type": "markdown",
   "metadata": {},
   "source": [
    "# Data Visualization"
   ]
  },
  {
   "cell_type": "code",
   "execution_count": 88,
   "metadata": {
    "collapsed": false
   },
   "outputs": [
    {
     "data": {
      "text/html": [
       "<div>\n",
       "<table border=\"1\" class=\"dataframe\">\n",
       "  <thead>\n",
       "    <tr style=\"text-align: right;\">\n",
       "      <th></th>\n",
       "      <th>count</th>\n",
       "    </tr>\n",
       "    <tr>\n",
       "      <th>state</th>\n",
       "      <th></th>\n",
       "    </tr>\n",
       "  </thead>\n",
       "  <tbody>\n",
       "    <tr>\n",
       "      <th>AZ</th>\n",
       "      <td>14</td>\n",
       "    </tr>\n",
       "    <tr>\n",
       "      <th>SC</th>\n",
       "      <td>11</td>\n",
       "    </tr>\n",
       "    <tr>\n",
       "      <th>LA</th>\n",
       "      <td>6</td>\n",
       "    </tr>\n",
       "    <tr>\n",
       "      <th>MN</th>\n",
       "      <td>78</td>\n",
       "    </tr>\n",
       "    <tr>\n",
       "      <th>NJ</th>\n",
       "      <td>18</td>\n",
       "    </tr>\n",
       "  </tbody>\n",
       "</table>\n",
       "</div>"
      ],
      "text/plain": [
       "       count\n",
       "state       \n",
       "AZ        14\n",
       "SC        11\n",
       "LA         6\n",
       "MN        78\n",
       "NJ        18"
      ]
     },
     "execution_count": 88,
     "metadata": {},
     "output_type": "execute_result"
    }
   ],
   "source": [
    "import pandas as pd\n",
    "GroupByState_pandas_df = GroupByState_df.toPandas().set_index(\"state\")\n",
    "GroupByState_pandas_df[0:5]"
   ]
  },
  {
   "cell_type": "code",
   "execution_count": 91,
   "metadata": {
    "collapsed": false
   },
   "outputs": [
    {
     "data": {
      "image/png": "[encoded data removed]",
      "text/plain": [
       "<matplotlib.figure.Figure at 0x7fa26a6514d0>"
      ]
     },
     "metadata": {},
     "output_type": "display_data"
    }
   ],
   "source": [
    "import matplotlib.pyplot as plt\n",
    "%matplotlib inline\n",
    "ax = GroupByState_pandas_df['count']\\\n",
    ".plot(kind='bar',title='State',figsize=(12,6),legend=True,fontsize=12)\n",
    "plt.show()"
   ]
  },
  {
   "cell_type": "code",
   "execution_count": 93,
   "metadata": {
    "collapsed": false
   },
   "outputs": [
    {
     "name": "stdout",
     "output_type": "stream",
     "text": [
      "+----------+------+\n",
      "|occupation|counts|\n",
      "+----------+------+\n",
      "| librarian|    51|\n",
      "|   retired|    14|\n",
      "|    lawyer|    12|\n",
      "|      none|     9|\n",
      "|    writer|    45|\n",
      "+----------+------+\n",
      "only showing top 5 rows\n",
      "\n"
     ]
    }
   ],
   "source": [
    "Occupation_df = sqlContext.sql(\"\"\"\n",
    "SELECT u.occupation,count(*) counts\n",
    "FROM user_table u\n",
    "GROUP BY occupation\n",
    "\"\"\")\n",
    "Occupation_df.show(5)"
   ]
  },
  {
   "cell_type": "code",
   "execution_count": 94,
   "metadata": {
    "collapsed": false
   },
   "outputs": [
    {
     "data": {
      "text/html": [
       "<div>\n",
       "<table border=\"1\" class=\"dataframe\">\n",
       "  <thead>\n",
       "    <tr style=\"text-align: right;\">\n",
       "      <th></th>\n",
       "      <th>counts</th>\n",
       "    </tr>\n",
       "    <tr>\n",
       "      <th>occupation</th>\n",
       "      <th></th>\n",
       "    </tr>\n",
       "  </thead>\n",
       "  <tbody>\n",
       "    <tr>\n",
       "      <th>librarian</th>\n",
       "      <td>51</td>\n",
       "    </tr>\n",
       "    <tr>\n",
       "      <th>retired</th>\n",
       "      <td>14</td>\n",
       "    </tr>\n",
       "    <tr>\n",
       "      <th>lawyer</th>\n",
       "      <td>12</td>\n",
       "    </tr>\n",
       "    <tr>\n",
       "      <th>none</th>\n",
       "      <td>9</td>\n",
       "    </tr>\n",
       "    <tr>\n",
       "      <th>writer</th>\n",
       "      <td>45</td>\n",
       "    </tr>\n",
       "  </tbody>\n",
       "</table>\n",
       "</div>"
      ],
      "text/plain": [
       "            counts\n",
       "occupation        \n",
       "librarian       51\n",
       "retired         14\n",
       "lawyer          12\n",
       "none             9\n",
       "writer          45"
      ]
     },
     "execution_count": 94,
     "metadata": {},
     "output_type": "execute_result"
    }
   ],
   "source": [
    "Occupation_pandas_df = Occupation_df.toPandas().set_index(\"occupation\")\n",
    "Occupation_pandas_df[:5]"
   ]
  },
  {
   "cell_type": "code",
   "execution_count": 97,
   "metadata": {
    "collapsed": false
   },
   "outputs": [
    {
     "data": {
      "image/png": "[encoded data removed]",
      "text/plain": [
       "<matplotlib.figure.Figure at 0x7fa26a6c21d0>"
      ]
     },
     "metadata": {},
     "output_type": "display_data"
    }
   ],
   "source": [
    "ax = Occupation_pandas_df['counts']\\\n",
    ".plot(kind='pie',title='occupation',figsize=(8,8),startangle=90,autopct='%1.1f%%')\n",
    "ax.legend(bbox_to_anchor=(1.05,1),loc=2,borderaxespad=0.)\n",
    "plt.show()"
   ]
  },
  {
   "cell_type": "code",
   "execution_count": null,
   "metadata": {
    "collapsed": true
   },
   "outputs": [],
   "source": []
  }
 ],
 "metadata": {
  "kernelspec": {
   "display_name": "Python 2",
   "language": "python",
   "name": "python2"
  },
  "language_info": {
   "codemirror_mode": {
    "name": "ipython",
    "version": 2
   },
   "file_extension": ".py",
   "mimetype": "text/x-python",
   "name": "python",
   "nbconvert_exporter": "python",
   "pygments_lexer": "ipython2",
   "version": "2.7.13"
  }
 },
 "nbformat": 4,
 "nbformat_minor": 0
}
